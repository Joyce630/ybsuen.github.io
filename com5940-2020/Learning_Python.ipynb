{
 "cells": [
  {
   "cell_type": "markdown",
   "metadata": {
    "slideshow": {
     "slide_type": "slide"
    }
   },
   "source": [
    "<h1><center> Preparing and Exploring Data in Python</center></h1>"
   ]
  },
  {
   "cell_type": "markdown",
   "metadata": {
    "slideshow": {
     "slide_type": "slide"
    }
   },
   "source": [
    "<h1><center>A Quick Overview</center></h1>\n",
    "<div style=\"margin-left:100px;\">\n",
    " <ul>\n",
    " <li>Digital Literacy in the Network Age</li>\n",
    " <li>Using Design Thinking and Computational Thinking in Problem Solving</li>\n",
    " <li>Design Thinking for Discovering User Experience and User Story</li>\n",
    " <li>Computational Thinking for Developing System and Data</li>\n",
    " <li>New Mastery in General Education: STEAM, T-shaped Learning and Digital Literacy</li>\n",
    " <li>Data Story Cycle: A Path Toward Mastery</li> \n",
    " <li>Useful tools for Navigating the Data Story Cycle in Python</li>\n",
    " </ul>\n",
    "</div>"
   ]
  },
  {
   "cell_type": "markdown",
   "metadata": {
    "slideshow": {
     "slide_type": "slide"
    }
   },
   "source": [
    "<h1><center>Digital Literacy in the Network Age</center></h1>\n",
    "<div style=\"margin-left:100px;\">\n",
    " <ul>\n",
    " <li>Rise of the mobile Internet --- We're living in the App world!</li>\n",
    " <li>Proliferation of startups around the world</li>\n",
    " <li>The \"ABCD\" of our digital future</li>\n",
    " <li>Coding across all disciplines</li>\n",
    " <li>Learning to code is like learning a foreign language</li>\n",
    " </ul>\n",
    "</div>"
   ]
  },
  {
   "cell_type": "markdown",
   "metadata": {
    "slideshow": {
     "slide_type": "slide"
    }
   },
   "source": [
    "<h1><center>What is Design Thinking?</center></h1>\n",
    "<div style=\"margin-left:100px;\">\n",
    " <ul>\n",
    " <li>User-centric approach to design with emphasis on empathetic observation and systemic innovation of user experience</li>\n",
    " <li>Design Thinking as Action Research</li>\n",
    " <li>Action research is either research initiated to solve an immediate problem or a reflective process of progressive problem solving led by individuals working with others in teams or as part of a \"community of practice\" to improve the way they address issues and solve problems.(Wikipedia)</li>\n",
    " <li>5 Steps of Design Thinking (Stanford d.school)<br>\n",
    "    <ol>\n",
    "        <li>Empathy</li>\n",
    "        <li>Definition</li>\n",
    "        <li>Ideation</li>\n",
    "        <li>Prototype</li>\n",
    "        <li>Testing</li>\n",
    "    </ol>\n",
    " </li>\n",
    " </ul>\n",
    "</div>"
   ]
  },
  {
   "cell_type": "markdown",
   "metadata": {
    "slideshow": {
     "slide_type": "slide"
    }
   },
   "source": [
    "<h1><center>What is Computational Thinking?</center></h1>\n",
    "<div style=\"margin-left:100px;\">\n",
    " <ul>\n",
    "    <li>Computational Thinking is the foundation of coding</li>\n",
    "    <li>Formulating a problem and expressing its solution(s) in such a way that a computer—human or machine—can effectively carry out.</li>\n",
    "    <li>5 Steps of Computational Thinking<br>\n",
    "        <ol>\n",
    "            <li>Decomposition: Break analysis into smaller parts</li>\n",
    "            <li>Patterns: Discover similarities in structures and processes</li>\n",
    "            <li>Abstraction: Problem formulation</li>\n",
    "            <li>Algorithm : Solution expression</li>\n",
    "            <li>Automation: Solution execution and evaluation</li>\n",
    "        </ol>\n",
    "    </li>\n",
    " </ul>\n",
    "</div>"
   ]
  },
  {
   "cell_type": "markdown",
   "metadata": {
    "slideshow": {
     "slide_type": "slide"
    }
   },
   "source": [
    "<h1><center>Design Thinking vs. Computational Thinking</center></h1>\n",
    "<div style=\"margin-left:50px;\">\n",
    "<table>\n",
    "    <thead>\n",
    "      <tr>\n",
    "          <th><div align=\"left\">Design Thinking</div></th>\n",
    "        <th><div align=\"left\">Computational Thinking</div></th>\n",
    "        <th><div align=\"left\">Description</div></th>\n",
    "      </tr>\n",
    "    </thead>\n",
    "    <tbody>\n",
    "          <tr>\n",
    "              <td><div align=\"left\">Empathy</div></td>\n",
    "            <td><div align=\"left\">Decomposition</div></td>\n",
    "            <td><div align=\"left\">Gain understanding about the problem through participant-observation vs. scientific research</div></td>  \n",
    "          </tr>\n",
    "          <tr>\n",
    "            <td><div align=\"left\">Definition</div></td>\n",
    "            <td><div align=\"left\">Patterns</div></td>\n",
    "            <td><div align=\"left\">Discover problem patterns in stories vs. data</div></td>\n",
    "          </tr>\n",
    "          <tr>\n",
    "            <td><div align=\"left\">Ideation</div></td>\n",
    "            <td><div align=\"left\">Abstraction</div></td>\n",
    "            <td><div align=\"left\">Solution expression in narrative vs. computational model</div></td>\n",
    "          </tr>\n",
    "          <tr>\n",
    "            <td><div align=\"left\">Prototype</div></td>\n",
    "            <td><div align=\"left\">Algorthmn</div></td>\n",
    "            <td><div align=\"left\">Solution expression in visual form vs. code</div></td>\n",
    "          </tr>\n",
    "          <tr>\n",
    "            <td><div align=\"left\">Testing</div></td>\n",
    "            <td><div align=\"left\">Automation</div></td>\n",
    "            <td><div align=\"left\">Solution execution and evaluation (qualitative vs. quantitative)</div></td>\n",
    "          </tr>\n",
    "    </tbody>\n",
    "</table>\n",
    "<ul>"
   ]
  },
  {
   "cell_type": "markdown",
   "metadata": {
    "slideshow": {
     "slide_type": "slide"
    }
   },
   "source": [
    "<h1><center>STEAM, T-shaped, and Digital Literacy</center></h1>\n",
    "<div style=\"margin-left:100px;\">\n",
    " <ul>\n",
    "    <li>Humanities in the technological age</li>\n",
    "    <li>STEAM education will provide us with the knowledge in the arts and science for understanding and building our world and ourselves</li>\n",
    "    <li>Discovering ethical values in the digital</li>\n",
    "    <li>Interdisciplinary learning will become more common</li>\n",
    "    <li>Digital literacy is a key part for achieving that</li>\n",
    "    <li>Learning about design and data, story and system through the Data Story Cycle can be a starting point</li> \n",
    " </ul>\n",
    "</div>"
   ]
  },
  {
   "cell_type": "markdown",
   "metadata": {
    "slideshow": {
     "slide_type": "slide"
    }
   },
   "source": [
    "<h1><center>The Data Story Cycle</center></h1>\n",
    "\n",
    "<img src='assets/data_cycle.png'>"
   ]
  },
  {
   "cell_type": "markdown",
   "metadata": {},
   "source": [
    "<h1><center>Software (no programming needed) for Navigating the Data Story Cycle</center></h1>\n",
    "<div style=\"margin-left:100px;\">\n",
    "<ul>\n",
    "    <li>Coding Version Control and Publishing <u>(Github Desktop and Github)</u></li>\n",
    "    <li>Coding, Editing, and Publishing <u>(Pingendo)</u></li>\n",
    "    <li>Data Extration <u>(ParseHub, Knime and Google Spreadsheet)</u></li>\n",
    "    <li>Data Transformation <u>(Knime and OpenRefine)</u></li> \n",
    "    <li>Data Loading <u>(Knime and Airtable)</u></li>\n",
    "    <li>Data Exploration <u>(Tableau, Knime and Google Data Studio)</u></li>\n",
    "    <li>Data Mining <u>(Spreadsheet Statistics, Knime)</u></li>\n",
    "    <li>Data Visualization <u>(Tableau, Knime and Google Data Studio)</u></li>\n",
    "</ul>\n",
    "</div>"
   ]
  },
  {
   "cell_type": "markdown",
   "metadata": {
    "slideshow": {
     "slide_type": "slide"
    }
   },
   "source": [
    "<h1><center>Software for Navigating the Data Story Cycle in Python</center></h1>\n",
    "<div style=\"margin-left:100px;\">\n",
    "<ul>\n",
    "    <li>Coding Version Control and Publishing <u>(Git and Github)</u></li>\n",
    "    <li>Coding, Editing, and Publishing <u>(Chrome, Sublime Text, Python, and HTML/CSS/JS)</u></li>\n",
    "    <li>Data Extration <u>(BeautifulSoup and Scrapy)</u></li>\n",
    "    <li>Data Transformation <u>(Numpy and Pandas)</u></li> \n",
    "    <li>Data Loading <u>(SQL, Flask Restful API, and Pandas)</u></li>\n",
    "    <li>Data Exploration <u>(Pandas, Numpy and Matplotlib)</u></li>\n",
    "    <li>Data Mining <u>(Pandas, NumPy, Scikit-learn and Tensor Flow)</u></li>\n",
    "    <li>Data Visualization <u>(Matplotlib, D3 and MplD3)</u></li>\n",
    "</ul>\n",
    "</div>"
   ]
  },
  {
   "cell_type": "markdown",
   "metadata": {
    "slideshow": {
     "slide_type": "slide"
    }
   },
   "source": [
    "<h1><center>Why Python?</center></h1>\n",
    "<div style=\"margin-left:100px;\">\n",
    "<ul>\n",
    "    <li>Simple syntax designed as a teaching language for learning Computer Science</li>\n",
    "    <li>Great language for learning about object oriented programming, a mordern programming approach</u></li>\n",
    "    <li>Vast support of programming libraries, especially for AI and data science works</li>\n",
    "    <li>Commercial adoptions have increased rapidly, providing plenty of job opportunities</li> \n",
    "    <li>Used by YouTube, Dropbox, Google, Instagram, Spotify, Reddit, Yahoo Maps, Pinterest, Washington Post, NASA, etc.</li>\n",
    "    <li>For web programming, like PHP and C#, Python is usually used for back-end processing.</li>\n",
    "</ul>\n",
    "</div>"
   ]
  },
  {
   "cell_type": "markdown",
   "metadata": {
    "slideshow": {
     "slide_type": "slide"
    }
   },
   "source": [
    "<h1><center>Revisit Front-end Processing</center></h1>\n",
    "<div style=\"margin-left:100px;\">\n",
    "<ul>\n",
    "    <li>For web development, most projects are divided by fron-end and back-end processing.</li>\n",
    "    <li>Front-end is used for handling user interface</li>\n",
    "    <li>Back-end is used for handling data model computation and database processing</li>\n",
    "    <li>HTML,CSS, and JavaScript make up the <b>Big Three</b> of front-end web development</li> \n",
    "</ul>\n",
    "</div>"
   ]
  },
  {
   "cell_type": "markdown",
   "metadata": {
    "slideshow": {
     "slide_type": "slide"
    }
   },
   "source": [
    "<h1><center>Big Three in Web Publishing</center></h1>\n",
    "<img width='100%' height='100%'src='git_html_css.png'>"
   ]
  },
  {
   "cell_type": "markdown",
   "metadata": {
    "slideshow": {
     "slide_type": "slide"
    }
   },
   "source": [
    "<img width='100%' height='100%' src='assets/html_as_a_noun.png'>"
   ]
  },
  {
   "cell_type": "markdown",
   "metadata": {
    "slideshow": {
     "slide_type": "slide"
    }
   },
   "source": [
    "<img width='100%' height='100%' src='assets/dom.png'>"
   ]
  },
  {
   "cell_type": "markdown",
   "metadata": {
    "slideshow": {
     "slide_type": "slide"
    }
   },
   "source": [
    "<img width='100%' height='100%' src='assets/html_code_view.png'>"
   ]
  },
  {
   "cell_type": "markdown",
   "metadata": {
    "slideshow": {
     "slide_type": "slide"
    }
   },
   "source": [
    "<h1><center>Try it out</center></h1>"
   ]
  },
  {
   "cell_type": "markdown",
   "metadata": {
    "slideshow": {
     "slide_type": "slide"
    }
   },
   "source": [
    "<h1><center>The Basic Grammer of HTML</center></h1>\n",
    "<div style=\"margin-left:100px;\">\n",
    "<ul>\n",
    "    <li>Starts with a start tag</li>\n",
    "    <li>End with an end tag</li>\n",
    "    <li>Content of element is everything between the start and end tags</li>\n",
    "    <li>Some elements have empty content and no end tag</li>\n",
    "    <li>Most elements have attributes</li>\n",
    "    <li>HTML adopts a tree structure called DOM</li>\n",
    "</div>"
   ]
  },
  {
   "cell_type": "markdown",
   "metadata": {
    "slideshow": {
     "slide_type": "slide"
    }
   },
   "source": [
    "<img width='100%' height='100%' src='assets/css_as_adjective.png'>"
   ]
  },
  {
   "cell_type": "markdown",
   "metadata": {
    "slideshow": {
     "slide_type": "slide"
    }
   },
   "source": [
    "<img width='70%' height='70%' src='assets/box_model.png'>"
   ]
  },
  {
   "cell_type": "markdown",
   "metadata": {
    "slideshow": {
     "slide_type": "slide"
    }
   },
   "source": [
    "<h1><center>CSS Inspection with Chrome</center></h1>\n",
    "<div style=\"margin-left:100px;\">\n",
    "<ul>\n",
    "    <li>Use right mouse button to trigger inspector</li>\n",
    "    <li>Select an element in the page to inspect</li>\n",
    "    <li>Traverse the DOM tree to inspect the hierarchy of elments</li>\n",
    "    <li>Observe the styles under the style tab at the lower right corner of the browser</li>\n",
    "    <li>May change the properties to observe impact on the layout</li>\n",
    "    <li>Changes will not be stored after the screen is refreshed</li>\n",
    "</div>"
   ]
  },
  {
   "cell_type": "markdown",
   "metadata": {
    "slideshow": {
     "slide_type": "slide"
    }
   },
   "source": [
    "<img width='100%' height='100%' src='assets/custom_selector.png'>"
   ]
  },
  {
   "cell_type": "markdown",
   "metadata": {
    "slideshow": {
     "slide_type": "slide"
    }
   },
   "source": [
    "<img width='100%' height='100%' src='assets/inline_css.png'>"
   ]
  },
  {
   "cell_type": "markdown",
   "metadata": {
    "slideshow": {
     "slide_type": "slide"
    }
   },
   "source": [
    "<h1><center>Try it out</center></h1>"
   ]
  },
  {
   "cell_type": "markdown",
   "metadata": {
    "slideshow": {
     "slide_type": "slide"
    }
   },
   "source": [
    "<img width='100%' height='100%' src='assets/internal_css.png'>"
   ]
  },
  {
   "cell_type": "markdown",
   "metadata": {
    "slideshow": {
     "slide_type": "slide"
    }
   },
   "source": [
    "<h1><center>Try it out</center></h1>"
   ]
  },
  {
   "cell_type": "markdown",
   "metadata": {
    "slideshow": {
     "slide_type": "slide"
    }
   },
   "source": [
    "<img width='100%' height='100%' src='assets/external_css_1.png'>"
   ]
  },
  {
   "cell_type": "markdown",
   "metadata": {
    "slideshow": {
     "slide_type": "slide"
    }
   },
   "source": [
    "<h1><center>Try it out</center></h1>"
   ]
  },
  {
   "cell_type": "markdown",
   "metadata": {
    "slideshow": {
     "slide_type": "slide"
    }
   },
   "source": [
    "<img width='100%' height='100%' src='assets/external_css_2.png'>"
   ]
  },
  {
   "cell_type": "markdown",
   "metadata": {
    "slideshow": {
     "slide_type": "slide"
    }
   },
   "source": [
    "<h1><center>Try it out</center></h1>"
   ]
  },
  {
   "cell_type": "markdown",
   "metadata": {
    "slideshow": {
     "slide_type": "slide"
    }
   },
   "source": [
    "<h1><center>The Basic Grammer of CSS</center></h1>\n",
    "<div style=\"margin-left:100px;\">\n",
    "<ul>\n",
    "    <li>Styles define how to display HTML elements</li>\n",
    "    <li>Each style description is made up of Selector and Declaration</li>\n",
    "    <li>Selector defines which HTML element should be used for display and the declaration defines how\n",
    "each declaration contains properties and values</li>\n",
    "    <li>There are base and custom selectors (ID and CLASS are customer selectors) \n",
    "    <li>Style definition can be placed inline, in the head section or in an external file (e.g. style.css) </li>\n",
    "</div>"
   ]
  },
  {
   "cell_type": "markdown",
   "metadata": {
    "slideshow": {
     "slide_type": "slide"
    }
   },
   "source": [
    "<img width='100%' height='100%' src='assets/js_as_verb.png'>"
   ]
  },
  {
   "cell_type": "markdown",
   "metadata": {
    "slideshow": {
     "slide_type": "slide"
    }
   },
   "source": [
    "<img width='100%' height='100%' src='assets/internal_js.png'>"
   ]
  },
  {
   "cell_type": "markdown",
   "metadata": {
    "slideshow": {
     "slide_type": "slide"
    }
   },
   "source": [
    "<h1><center>Try it out</center></h1>"
   ]
  },
  {
   "cell_type": "markdown",
   "metadata": {
    "slideshow": {
     "slide_type": "slide"
    }
   },
   "source": [
    "<img width='100%' height='100%' src='assets/external_js.png'>"
   ]
  },
  {
   "cell_type": "markdown",
   "metadata": {
    "slideshow": {
     "slide_type": "slide"
    }
   },
   "source": [
    "<h1><center>Try it out</center></h1>"
   ]
  },
  {
   "cell_type": "markdown",
   "metadata": {
    "slideshow": {
     "slide_type": "slide"
    }
   },
   "source": [
    "<h1><center>The Basic Grammer of JavaScript</center></h1>\n",
    "<div style=\"margin-left:100px;\">\n",
    "<ul>\n",
    "    <li>JavaScript is a programming language that can be used to write functions placed inside html or in an external file that can be linked to the html file</li>\n",
    "    <li>Popular JavaScript libraries are external files (e.g. jQuery)</li>\n",
    "    <li>Front-end JavaScript is usually placed between the beginning and ending script tags inside the head section</li>\n",
    "    <li>Front-end JavaScript codes can be understood as a collection of functions that respond to events triggered by internal browser activities and external user interactions\n",
    "    <li>Front-end JavaScript can be used to manipulate HTML elements and CSS styles</li>\n",
    "    <li>Back-end JavaScripts such as node.js is used to manipulate data model for more intensive compuation and database operations.</li> \n",
    "</div>"
   ]
  },
  {
   "cell_type": "markdown",
   "metadata": {
    "slideshow": {
     "slide_type": "slide"
    }
   },
   "source": [
    "<h1><center>Back-end Development with Python</center></h1>"
   ]
  },
  {
   "cell_type": "markdown",
   "metadata": {
    "slideshow": {
     "slide_type": "slide"
    }
   },
   "source": [
    "<h1><center>Python Development with Anaconda and Jupyter Notebook</center></h1>\n",
    "<div style=\"margin-left:100px;\">\n",
    "<ul>\n",
    "    <li>Why Anaconda?</li>\n",
    "    <li>Most of the popular Python libraries such as BeautifulSoup, NumPy, Pandas, Mathplotlib are preinstalled</li>\n",
    "    <li>Other additional software tools such as R Studio, JupyterLab, Jupyter Notebook are also preinstalled</li>\n",
    "    <li>Cross-platform support on Mac, Windows, and Linux</li>\n",
    "    <li>Jupyter Notebook is a great tool for learning Python</li>\n",
    "    <li>Jupyter Notebook supports HTML/CSS and LaTex markup syntax</li>\n",
    "    <li>Jupyter Notebook supports slideshow presentation</li>\n",
    "    <li>Github support for Jupyter notebook document</li>\n",
    "</div>"
   ]
  },
  {
   "cell_type": "markdown",
   "metadata": {
    "slideshow": {
     "slide_type": "slide"
    }
   },
   "source": [
    "<h1><center>HTML/CSS Demonstration</center></h1>\n",
    "<div style=\"margin-left:100px;\">\n",
    "To show the following effect, make sure \"markdown\" is chosen for rendering in Jupyter Notebook and then type:<br><br>\n",
    "<div style=\"margin-left:100px;\">\n",
    "<div style=\"margin-left:100px;\">&lt;div style=\"color:red;\"&gt;Word in Red&lt;/div&gt;, then you see:</div><br>\n",
    "    <div style=\"margin-left:100px;\"><div style=\"color:red;\">Word in Red</div></div>\n",
    "<div style=\"margin-left:100px;\"></div>\n",
    "</div>"
   ]
  },
  {
   "cell_type": "markdown",
   "metadata": {
    "slideshow": {
     "slide_type": "slide"
    }
   },
   "source": [
    "<h1><center>Try it out</center></h1>"
   ]
  },
  {
   "cell_type": "markdown",
   "metadata": {
    "slideshow": {
     "slide_type": "slide"
    }
   },
   "source": [
    "<h1><center>Latex Demonstration</center></h1>\n",
    "<div style=\"margin-left:100px;\">\n",
    "To show the following formula, make sure \"markdown\" is chosen for rendering in and then type:<br><br>\n",
    "<div style=\"margin-left:100px;\">&#92;begin{equation*}</div>\n",
    "<div style=\"margin-left:100px;\">s = \\sqrt \\frac{\\sum_{k=1}^n\\left(x-\\overline{x}\\right)^2}{n}</div>\n",
    "<div style=\"margin-left:100px;\">&#92;end{equation*}</div>\n",
    "</div>\n",
    "\n",
    "\\begin{equation*}\n",
    "s = \\sqrt \\frac{\\sum_{k=1}^n\\left(x-\\overline{x}\\right)^2}{n} \n",
    "\\end{equation*}"
   ]
  },
  {
   "cell_type": "markdown",
   "metadata": {
    "slideshow": {
     "slide_type": "slide"
    }
   },
   "source": [
    "<h1><center>Running Jupyter Notebook in Slideshow Mode</center></h1>\n",
    "<div style=\"margin-left:100px;\">\n",
    " At the command prompt, type the following:<br><br><br>\n",
    "        <div style=\"font-size:20px;\"><center>jupyter nbconvert &lt;your Jupyter Notebook file name&gt;.ipynb --to slides --post serve</center></div>\n",
    "    <br><br><br>\n",
    "</div>"
   ]
  },
  {
   "cell_type": "markdown",
   "metadata": {
    "slideshow": {
     "slide_type": "slide"
    }
   },
   "source": [
    "<h1><center>Try it out</center></h1>"
   ]
  },
  {
   "cell_type": "markdown",
   "metadata": {
    "slideshow": {
     "slide_type": "slide"
    }
   },
   "source": [
    "<h1><center>Introduction to Github</center></h1>\n",
    "<div style=\"margin-left:100px;\">\n",
    "<ul>\n",
    "    <li>Github is a great place for sharing your codes, including your Jupyter notebook documents.</li>\n",
    "    <li>Many tech companies are using Github to distribute their codes.</li>\n",
    "    <li>In conjunction with the git program, Github provides version control to your codes.</li>\n",
    "</ul>\n",
    "</div>"
   ]
  },
  {
   "cell_type": "markdown",
   "metadata": {
    "slideshow": {
     "slide_type": "slide"
    }
   },
   "source": [
    "<h1><center>Hosting, Uploading and Sharing Your Codes on Github</center></h1>\n",
    "<div style=\"margin-left:100px;\">\n",
    "<ol>\n",
    "    <li>Setup a GitHub account</li>\n",
    "    <li>Create a Github repository</li>\n",
    "    <li>Go to the repository by \"cd &lt;directory folder name&gt;</li>\n",
    "    <li>Create a local repository by typing the \"git clone\" command at the command prompt</li>\n",
    "    <li>Save your Jupyter Notedbook file inside the repository</li>\n",
    "    <li>Type \"git status\" to check the state of the repository</li>\n",
    "    <li>Type \"git add *\" to stage the file for upload to Github</li>\n",
    "    <li>Type \"git commit -m '&lt;message&gt;'\" to document the action</li>\n",
    "    <li>Type \"git push origin master (next time around just type \"git push\") to upload</li>\n",
    "</ol>\n",
    "</div>"
   ]
  },
  {
   "cell_type": "markdown",
   "metadata": {
    "slideshow": {
     "slide_type": "slide"
    }
   },
   "source": [
    "<h1><center>Try it out using the 2 page slide notebook.</center></h1>"
   ]
  },
  {
   "cell_type": "markdown",
   "metadata": {
    "slideshow": {
     "slide_type": "slide"
    }
   },
   "source": [
    "<h1><center>Customizing Your Jupyter Notebook CSS Styles</center></h1>\n",
    "<div style=\"margin-left:100px;\">\n",
    "<ol>\n",
    "    <li>In Google, conduct a search on \"jupyter notebook custom css themes\"</li>\n",
    "    <li>Go into the \"jupyternotebookthemes/styles/compiled\" folder</li>\n",
    "    <li>Pick a theme you like and download it</li>\n",
    "    <li>On your own laptop, try to locate the ~/.jupyter folder</li>\n",
    "    <li>Create a folder called \"custom\"</li>\n",
    "    <li>Then create a blank file called \"custom.css\"</li>\n",
    "    <li>Paste the downloaded CSS codes into the \"custom.css\" file</li>\n",
    "    <li>Remark out\"div#maintoolbar\" styling codes</li>\n",
    "</ol>\n",
    "</div>"
   ]
  },
  {
   "cell_type": "markdown",
   "metadata": {
    "slideshow": {
     "slide_type": "slide"
    }
   },
   "source": [
    "<h1><center>Try it out</center></h1>"
   ]
  },
  {
   "cell_type": "markdown",
   "metadata": {
    "slideshow": {
     "slide_type": "slide"
    }
   },
   "source": [
    "<h1><center>Basic Data Types in Python</center></h1>\n",
    "<div style=\"margin-left:100px;\">\n",
    "<ul>\n",
    "    <li>Integer</li>\n",
    "    <li>Float</li>\n",
    "    <li>String</li>\n",
    "    <li>Boolean</li>\n",
    "</ul>\n",
    "</div>"
   ]
  },
  {
   "cell_type": "markdown",
   "metadata": {
    "slideshow": {
     "slide_type": "slide"
    }
   },
   "source": [
    "<h1><center>Integer</center></h1>\n",
    "<div style=\"margin-left:100px;\">\n",
    "To show the result of your code, make sure \"code\" display option is chosen instead of the \"markdown\" option for rendering in Jupyter Notebook and then type:<br>\n",
    "<br>\n",
    "<ol>\n",
    "    <li>Press the \"+\" button on the button toolbar to create a new In-box</li>\n",
    "    <li>Enter 123</li>\n",
    "    <li>Hit \"Run\" on the button toolbar to execute your code.</li>\n",
    "    <li>Press the \"+\" button on the button toolbar to create a new In-box</li>\n",
    "    <li>Enter type(123)</li>\n",
    "    <li>Hit \"Run\" on the button toolbar to execute your code</li>\n",
    "    <li>See what you've got</li>\n",
    "</ol>\n",
    "</div>"
   ]
  },
  {
   "cell_type": "code",
   "execution_count": 7,
   "metadata": {},
   "outputs": [
    {
     "data": {
      "text/plain": [
       "str"
      ]
     },
     "execution_count": 7,
     "metadata": {},
     "output_type": "execute_result"
    }
   ],
   "source": [
    "type('123.45')"
   ]
  },
  {
   "cell_type": "markdown",
   "metadata": {
    "slideshow": {
     "slide_type": "slide"
    }
   },
   "source": [
    "<h1><center>Try it out</center></h1>"
   ]
  },
  {
   "cell_type": "markdown",
   "metadata": {
    "slideshow": {
     "slide_type": "slide"
    }
   },
   "source": [
    "<h1><center>Float</center></h1>\n",
    "<div style=\"margin-left:100px;\">\n",
    "To show the result of your code, make sure \"code\" display option is chosen instead of the \"markdown\" option for rendering in Jupyter Notebook and then type:<br>\n",
    "<br>\n",
    "<ol>\n",
    "    <li>Press the \"+\" button on the button toolbar to create a new In-box</li>\n",
    "    <li>Enter 123.45</li>\n",
    "    <li>Hit \"Run\" on the button toolbar to execute your code.</li>\n",
    "    <li>Press the \"+\" button on the button toolbar to create a new In-box</li>\n",
    "    <li>Enter type(123.45)</li>\n",
    "    <li>Hit \"Run\" on the button toolbar to execute your code</li>\n",
    "    <li>See what you've got</li>\n",
    "</ol>\n",
    "</div>"
   ]
  },
  {
   "cell_type": "markdown",
   "metadata": {
    "slideshow": {
     "slide_type": "slide"
    }
   },
   "source": [
    "<h1><center>Try it out</center></h1>"
   ]
  },
  {
   "cell_type": "markdown",
   "metadata": {
    "slideshow": {
     "slide_type": "slide"
    }
   },
   "source": [
    "<h1><center>String</center></h1>\n",
    "<div style=\"margin-left:100px;\">\n",
    "To show the result of your code, make sure \"code\" display option is chosen instead of the \"markdown\" option for rendering in Jupyter Notebook and then type:<br>\n",
    "<br>\n",
    "<ol>\n",
    "    <li>Press the \"+\" button on the button toolbar to create a new In-box</li>\n",
    "    <li>Enter '123.45'</li>\n",
    "    <li>Hit \"Run\" on the button toolbar to execute your code.</li>\n",
    "    <li>Press the \"+\" button on the button toolbar to create a new In-box</li>\n",
    "    <li>Enter type('123.45')</li>\n",
    "    <li>Hit \"Run\" on the button toolbar to execute your code</li>\n",
    "    <li>See what you've got</li>\n",
    "</ol>\n",
    "</div>"
   ]
  },
  {
   "cell_type": "markdown",
   "metadata": {
    "slideshow": {
     "slide_type": "slide"
    }
   },
   "source": [
    "<h1><center>Try it out</center></h1>"
   ]
  },
  {
   "cell_type": "markdown",
   "metadata": {
    "slideshow": {
     "slide_type": "slide"
    }
   },
   "source": [
    "<h1><center>Assign Data Type to Variables</center></h1>\n",
    "<div style=\"margin-left:100px;\">\n",
    "To show the result of your code, make sure \"code\" display option is chosen instead of the \"markdown\" option for rendering in Jupyter Notebook and then type:<br>\n",
    "<br>\n",
    "<ol>\n",
    "    <li>Press the \"+\" button on the button toolbar to create a new In-box</li>\n",
    "    <li>Enter 'x = 123'</li>\n",
    "    <li>Enter 'y = 123.45</li>\n",
    "    <li>Enter 'z = '123.45'</li>\n",
    "    <li>Enter 'print(x,y,z)</li>\n",
    "    <li>By the way, the command \"print\" is a built-in function in Python</li>\n",
    "    <li>Enter 'print(type(x),type(y),type(z))'. </li>\n",
    "    <li>Hit \"Run\" on the button toolbar to execute your code</li>\n",
    "    <li>See what you've got</li>\n",
    "</ol>\n",
    "</div>"
   ]
  },
  {
   "cell_type": "code",
   "execution_count": 9,
   "metadata": {},
   "outputs": [
    {
     "name": "stdout",
     "output_type": "stream",
     "text": [
      "123 123.45 123.45\n",
      "<class 'int'> <class 'float'> <class 'str'>\n"
     ]
    }
   ],
   "source": [
    "x = 123\n",
    "y = 123.45\n",
    "z = '123.45'\n",
    "print(x,y,z)\n",
    "print(type(x),type(y),type(z))"
   ]
  },
  {
   "cell_type": "markdown",
   "metadata": {
    "slideshow": {
     "slide_type": "slide"
    }
   },
   "source": [
    "<h1><center>Try it out</center></h1>"
   ]
  },
  {
   "cell_type": "markdown",
   "metadata": {
    "slideshow": {
     "slide_type": "slide"
    }
   },
   "source": [
    "<h1><center>Boolean</center></h1>\n",
    "<div style=\"margin-left:100px;\">\n",
    "To show the result of your code, make sure \"code\" display option is chosen instead of the \"markdown\" option for rendering in Jupyter Notebook and then type:<br>\n",
    "<br>\n",
    "<ol>\n",
    "    <li>Press the \"+\" button on the button toolbar to create a new In-box</li>\n",
    "    <li>Enter 'sign_up = True'</li>\n",
    "    <li>Enter type(type(sign_up)</li>\n",
    "    <li>Hit \"Run\" on the button toolbar to execute your code</li>\n",
    "    <li>See what you've got</li>\n",
    "</ol>\n",
    "</div>"
   ]
  },
  {
   "cell_type": "code",
   "execution_count": 10,
   "metadata": {},
   "outputs": [
    {
     "name": "stdout",
     "output_type": "stream",
     "text": [
      "<class 'bool'>\n"
     ]
    }
   ],
   "source": [
    "sign_up = True\n",
    "print(type(sign_up))"
   ]
  },
  {
   "cell_type": "markdown",
   "metadata": {
    "slideshow": {
     "slide_type": "slide"
    }
   },
   "source": [
    "<h1><center>Try it out</center></h1>"
   ]
  },
  {
   "cell_type": "markdown",
   "metadata": {
    "slideshow": {
     "slide_type": "slide"
    }
   },
   "source": [
    "<h1><center>More on Expressions and Variables</center></h1>\n",
    "<div style=\"margin-left:100px;\">\n",
    "To show the result of your code, make sure \"code\" display option is chosen instead of the \"markdown\" option for rendering in Jupyter Notebook and then type:<br>\n",
    "<br>\n",
    "<ol>\n",
    "    <li>Expressions are made up of mathematical operations</li>\n",
    "    <ul>\n",
    "        <li>Addition +</li>\n",
    "        <li>Subtraction -</li>\n",
    "        <li>Multiplication *</li>\n",
    "        <li>Division /</li>\n",
    "        <li>Rounded division //</li>\n",
    "        <li>Exponent **</li>\n",
    "        <li>Modulus % (division returns remainder)</li>\n",
    "    </ul>\n",
    "    <li>Variables (used for storing values)</li>\n",
    "    <ul>\n",
    "        <li>x = 123</li>\n",
    "        <li>y = 123.45</li>\n",
    "        <li>z = '123.45'</li>\n",
    "        <li>What is the result of adding x + y\n",
    "    </ul>\n",
    "</ol>\n",
    "</div>"
   ]
  },
  {
   "cell_type": "markdown",
   "metadata": {
    "slideshow": {
     "slide_type": "slide"
    }
   },
   "source": [
    "<h1><center>Try it out</center></h1>\n"
   ]
  },
  {
   "cell_type": "code",
   "execution_count": 18,
   "metadata": {
    "slideshow": {
     "slide_type": "slide"
    }
   },
   "outputs": [
    {
     "name": "stdout",
     "output_type": "stream",
     "text": [
      "<class 'str'>\n",
      "The result of 123 + 123.45 = 246.45\n"
     ]
    }
   ],
   "source": [
    "x = 123\n",
    "y = 123.45\n",
    "z = 'The result of ' + str(x) + \" + \" + str(y) + \" = \" + str(x+y)\n",
    "print(type(str(y)))\n",
    "print(z)"
   ]
  },
  {
   "cell_type": "markdown",
   "metadata": {
    "slideshow": {
     "slide_type": "slide"
    }
   },
   "source": [
    "<h1><center>More on String</center></h1>\n",
    "<div style=\"margin-left:100px;\">\n",
    "To show the result of your code, make sure \"code\" display option is chosen instead of the \"markdown\" option for rendering in Jupyter Notebook and then type:<br>\n",
    "<br>\n",
    "<ol>\n",
    "    <li>The concept of an \"index\": position of each character in the string</li>\n",
    "    <li>The first position is always \"0\"</li>\n",
    "    <li>Notation of the index is expressed as:string_var[beginning position:ending position]</li>\n",
    "    <li>The ending position is not included\n",
    "    <li>The len(string_var) function will return the length of the string</li>\n",
    "    <li>Let's say z = \"I am from CUHK.\"</li>\n",
    "    <li>What will the command print(z[1:4]) return?</li>\n",
    "    <li>How can you print out the entire string using the index</li> \n",
    "    <li>Negative index starts from the end of the string e.g. name[-1:] </li>\n",
    "</ol>\n",
    "</div>"
   ]
  },
  {
   "cell_type": "markdown",
   "metadata": {
    "slideshow": {
     "slide_type": "slide"
    }
   },
   "source": [
    "<h1><center>Try it out</center></h1>"
   ]
  },
  {
   "cell_type": "code",
   "execution_count": 28,
   "metadata": {},
   "outputs": [
    {
     "name": "stdout",
     "output_type": "stream",
     "text": [
      "I am\n",
      "I am from CUHK.\n",
      "HK.\n"
     ]
    }
   ],
   "source": [
    "z = \"I am from CUHK.\"\n",
    "print(z[0:4])\n",
    "print(z[0:15])\n",
    "print (z[-3:])"
   ]
  },
  {
   "cell_type": "code",
   "execution_count": 29,
   "metadata": {
    "slideshow": {
     "slide_type": "slide"
    }
   },
   "outputs": [
    {
     "name": "stdout",
     "output_type": "stream",
     "text": [
      "15\n",
      "I am from CUHK\n",
      "HK.\n",
      "CUHK\n"
     ]
    }
   ],
   "source": [
    "z = \"I am from CUHK.\"\n",
    "print(len(z))\n",
    "print(z[0:14])\n",
    "print(z[-3:])\n",
    "print(z[10:14])"
   ]
  },
  {
   "cell_type": "markdown",
   "metadata": {
    "slideshow": {
     "slide_type": "slide"
    }
   },
   "source": [
    "<h1><center>Useful String Functions</center></h1>\n",
    "<div style=\"margin-left:100px;\">\n",
    "To show the result of your code, make sure \"code\" display option is chosen instead of the \"markdown\" option for rendering in Jupyter Notebook and then type:<br>\n",
    "<br>\n",
    "<ol>\n",
    "    <li>name.upper()</li>\n",
    "    <li>name.replace(destination,source)</li>\n",
    "    <li>name.find(destination)</li>\n",
    "    <li>name.split()</li>\n",
    "    <li>name.count(target)</li>\n",
    "</ol>\n",
    "</div>"
   ]
  },
  {
   "cell_type": "code",
   "execution_count": 41,
   "metadata": {},
   "outputs": [
    {
     "name": "stdout",
     "output_type": "stream",
     "text": [
      "Prince Charles\n",
      "Prince Charles Prince Harry\n",
      "['Prince', 'Charles']\n",
      "2\n"
     ]
    }
   ],
   "source": [
    "famous_person = \"Prince Charles\"\n",
    "print(famous_person)\n",
    "famous_person2 = famous_person.replace(\"Charles\",\"Harry\")\n",
    "print(famous_person, famous_person2)\n",
    "print(famous_person.split())\n",
    "print(famous_person.count(\"e\"))"
   ]
  },
  {
   "cell_type": "markdown",
   "metadata": {
    "slideshow": {
     "slide_type": "slide"
    }
   },
   "source": [
    "<h1><center>Try it out</center></h1>"
   ]
  },
  {
   "cell_type": "code",
   "execution_count": 95,
   "metadata": {
    "slideshow": {
     "slide_type": "slide"
    }
   },
   "outputs": [
    {
     "name": "stdout",
     "output_type": "stream",
     "text": [
      "Prince Charles\n",
      "PRINCE WILLIAM\n",
      "-1\n",
      "7\n"
     ]
    }
   ],
   "source": [
    "name = \"Prince Charles\"\n",
    "print(name)\n",
    "name = name.replace(\"Charles\",\"William\")\n",
    "name = name.upper()\n",
    "print(name)\n",
    "print(name.find(\"Charles\"))\n",
    "print(name.find(\"WILLIAM\"))"
   ]
  },
  {
   "cell_type": "code",
   "execution_count": 19,
   "metadata": {},
   "outputs": [
    {
     "name": "stdout",
     "output_type": "stream",
     "text": [
      "1st Prince Position:0\n",
      "2nd Prince Position:19\n",
      "Prince Harry\n"
     ]
    }
   ],
   "source": [
    "names = \"Prince Charles and Prince Harry\"\n",
    "first_prince_position = names.find(\"Prince\")\n",
    "print(\"1st Prince Position:\"+str(first_prince_position))\n",
    "second_prince_position = names.find(\"Prince\",first_prince_position+1)\n",
    "print(\"2nd Prince Position:\"+str(second_prince_position))\n",
    "son_of_charles = names[second_prince_position:]\n",
    "print(son_of_charles)"
   ]
  },
  {
   "cell_type": "code",
   "execution_count": 32,
   "metadata": {},
   "outputs": [
    {
     "name": "stdout",
     "output_type": "stream",
     "text": [
      "3.14\n"
     ]
    },
    {
     "data": {
      "text/plain": [
       "str"
      ]
     },
     "execution_count": 32,
     "metadata": {},
     "output_type": "execute_result"
    }
   ],
   "source": [
    "# str(x) function will convert integer and float into a string\n",
    "x = 3.14\n",
    "y = str(x)\n",
    "print(y)\n",
    "type(y)"
   ]
  },
  {
   "cell_type": "code",
   "execution_count": 41,
   "metadata": {},
   "outputs": [
    {
     "name": "stdout",
     "output_type": "stream",
     "text": [
      "3.14\n",
      "3\n",
      "<class 'float'>\n",
      "<class 'int'>\n"
     ]
    }
   ],
   "source": [
    "# float(x) function will convert a string with decimal point into a float\n",
    "x = 3.14\n",
    "y = str(x)\n",
    "z1 = float(y)\n",
    "print(z1)\n",
    "z2 = int(y[0:y.find(\".\")])\n",
    "print(z2)\n",
    "print(type(z1))\n",
    "print(type(z2))"
   ]
  },
  {
   "cell_type": "code",
   "execution_count": 24,
   "metadata": {},
   "outputs": [
    {
     "name": "stdout",
     "output_type": "stream",
     "text": [
      "274\n"
     ]
    }
   ],
   "source": [
    "# Create a rounding function\n",
    "x = 273.87127\n",
    "pos = str(x).find(\".\")+1\n",
    "val = str(x)[pos:pos+1]\n",
    "if (int(val) >= 5):\n",
    "    print(str(x+1)[0:pos-1])\n",
    "else:\n",
    "    print(str(x)[0:pos-1])"
   ]
  },
  {
   "cell_type": "code",
   "execution_count": 30,
   "metadata": {},
   "outputs": [
    {
     "name": "stdout",
     "output_type": "stream",
     "text": [
      "273\n"
     ]
    }
   ],
   "source": [
    "# Another way to implement a rounding function\n",
    "x = 273.47127\n",
    "pos = str(str_x).find('.')+1\n",
    "val = str(x)[pos:pos+1]\n",
    "if (val in \"1234\"):\n",
    "    x = x\n",
    "else:\n",
    "    x = x + 1\n",
    "print(str(x)[0:pos-1])"
   ]
  },
  {
   "cell_type": "markdown",
   "metadata": {
    "slideshow": {
     "slide_type": "slide"
    }
   },
   "source": [
    "<h1><center>Basic Data Structures in Python</center></h1>\n",
    "<div style=\"margin-left:100px;\">\n",
    "<ul>\n",
    "    <li>List and Tuple</li>\n",
    "    <li>Dictionary and Set</li>\n",
    "</ul>\n",
    "</div>"
   ]
  },
  {
   "cell_type": "markdown",
   "metadata": {
    "slideshow": {
     "slide_type": "slide"
    }
   },
   "source": [
    "<h1><center>Tuple and List</center></h1>\n",
    "<div style=\"margin-left:100px;\">\n",
    "<ul>\n",
    "        <li>Tuples are arrays enclosed with round brackets for storing multiple variables</li>\n",
    "        <li>Variables with data types can be stored into a Tuple</li>\n",
    "        <li>A Tuple operates like a string and therefore can be indexed from the beginning (positive) and the end (negative)</li>\n",
    "        <li>Tuples are immutable</li>\n",
    "        <li>Inorder to manipulate a tuple, a new one has to be created</li>\n",
    "        <li>Tuples can be nested e.g. Tuple2 = (1,2,(3,4),5)</li>\n",
    "        <li>Due to its rigidity, List is more commonly used than Tuple.</li>\n",
    "        <li>Lists are like Tubles but are mutable and enclosed with square brackets</li>\n",
    "        <li>List, similar to a Tuple, operates like a string when it comes to access individual element within the data structure</li>\n",
    "</ul>\n",
    "</div>"
   ]
  },
  {
   "cell_type": "code",
   "execution_count": 38,
   "metadata": {},
   "outputs": [
    {
     "name": "stdout",
     "output_type": "stream",
     "text": [
      "(1, 1.3, 2, 'CUHK')\n",
      "[1, 1.3, 2, 'CUHK']\n"
     ]
    }
   ],
   "source": [
    "tuple1 = (1,1.3,2,'CUHK') \n",
    "print(tuple1)\n",
    "list1 = [1,1.3,2,'CUHK']\n",
    "print(list1)"
   ]
  },
  {
   "cell_type": "markdown",
   "metadata": {
    "slideshow": {
     "slide_type": "slide"
    }
   },
   "source": [
    "<h1><center>Try it out</center></h1>"
   ]
  },
  {
   "cell_type": "code",
   "execution_count": 57,
   "metadata": {},
   "outputs": [
    {
     "name": "stdout",
     "output_type": "stream",
     "text": [
      "[1, 2, 2.5, 3, 4, 5]\n",
      "[1, 2, 3, 4, 5, 2.5]\n",
      "[1, 2, 3, 4, 5, 2.5, 6, 7, 8]\n",
      "[1, 2, 3, 4, 5, 2.5, 6, 7, 8, [9, 10, 11]]\n",
      "[1, 2, 3, 4, 5, 2.5, 6, 7, 8]\n"
     ]
    }
   ],
   "source": [
    "my_list = [1,2,3,4,5,2.5]\n",
    "print(sorted(my_list))\n",
    "print(my_list)\n",
    "my_list = my_list + [6,7,8]\n",
    "print(my_list)\n",
    "my_list.append([9,10,11])\n",
    "print(my_list)\n",
    "del(my_list[9])\n",
    "print(my_list)"
   ]
  },
  {
   "cell_type": "code",
   "execution_count": 60,
   "metadata": {},
   "outputs": [
    {
     "name": "stdout",
     "output_type": "stream",
     "text": [
      "[100, 95, 85, 60, 60.5, 70]\n",
      "60\n",
      "[100, 95, 85, 60, 60.5, 70, [50, 45, 65, 55]]\n",
      "[60, 60.5, 70]\n",
      "[100, 95, 85, 60, 60.5, 70]\n",
      "[100, 95, 85, 60, 60.5, 70, [1, 2, 3, 'I am from CUHK.', True]]\n",
      "[100, 95, 85, 60, 60.5, 70, [1, 2, 3, 'I am from CUHK.', True], [11, 22, 33, [44, 55, 66]]]\n"
     ]
    }
   ],
   "source": [
    "score_list = [100,95,85,60,60.5,70]\n",
    "print(score_list)\n",
    "print(score_list[3])\n",
    "score_list.append([50,45,65,55])\n",
    "print(score_list)\n",
    "del(score_list[6])\n",
    "print(score_list[3:7])\n",
    "print(score_list)\n",
    "score_list.append([1,2,3,\"I am from CUHK.\",True])\n",
    "print(score_list)\n",
    "second_list = [11,22,33]\n",
    "second_list.append([44,55,66])\n",
    "score_list.append(second_list)\n",
    "print(score_list)"
   ]
  },
  {
   "cell_type": "markdown",
   "metadata": {
    "slideshow": {
     "slide_type": "slide"
    }
   },
   "source": [
    "<h1><center>Set and Dictionary</center></h1>\n",
    "<div style=\"margin-left:100px;\">\n",
    "<ul>\n",
    "        <li>Similar to lists and tuples, sets support different Python types</li>\n",
    "        <li>Sets use {} (braces) to embed values/elements</li>\n",
    "        <li>Sets do not allow duplicates</li>\n",
    "        <li>Lists can be converted into sets with the set function</li>\n",
    "        <li>Dictionary store data in an array of key-value pairs in braces</li>\n",
    "        <li>For instance, here is a dictionary instance: dict = {“key1”:1,”key2”:2,”key3”:3}\n",
    "</li>\n",
    "        <li>1st column representing the key and 2nd column representing the value</li>\n",
    "        <li><dict_name>.keys() returns all the keys</li>\n",
    "        <li><dict_name>.values.() returns all the values\n",
    "</ul>\n",
    "</div>"
   ]
  },
  {
   "cell_type": "code",
   "execution_count": 65,
   "metadata": {},
   "outputs": [
    {
     "name": "stdout",
     "output_type": "stream",
     "text": [
      "{'Peter': 80, 'David': 90, 'Mary': 100}\n",
      "dict_keys(['Peter', 'David', 'Mary'])\n",
      "dict_values([80, 90, 100])\n",
      "90\n",
      "[{'Peter': 80, 'David': 90, 'Mary': 100}]\n"
     ]
    }
   ],
   "source": [
    "dict1 = {'Peter':80,\"David\":90,\"Mary\":100}\n",
    "print(dict1)\n",
    "print(dict1.keys())\n",
    "print(dict1.values())\n",
    "print(dict1[\"David\"])\n",
    "scorelist = []\n",
    "scorelist.append(dict1)\n",
    "print(scorelist)"
   ]
  },
  {
   "cell_type": "code",
   "execution_count": 68,
   "metadata": {},
   "outputs": [
    {
     "name": "stdout",
     "output_type": "stream",
     "text": [
      "[{'Peter': 50, 'David': 60, 'Mary': 70}, {'Peter': 50, 'David': 70, 'Mary': 80}]\n"
     ]
    }
   ],
   "source": [
    "test1 = {\"Peter\":50,\"David\":60,\"Mary\":70}\n",
    "assignment1 = {\"Peter\":50,\"David\":70,\"Mary\":80}\n",
    "score_list = []\n",
    "score_list.append(test1)\n",
    "score_list.append(assignment1)\n",
    "print(score_list)"
   ]
  },
  {
   "cell_type": "markdown",
   "metadata": {
    "slideshow": {
     "slide_type": "slide"
    }
   },
   "source": [
    "<h1><center>Try it out</center></h1>"
   ]
  },
  {
   "cell_type": "markdown",
   "metadata": {
    "slideshow": {
     "slide_type": "slide"
    }
   },
   "source": [
    "<h1><center>Basic Operations in Python</center></h1>\n",
    "<div style=\"margin-left:100px;\">\n",
    "<ul>\n",
    "    <li>Variable Assignment</li>\n",
    "    <li>Mathematical Operations</li>\n",
    "    <li>Functional Decomposition and Abstraction</li>\n",
    "    <li>Logical Operations</li>\n",
    "    <li>Looping Operations</li>\n",
    "</ul>\n",
    "</div>"
   ]
  },
  {
   "cell_type": "markdown",
   "metadata": {
    "slideshow": {
     "slide_type": "slide"
    }
   },
   "source": [
    "<h1><center>Try it out</center></h1>"
   ]
  },
  {
   "cell_type": "code",
   "execution_count": 74,
   "metadata": {},
   "outputs": [
    {
     "name": "stdout",
     "output_type": "stream",
     "text": [
      "[{'Peter': 50, 'David': 60, 'Mary': 65, 'Harry': 80}, {'Peter': 90, 'David': 90, 'Mary': 85, 'Harry': 70}]\n"
     ]
    }
   ],
   "source": [
    "scorelist = []\n",
    "test1 = {\"Peter\":50,\"David\":60,\"Mary\":65,\"Harry\":80}\n",
    "test2 = {\"Peter\":90,\"David\":90,\"Mary\":85,\"Harry\":70}\n",
    "scorelist.append(test1)\n",
    "scorelist.append(test2)\n",
    "print(scorelist)"
   ]
  },
  {
   "cell_type": "markdown",
   "metadata": {
    "slideshow": {
     "slide_type": "slide"
    }
   },
   "source": [
    "<h1><center>Looping Operations</center></h1>\n",
    "<div style=\"margin-left:100px;\">"
   ]
  },
  {
   "cell_type": "code",
   "execution_count": 2,
   "metadata": {},
   "outputs": [
    {
     "name": "stdout",
     "output_type": "stream",
     "text": [
      "0\n",
      "1\n",
      "2\n",
      "3\n",
      "4\n"
     ]
    }
   ],
   "source": [
    "for i in range(0,5):\n",
    "    print(i)"
   ]
  },
  {
   "cell_type": "code",
   "execution_count": 166,
   "metadata": {},
   "outputs": [
    {
     "name": "stdout",
     "output_type": "stream",
     "text": [
      "John makes 1950.0.\n",
      "Mike makes 3000.0.\n",
      "Mary makes 3250.0.\n",
      "Jane makes 4500.0.\n",
      "[['John', 'Mike', 'Mary', 'Jane'], [1950.0, 3000.0, 3250.0, 4500.0]]\n"
     ]
    }
   ],
   "source": [
    "hrs_list = [30.0,40.0,50.0,60.0]\n",
    "rate_list = [65.0,75.0,65.0,75.0]\n",
    "name_list = ['John',\"Mike\",\"Mary\",\"Jane\"]\n",
    "index = 0\n",
    "fee_list = []\n",
    "for number in name_list:\n",
    "        hrs = hrs_list[index]\n",
    "        rate = rate_list[index]\n",
    "        fee = hrs * rate\n",
    "        fee_list.append(fee)\n",
    "        money_made = name_list[index] + \" makes \" + str(fee) + \".\"\n",
    "        print(money_made)  \n",
    "        index = index + 1\n",
    "money_list = []\n",
    "money_list.append(name_list)\n",
    "money_list.append(fee_list)\n",
    "print(money_list)"
   ]
  },
  {
   "cell_type": "code",
   "execution_count": 5,
   "metadata": {},
   "outputs": [
    {
     "name": "stdout",
     "output_type": "stream",
     "text": [
      "John makes 1950.0.\n",
      "Mike makes 3000.0.\n",
      "Mary makes 3250.0.\n",
      "Jane makes 4500.0.\n",
      "[['John', 'Mike', 'Mary', 'Jane'], [1950.0, 3000.0, 3250.0, 4500.0]]\n"
     ]
    }
   ],
   "source": [
    "hrs_list = [30.0,40.0,50.0,60.0]\n",
    "rate_list = [65.0,75.0,65.0,75.0]\n",
    "name_list = ['John',\"Mike\",\"Mary\",\"Jane\"]\n",
    "fee_list = []\n",
    "for number in range(len(name_list)):\n",
    "        hrs = hrs_list[number]\n",
    "        rate = rate_list[number]\n",
    "        fee = hrs * rate\n",
    "        fee_list.append(fee)\n",
    "        money_made = name_list[number] + \" makes \" + str(fee) + \".\"\n",
    "        print(money_made)  \n",
    "money_list = []\n",
    "money_list.append(name_list)\n",
    "money_list.append(fee_list)\n",
    "print(money_list)"
   ]
  },
  {
   "cell_type": "code",
   "execution_count": 12,
   "metadata": {},
   "outputs": [
    {
     "name": "stdout",
     "output_type": "stream",
     "text": [
      "John makes 1950.0.\n",
      "Mike makes 3000.0.\n",
      "Mary makes 3250.0.\n",
      "Jane makes 4500.0.\n",
      "[['John', 'Mike', 'Mary', 'Jane'], [1950.0, 3000.0, 3250.0, 4500.0]]\n",
      "4\n"
     ]
    }
   ],
   "source": [
    "hrs_list = [30.0,40.0,50.0,60.0]\n",
    "rate_list = [65.0,75.0,65.0,75.0]\n",
    "name_list = ['John',\"Mike\",\"Mary\",\"Jane\"]\n",
    "fee_list = []\n",
    "number = 0\n",
    "while number < len(name_list):\n",
    "        hrs = hrs_list[number]\n",
    "        rate = rate_list[number]\n",
    "        fee = hrs * rate\n",
    "        fee_list.append(fee)\n",
    "        money_made = name_list[number] + \" makes \" + str(fee) + \".\"\n",
    "        print(money_made)  \n",
    "        number = number + 1\n",
    "money_list = []\n",
    "money_list.append(name_list)\n",
    "money_list.append(fee_list)\n",
    "print(money_list)\n",
    "print(len(name_list))"
   ]
  },
  {
   "cell_type": "code",
   "execution_count": 95,
   "metadata": {
    "slideshow": {
     "slide_type": "slide"
    }
   },
   "outputs": [
    {
     "name": "stdout",
     "output_type": "stream",
     "text": [
      "a apple\n",
      "b berry\n",
      "c cherry\n"
     ]
    }
   ],
   "source": [
    "d = {'a': 'apple', 'b': 'berry', 'c': 'cherry'}\n",
    "for key in d:\n",
    "  print(key, d[key])"
   ]
  },
  {
   "cell_type": "code",
   "execution_count": 180,
   "metadata": {},
   "outputs": [
    {
     "name": "stdout",
     "output_type": "stream",
     "text": [
      "John  makes 1950.0.\n",
      "Mike  makes 3000.0.\n",
      "Mary  makes 3250.0.\n",
      "Jane  makes 4500.0.\n"
     ]
    }
   ],
   "source": [
    "hrs_list = [30.0,40.0,50.0,60.0]\n",
    "rate_list = [65.0,75.0,65.0,75.0]\n",
    "name_list = ['John',\"Mike\",\"Mary\",\"Jane\"]\n",
    "hrs = {\"John\":30.0,\"Mike\":40,\"Mary\":50,\"Jane\":60}\n",
    "rates = {\"John\":65.0,\"Mike\":75.0,\"Mary\":65.0,\"Jane\":75.0}\n",
    "for i in name_list:\n",
    "    fees = hrs[i]* rates[i]\n",
    "    make_money = \" makes \" + str(fees) + \".\"\n",
    "    print(i,make_money)"
   ]
  },
  {
   "cell_type": "markdown",
   "metadata": {
    "slideshow": {
     "slide_type": "slide"
    }
   },
   "source": [
    "<h1><center>Conditional Operations</center></h1>\n",
    "<div style=\"margin-left:100px;\">"
   ]
  },
  {
   "cell_type": "code",
   "execution_count": 185,
   "metadata": {},
   "outputs": [
    {
     "name": "stdout",
     "output_type": "stream",
     "text": [
      "0 red\n",
      "1 green\n",
      "2 Blue is printed.\n",
      "3 orange\n",
      "4 black\n",
      "This is done.\n"
     ]
    }
   ],
   "source": [
    "my_list = ['red','green','blue','orange','black']\n",
    "index = 0\n",
    "for i in my_list:\n",
    "  if i == 'blue':\n",
    "    print(index, \"Blue is printed.\")\n",
    "    index += 1\n",
    "  else:\n",
    "    print(index, my_list[index])\n",
    "    # index += 1\n",
    "    index = index + 1\n",
    "print(\"This is done.\")  \n",
    " "
   ]
  },
  {
   "cell_type": "code",
   "execution_count": 189,
   "metadata": {},
   "outputs": [
    {
     "name": "stdout",
     "output_type": "stream",
     "text": [
      "Less than 3200\n",
      "  John  makes 1950.0.\n",
      "  Mike  makes 3000.0.\n",
      "More than or equal to 3200\n",
      "  Mary  makes 3250.0.\n",
      "  Jane  makes 4500.0.\n"
     ]
    }
   ],
   "source": [
    "hrs_list = [30.0,40.0,50.0,60.0]\n",
    "rate_list = [65.0,75.0,65.0,75.0]\n",
    "name_list = ['John',\"Mike\",\"Mary\",\"Jane\"]\n",
    "hrs = {\"John\":30.0,\"Mike\":40,\"Mary\":50,\"Jane\":60}\n",
    "rates = {\"John\":65.0,\"Mike\":75.0,\"Mary\":65.0,\"Jane\":75.0}\n",
    "less_than_3200 = False\n",
    "greater_equal_3200 = False\n",
    "for i in name_list:\n",
    "    fees = hrs[i]* rates[i]\n",
    "    make_money = \" makes \" + str(fees) + \".\"\n",
    "    if (fees < 3200.0):\n",
    "        if (less_than_3200 == False):\n",
    "            print(\"Less than 3200\")\n",
    "            less_than_3200 = True\n",
    "        print(\" \",i,make_money)\n",
    "    else:\n",
    "        if (greater_equal_3200 == False):\n",
    "            print(\"More than or equal to 3200\")\n",
    "            greater_equal_3200 = True\n",
    "        print(\" \",i,make_money)"
   ]
  },
  {
   "cell_type": "markdown",
   "metadata": {},
   "source": [
    "<h1><center>Functional Decomposition and Abstraction</center></h1>\n",
    "<div style=\"margin-left:100px;\">\n",
    "<ul>\n",
    "        <li>A Python function takes input parameters and returns output results</li>\n",
    "        <li>A function starts with the \"def\" keyword</li>\n",
    "        <li>Calling the function will past contrl from the calling command to the called function</li>\n",
    "        <li>Make sure the number of parameters called match with the number of parameters and type</li>\n",
    "        <li>Enclose programming statements in a function to transfer inputs into outputs</li>\n",
    "        <li>Built-in functions can come with Python (e.g. y = len(list)) and other imported external modules</li>\n",
    "        <li>Lists can be converted into sets with the set function</li>\n",
    "        <li>A function can take it multiple input parameters (e.g. def Multi(a,b):)</li>\n",
    "        <li>Global and local variables can be initialized and used inside a Python program but only local variables exist inside a function</li>\n",
    "</ul>\n",
    "</div>"
   ]
  },
  {
   "cell_type": "code",
   "execution_count": 43,
   "metadata": {},
   "outputs": [
    {
     "name": "stdout",
     "output_type": "stream",
     "text": [
      "3\n",
      "4\n"
     ]
    }
   ],
   "source": [
    "# Create a rounding function given rounded_to_int(x) and x can be any integer or float.\n",
    "# so rounded_to_int(3.14) will return 3 and rounded_to_int(3.54) will return 4. \n",
    "# Create a rounding function\n",
    "\n",
    "def rounded_to_int(x):\n",
    "    pos = str(x).find(\".\")+1\n",
    "    val = str(x)[pos:pos+1]\n",
    "    if (int(val) >= 5):\n",
    "        result = str(x+1)[0:pos-1]\n",
    "    else:\n",
    "        result = str(x)[0:pos-1]\n",
    "    return result\n",
    "\n",
    "print(rounded_to_int(3.14))\n",
    "print(rounded_to_int(3.54))"
   ]
  },
  {
   "cell_type": "markdown",
   "metadata": {},
   "source": [
    "# A Tuition Fee Computation Example"
   ]
  },
  {
   "cell_type": "code",
   "execution_count": 45,
   "metadata": {},
   "outputs": [
    {
     "name": "stdout",
     "output_type": "stream",
     "text": [
      "1812.0\n"
     ]
    }
   ],
   "source": [
    "def compute_ta_fees(hrs,rate):\n",
    "    fee = hrs*rate\n",
    "    return fee\n",
    "ta_fees = compute_ta_fees(30,60.40)\n",
    "print(ta_fees)"
   ]
  },
  {
   "cell_type": "code",
   "execution_count": 46,
   "metadata": {},
   "outputs": [
    {
     "name": "stdout",
     "output_type": "stream",
     "text": [
      "Bernard has received $1812.0.\n"
     ]
    }
   ],
   "source": [
    "def compute_ta_fees(hrs,rate,name):\n",
    "    fee = hrs*rate\n",
    "    return name + \" has received $\" + str(fee) + \".\"\n",
    "ta_fees = compute_ta_fees(30,60.40,'Bernard')\n",
    "print(ta_fees)"
   ]
  },
  {
   "cell_type": "code",
   "execution_count": 47,
   "metadata": {},
   "outputs": [
    {
     "name": "stdout",
     "output_type": "stream",
     "text": [
      "Mary's mom has received $484.55999999999995.\n"
     ]
    }
   ],
   "source": [
    "def compute_ta_fees(hrs,rate,name):\n",
    "    fee = hrs*rate\n",
    "    money_to_mom = fee*.2\n",
    "    return name + \"'s mom has received $\" + str(money_to_mom) + \".\"\n",
    "ta_fees = compute_ta_fees(36,67.30,'Mary')\n",
    "print(ta_fees)"
   ]
  },
  {
   "cell_type": "code",
   "execution_count": 49,
   "metadata": {},
   "outputs": [
    {
     "name": "stdout",
     "output_type": "stream",
     "text": [
      "John's mom has received $390.0.\n",
      "Mike's mom has received $600.0.\n",
      "Mary's mom has received $650.0.\n",
      "Jane's mom has received $900.0.\n",
      "[\"John's mom has received $390.0.\", \"Mike's mom has received $600.0.\", \"Mary's mom has received $650.0.\", \"Jane's mom has received $900.0.\"]\n"
     ]
    }
   ],
   "source": [
    "def compute_ta_fees(hrs,rate,name):\n",
    "    fee = hrs*rate\n",
    "    money_to_mom = fee*.2\n",
    "    return name + \"'s mom has received $\" + str(money_to_mom) + \".\"\n",
    "# print ta_fees\n",
    "hrs_list = [30.0,40.0,50.0,60.0]\n",
    "rate_list = [65.0,75.0,65.0,75.0]\n",
    "name_list = ['John',\"Mike\",\"Mary\",\"Jane\"]\n",
    "index = 0\n",
    "output_list = []\n",
    "for number in name_list:\n",
    "        hrs = hrs_list[index]\n",
    "        rate = rate_list[index]\n",
    "        name = name_list[index]\n",
    "        ta_fees = compute_ta_fees(hrs,rate,name)\n",
    "        print(ta_fees)\n",
    "        output_list.append(ta_fees)\n",
    "        index = index + 1\n",
    "print(output_list)"
   ]
  },
  {
   "cell_type": "code",
   "execution_count": 33,
   "metadata": {},
   "outputs": [
    {
     "name": "stdout",
     "output_type": "stream",
     "text": [
      "ABC 2T HD : 59\n",
      "TS Wireless keyboard : 31\n",
      "Total: 920\n"
     ]
    }
   ],
   "source": [
    "purchase_list = [\"ABC 2T HD\", \"MS wireless mouse\", \"TS Wireless keyboard\"]\n",
    "inventory = {\n",
    "    \"ABC 2T HD\":60,\n",
    "    \"MS wireless mouse\":0,\n",
    "    \"TS Wireless keyboard\":32,\n",
    "    \"CC 500G USB Drive\":25\n",
    "}\n",
    "\n",
    "prices = {\n",
    "    \"ABC 2T HD\":800,\n",
    "    \"MS wireless mouse\":200,\n",
    "    \"TS Wireless keyboard\":120,\n",
    "    \"CC 500G USB Drive\":450\n",
    "}\n",
    "\n",
    "# Write your code below!\n",
    "def compute_bill(part_list):\n",
    "    total = 0\n",
    "    for item in part_list:\n",
    "        if inventory[item] > 0:\n",
    "            total = total + prices[item]\n",
    "            inventory[item] = inventory[item] - 1\n",
    "            print(item,\":\",inventory[item])\n",
    "    return total\n",
    "\n",
    "print(\"Total:\",compute_bill(purchase_list))"
   ]
  },
  {
   "cell_type": "code",
   "execution_count": 4,
   "metadata": {},
   "outputs": [
    {
     "name": "stdout",
     "output_type": "stream",
     "text": [
      "79.9\n",
      "C\n"
     ]
    }
   ],
   "source": [
    "lloyd = {\n",
    "  \"name\": \"Lloyd\",\n",
    "  \"homework\": [90.0, 97.0, 75.0, 92.0],\n",
    "  \"quizzes\": [88.0, 40.0, 94.0],\n",
    "  \"tests\": [75.0, 90.0]\n",
    "}\n",
    "alice = {\n",
    "  \"name\": \"Alice\",\n",
    "  \"homework\": [100.0, 92.0, 98.0, 100.0],\n",
    "  \"quizzes\": [82.0, 83.0, 91.0],\n",
    "  \"tests\": [89.0, 97.0]\n",
    "}\n",
    "tyler = {\n",
    "  \"name\": \"Tyler\",\n",
    "  \"homework\": [0.0, 87.0, 75.0, 22.0],\n",
    "  \"quizzes\": [0.0, 75.0, 78.0],\n",
    "  \"tests\": [100.0, 100.0]\n",
    "}\n",
    "def average(numbers): # Step 4\n",
    "    total = sum(numbers)\n",
    "    total = float(total) \n",
    "    return total/len(numbers)\n",
    "\n",
    "def get_average(student): # Step 3\n",
    "    homework = average(student[\"homework\"]) # Step 4\n",
    "    quizzes = average(student[\"quizzes\"])\n",
    "    tests = average(student[\"tests\"])\n",
    "    return 0.1 * homework + 0.3 * quizzes + 0.6 * tests\n",
    "\n",
    "def get_letter_grade(score): # Step 5\n",
    "    if score >= 90:\n",
    "        return \"A\" \n",
    "    elif score >=80:\n",
    "        return \"B\"\n",
    "    elif score >=70:\n",
    "        return \"C\" \n",
    "    elif score >=60:\n",
    "        return \"D\"\n",
    "    else:\n",
    "        return \"F\"\n",
    "    \n",
    "def get_class_average(class_list): # Step 2\n",
    "    results = []\n",
    "    for student in class_list:\n",
    "        student_avg = get_average(student) # Step 3\n",
    "    results.append(student_avg)\n",
    "    return average(results)\n",
    "\n",
    "students = [lloyd, alice, tyler] # Step 1 - students is a list of dict objects with each dict representing the\n",
    "                                 # records of the student's scores in homeworks, quizzes, and tests         \n",
    "class_avg = get_class_average(students)# Step 2\n",
    "print(class_avg)\n",
    "print(get_letter_grade(class_avg)) # Step 5"
   ]
  },
  {
   "cell_type": "markdown",
   "metadata": {
    "slideshow": {
     "slide_type": "slide"
    }
   },
   "source": [
    "<h1><center>Try it out</center></h1>"
   ]
  },
  {
   "cell_type": "markdown",
   "metadata": {},
   "source": [
    "<h1><center>Objects and Classes</center></h1>\n",
    "<div style=\"margin-left:100px;\">\n",
    "<ul>\n",
    "        <li>Object is an instance of a class or another data type</li>\n",
    "        <li>Class sets the template for setting up an instance of the class, which is called object</li>\n",
    "        <li>def __init__(self, radius, colour) is a constructor method</li>\n",
    "        <li>Data attributes and methods are used to initialise and manipulate an object</li>\n",
    "        <li>Use a constructor to instantiate an object of a class and define properties and use methods to manipulate the object.</li>\n",
    "</ul>\n",
    "</div>"
   ]
  },
  {
   "cell_type": "markdown",
   "metadata": {},
   "source": [
    "<h1><center>Try it out</center></h1>"
   ]
  },
  {
   "cell_type": "markdown",
   "metadata": {
    "slideshow": {
     "slide_type": "slide"
    }
   },
   "source": [
    "<h1><center>Scraping Data with Beautiful Soup and Storing the Result as CSV File</center></h1>\n",
    "<div style=\"margin-left:100px;\">"
   ]
  },
  {
   "cell_type": "code",
   "execution_count": 200,
   "metadata": {
    "collapsed": true
   },
   "outputs": [],
   "source": [
    "import requests\n",
    "import csv\n",
    "from bs4 import BeautifulSoup\n",
    "\n",
    "quote_page = requests.get('http://startupbeat.hkej.com/?tag=fintech&paged=1') \n",
    "soup = BeautifulSoup(quote_page.content,'html.parser')\n",
    "data = []\n",
    "for article in soup.find_all('div',class_='archive-text'):\n",
    "     url = article.a.get('href')\n",
    "     post_date = article.div.ul.li.text\n",
    "     data.append((url, post_date))\n",
    "         \n",
    "with open('projects/startup_beat_demo.csv', 'w') as csv_file:\n",
    "     writer = csv.writer(csv_file)\n",
    "     header = ['url','post date']\n",
    "     writer.writerow(header)\n",
    "     for url, post_date in data:\n",
    "         writer.writerow([url, post_date])"
   ]
  },
  {
   "cell_type": "code",
   "execution_count": 193,
   "metadata": {},
   "outputs": [
    {
     "name": "stdout",
     "output_type": "stream",
     "text": [
      "<!DOCTYPE html>\n",
      "\n",
      "<html lang=\"en-US\" xmlns=\"http://www.w3.org/1999/xhtml\">\n",
      "<head>\n",
      "<meta content=\"text/html; charset=utf-8\" http-equiv=\"Content-Type\"/>\n",
      "<meta content=\"width=device-width, initial-scale=1, maximum-scale=1\" name=\"viewport\"/>\n",
      "<!-- DFP common script -->\n",
      "<script type=\"text/javascript\">(function(){var useSSL='https:'==document.location.protocol;var src=(useSSL?'https:':'http:')+'//www.googletagservices.com/tag/js/gpt.js';document.write('<scr'+'ipt src=\"'+src+'\"></scr'+'ipt>');})();</script>\n",
      "<!-- DFP banner header script -->\n",
      "<!-- #1a DFP header script for home page large rectangle (300x250) -->\n",
      "<script type=\"text/javascript\">googletag.defineSlot('/79812692/StartUpBeat_Homepage_LargeRectangle',[300,250],'div-gpt-ad-1388456888476-0').addService(googletag.pubads());googletag.pubads().enableSyncRendering();googletag.enableServices();</script>\n",
      "<!-- #1b DFP header script for home page large rectangle 2 (300x250) -->\n",
      "<script>googletag.cmd.push(function(){googletag.defineSlot('/79812692/StartUpBeat_Homepage_LargeRectangle2',[300,250],'div-gpt-ad-1473913478026-0').addService(googletag.pubads());googletag.pubads().enableSyncRendering();googletag.enableServices();});</script>\n",
      "<!-- #2 DFP header script for home page top banner (970x160, 728x90) -->\n",
      "<script type=\"text/javascript\">googletag.defineSlot('/79812692/StartUpBeat_Homepage_TopBanner',[[728,90],[970,160]],'div-gpt-ad-1388457258310-0').addService(googletag.pubads());googletag.pubads().enableSyncRendering();googletag.enableServices();</script>\n",
      "<!-- #3a DFP header script for others large rectangle (300x250) -->\n",
      "<script type=\"text/javascript\">googletag.defineSlot('/79812692/StartUpBeat_Others_LargeRectangle',[300,250],'div-gpt-ad-1388457418376-0').addService(googletag.pubads());googletag.pubads().enableSyncRendering();googletag.enableServices();</script>\n",
      "<!-- #3b DFP header script for others large rectangle 2 (300x250) -->\n",
      "<script>googletag.cmd.push(function(){googletag.defineSlot('/79812692/StartUpBeat_Others_LargeRectangle2',[300,250],'div-gpt-ad-1473913527989-0').addService(googletag.pubads());googletag.pubads().enableSyncRendering();googletag.enableServices();});</script>\n",
      "<!-- #4 DFP header script for others top banner (970x160, 728x90) -->\n",
      "<script type=\"text/javascript\">googletag.defineSlot('/79812692/StartUpBeat_Others_TopBanner',[[728,90],[970,160]],'div-gpt-ad-1388457642903-0').addService(googletag.pubads());googletag.pubads().enableSyncRendering();googletag.enableServices();</script>\n",
      "<!-- #5 DFP header script for HKT Listing Page cat=2088 large rectangle (300x250) -->\n",
      "<script type=\"text/javascript\">googletag.defineSlot('/79812692/StartUpBeat_NewFeature_LargeRectangle',[300,250],'div-gpt-ad-1423016794670-0').addService(googletag.pubads());googletag.pubads().enableSyncRendering();googletag.enableServices();</script>\n",
      "<!-- #6 DFP /79812692/StartUpBeat_MobileHomepage_LargeRectangle -->\n",
      "<script type=\"text/javascript\">googletag.cmd.push(function(){googletag.defineSlot('/79812692/StartUpBeat_MobileHomepage_LargeRectangle',[300,250],'div-gpt-ad-1448535471865-0').addService(googletag.pubads());googletag.pubads().enableSyncRendering();googletag.enableServices();});</script>\n",
      "<!-- #7 DFP /79812692/StartUpBeat_Homepage_Overlay -->\n",
      "<script type=\"text/javascript\">googletag.cmd.push(function(){googletag.defineSlot('/79812692/StartUpBeat_Homepage_Overlay',[7,7],'div-gpt-ad-1448535532593-0').addService(googletag.pubads());googletag.pubads().enableSyncRendering();googletag.enableServices();});</script>\n",
      "<!-- /79812692/StartUpBeat_Homepage_RightBanner1 -->\n",
      "<script>googletag.cmd.push(function(){googletag.defineSlot('/79812692/StartUpBeat_Homepage_RightBanner1',[300,100],'div-gpt-ad-1476439050119-0').addService(googletag.pubads());googletag.pubads().enableSyncRendering();googletag.enableServices();});</script>\n",
      "<!-- /79812692/StartUpBeat_Others_RightBanner1 -->\n",
      "<script>googletag.cmd.push(function(){googletag.defineSlot('/79812692/StartUpBeat_Others_RightBanner1',[300,100],'div-gpt-ad-1476440408364-0').addService(googletag.pubads());googletag.pubads().enableSyncRendering();googletag.enableServices();});</script>\n",
      "<!-- Native ad banners -->\n",
      "<!--Set 1-->\n",
      "<script type=\"text/javascript\">googletag.cmd.push(function(){googletag.defineSlot('/79812692/StartUpBeat_ArticlePage_SponsorBanner',[620,60],'div-gpt-ad-1457331252476-0').addService(googletag.pubads());googletag.pubads().enableSyncRendering();googletag.enableServices();});</script>\n",
      "<script type=\"text/javascript\">googletag.cmd.push(function(){googletag.defineSlot('/79812692/StartUpBeat_ArticlePage_SponsorBanner2',[620,60],'div-gpt-ad-1457331308070-0').addService(googletag.pubads());googletag.pubads().enableSyncRendering();googletag.enableServices();});</script>\n",
      "<script type=\"text/javascript\">googletag.cmd.push(function(){googletag.defineSlot('/79812692/StartUpBeat_ArticlePage_SponsorBanner3',[620,60],'div-gpt-ad-1457331360089-0').addService(googletag.pubads());googletag.pubads().enableSyncRendering();googletag.enableServices();});</script>\n",
      "<!--Set 2-->\n",
      "<script type=\"text/javascript\">googletag.cmd.push(function(){googletag.defineSlot('/79812692/StartUpBeat_ArticlePage_BottomBanner',[620,250],'div-gpt-ad-1457331418764-0').addService(googletag.pubads());googletag.pubads().enableSyncRendering();googletag.enableServices();});</script>\n",
      "<script type=\"text/javascript\">googletag.cmd.push(function(){googletag.defineSlot('/79812692/StartUpBeat_ArticlePage_BottomBanner2',[620,250],'div-gpt-ad-1457331460653-0').addService(googletag.pubads());googletag.pubads().enableSyncRendering();googletag.enableServices();});</script>\n",
      "<script type=\"text/javascript\">googletag.cmd.push(function(){googletag.defineSlot('/79812692/StartUpBeat_ArticlePage_BottomBanner3',[620,250],'div-gpt-ad-1457331498900-0').addService(googletag.pubads());googletag.pubads().enableSyncRendering();googletag.enableServices();});</script>\n",
      "<!--Set 3-->\n",
      "<script type=\"text/javascript\">googletag.cmd.push(function(){googletag.defineSlot('/79812692/StartUpBeat_ListingPage_SponsorBanner',[620,60],'div-gpt-ad-1457332146972-0').addService(googletag.pubads());googletag.pubads().enableSyncRendering();googletag.enableServices();});</script>\n",
      "<script type=\"text/javascript\">googletag.cmd.push(function(){googletag.defineSlot('/79812692/StartUpBeat_SponsorsListingPage_SponsorBanner2',[620,60],'div-gpt-ad-1457332182035-0').addService(googletag.pubads());googletag.pubads().enableSyncRendering();googletag.enableServices();});</script>\n",
      "<script type=\"text/javascript\">googletag.cmd.push(function(){googletag.defineSlot('/79812692/StartUpBeat_SponsorsListingPage_SponsorBanner3',[620,60],'div-gpt-ad-1457332220842-0').addService(googletag.pubads());googletag.pubads().enableSyncRendering();googletag.enableServices();});</script>\n",
      "<script type=\"text/javascript\">googletag.cmd.push(function(){googletag.defineSlot('/79812692/StartUpBeat_ArticlePage_InRead',[6,6],'div-gpt-ad-1505365000835-0').addService(googletag.pubads());googletag.pubads().enableSyncRendering();googletag.enableServices();});</script>\n",
      "<!-- Start Alexa Certify Javascript -->\n",
      "<!-- scr ipt type=\"text/javascript\" -->\n",
      "<!-- \r\n",
      "_atrk_opts = { atrk_acct:\"U5n4j1a8Dy000Z\", domain:\"hkej.com\",dynamic: true};\r\n",
      "(function() { var as = document.createElement('script'); as.type = 'text/javascript'; as.async = true; as.src = \"https://d31qbv1cthcecs.cloudfront.net/atrk.js\"; var s = document.getElementsByTagName('script')[0];s.parentNode.insertBefore(as, s); })();\r\n",
      "-->\n",
      "<!-- /sc ript-->\n",
      "<!-- nos cript><img src=\"https://d5nxst8fruw4z.cloudfront.net/atrk.gif?account=U5n4j1a8Dy000Z\" style=\"display:none\" height=\"1\" width=\"1\" alt=\"\" /></nos cript -->\n",
      "<!-- End Alexa Certify Javascript -->\n",
      "<meta content=\"155843647958143\" property=\"fb:pages\"/>\n",
      "<meta content=\"http://startupbeat.hkej.com/wp-content/uploads/2018/05/0525_P15-300x336.jpg\" property=\"og:image\"/>\n",
      "<title>FinTech – StartupBeat</title>\n",
      "<!--[if IE]>\r",
      "\r\n",
      "<link rel=\"stylesheet\" type=\"text/css\" href=\"http://startupbeat.hkej.com/wp-content/themes/maxmag/css/iecss.css\" />\r",
      "\r\n",
      "<![endif]-->\n",
      "<link href=\"http://54.251.114.31/wp-content/uploads/2013/12/favicons.png\" rel=\"shortcut icon\"/>\n",
      "<link href=\"http://startupbeat.hkej.com/?feed=rss2\" rel=\"alternate\" title=\"RSS 2.0\" type=\"application/rss+xml\"/>\n",
      "<link href=\"http://startupbeat.hkej.com/?feed=rss\" rel=\"alternate\" title=\"RSS .92\" type=\"text/xml\"/>\n",
      "<link href=\"http://startupbeat.hkej.com/?feed=atom\" rel=\"alternate\" title=\"Atom 0.3\" type=\"application/atom+xml\"/>\n",
      "<link href=\"http://startupbeat.hkej.com/xmlrpc.php\" rel=\"pingback\"/>\n",
      "<link href=\"//connect.facebook.net\" rel=\"dns-prefetch\"/>\n",
      "<link href=\"http://startupbeat.hkej.com/?feed=rss2\" rel=\"alternate\" title=\"StartupBeat » Feed\" type=\"application/rss+xml\"/>\n",
      "<link href=\"http://startupbeat.hkej.com/?feed=comments-rss2\" rel=\"alternate\" title=\"StartupBeat » Comments Feed\" type=\"application/rss+xml\"/>\n",
      "<link href=\"http://startupbeat.hkej.com/?feed=rss2&amp;tag=fintech\" rel=\"alternate\" title=\"StartupBeat » FinTech Tag Feed\" type=\"application/rss+xml\"/>\n",
      "<script type=\"text/javascript\">window._wpemojiSettings={\"baseUrl\":\"https:\\/\\/s.w.org\\/images\\/core\\/emoji\\/72x72\\/\",\"ext\":\".png\",\"source\":{\"concatemoji\":\"http:\\/\\/startupbeat.hkej.com\\/wp-includes\\/js\\/wp-emoji-release.min.js?ver=4b1d8be16a80ad6756d0d29df1a48058\"}};!function(a,b,c){function d(a){var c,d,e,f=b.createElement(\"canvas\"),g=f.getContext&&f.getContext(\"2d\"),h=String.fromCharCode;return g&&g.fillText?(g.textBaseline=\"top\",g.font=\"600 32px Arial\",\"flag\"===a?(g.fillText(h(55356,56806,55356,56826),0,0),f.toDataURL().length>3e3):\"diversity\"===a?(g.fillText(h(55356,57221),0,0),c=g.getImageData(16,16,1,1).data,g.fillText(h(55356,57221,55356,57343),0,0),c=g.getImageData(16,16,1,1).data,e=c[0]+\",\"+c[1]+\",\"+c[2]+\",\"+c[3],d!==e):(\"simple\"===a?g.fillText(h(55357,56835),0,0):g.fillText(h(55356,57135),0,0),0!==g.getImageData(16,16,1,1).data[0])):!1}function e(a){var c=b.createElement(\"script\");c.src=a,c.type=\"text/javascript\",b.getElementsByTagName(\"head\")[0].appendChild(c)}var f,g;c.supports={simple:d(\"simple\"),flag:d(\"flag\"),unicode8:d(\"unicode8\"),diversity:d(\"diversity\")},c.DOMReady=!1,c.readyCallback=function(){c.DOMReady=!0},c.supports.simple&&c.supports.flag&&c.supports.unicode8&&c.supports.diversity||(g=function(){c.readyCallback()},b.addEventListener?(b.addEventListener(\"DOMContentLoaded\",g,!1),a.addEventListener(\"load\",g,!1)):(a.attachEvent(\"onload\",g),b.attachEvent(\"onreadystatechange\",function(){\"complete\"===b.readyState&&c.readyCallback()})),f=c.source||{},f.concatemoji?e(f.concatemoji):f.wpemoji&&f.twemoji&&(e(f.twemoji),e(f.wpemoji)))}(window,document,window._wpemojiSettings);</script>\n",
      "<style type=\"text/css\">img.wp-smiley,img.emoji{display:inline!important;border:none!important;box-shadow:none!important;height:1em!important;width:1em!important;margin:0 .07em!important;vertical-align:-.1em!important;background:none!important;padding:0!important}</style>\n",
      "<link href=\"http://startupbeat.hkej.com/wp-content/themes/maxmag/A.style.css,qver=4b1d8be16a80ad6756d0d29df1a48058.pagespeed.cf.udyZU4xvwP.css\" id=\"mm-style-css\" media=\"all\" rel=\"stylesheet\" type=\"text/css\"/>\n",
      "<style id=\"reset-css\" media=\"all\">html,body,div,span,applet,object,iframe,h1,h2,h3,h4,h5,h6,p,blockquote,pre,a,abbr,acronym,address,big,cite,code,del,dfn,em,img,ins,kbd,q,s,samp,small,strike,strong,sub,sup,tt,var,b,u,i,center,dl,dt,dd,ol,ul,li,fieldset,form,label,legend,table,caption,tbody,tfoot,thead,tr,th,td,article,aside,canvas,details,embed,figure,figcaption,footer,header,hgroup,menu,nav,output,ruby,section,summary,time,mark,audio,video{margin:0;padding:0;border:0;font-size:100%;vertical-align:baseline}article,aside,details,figcaption,figure,footer,header,hgroup,menu,nav,section{display:block}body{line-height:1}ol,ul{list-style:none}blockquote,q{quotes:none}blockquote:before,blockquote:after,q:before,q:after{content:'';content:none}table{border-collapse:collapse;border-spacing:0}</style>\n",
      "<link href=\"http://startupbeat.hkej.com/wp-content/themes/maxmag/css/A.flexslider.css,qver=4b1d8be16a80ad6756d0d29df1a48058.pagespeed.cf.CyPe81DP3G.css\" id=\"flexcss-css\" media=\"all\" rel=\"stylesheet\" type=\"text/css\"/>\n",
      "<link href=\"http://startupbeat.hkej.com/wp-content/themes/maxmag/css/A.media-queries.css,qver=4b1d8be16a80ad6756d0d29df1a48058.pagespeed.cf.onJVOMWQJT.css\" id=\"media-queries-css\" media=\"all\" rel=\"stylesheet\" type=\"text/css\"/>\n",
      "<link href=\"http://fonts.googleapis.com/css?family=Open+Sans+Condensed%3A300%2C700%7COpen+Sans%3A400%2C700&amp;subset=latin%2Clatin-ext%2Ccyrillic%2Ccyrillic-ext%2Cgreek-ext%2Cgreek%2Cvietnamese&amp;ver=4b1d8be16a80ad6756d0d29df1a48058\" id=\"googlefonts-css\" media=\"all\" rel=\"stylesheet\" type=\"text/css\"/>\n",
      "<link href=\"http://startupbeat.hkej.com/wp-content/themes/maxmag/admin/theia-post-slider/css/A.buttons-orange.css,qver=4b1d8be16a80ad6756d0d29df1a48058.pagespeed.cf.BhQR7lOQOe.css\" id=\"theiaPostSlider-css\" media=\"all\" rel=\"stylesheet\" type=\"text/css\"/>\n",
      "<style id=\"wordpress-popular-posts-css\" media=\"all\">.wpp-no-data{}.wpp-list{}.wpp-list li{overflow:hidden;float:none;clear:both}.wpp-list li.current{}.wpp-thumbnail{display:inline;float:left;margin:0 5px 0 0;border:none}.wpp-post-title{}.wpp-excerpt{}.post-stats{display:block;font-size:9px;font-weight:bold}.wpp-comments{}.wpp-views{}.wpp-author{}.wpp-date{}.wpp-category{}.wpp-rating{}</style>\n",
      "<link href=\"http://startupbeat.hkej.com/wp-content/plugins/tablepress/css/default.min.css,qver=1.7.pagespeed.ce.7xkvLK1IWv.css\" id=\"tablepress-default-css\" media=\"all\" rel=\"stylesheet\" type=\"text/css\"/>\n",
      "<link href=\"http://startupbeat.hkej.com/wp-content/plugins/wpgform/css/A.wpgform.css,qver=4b1d8be16a80ad6756d0d29df1a48058.pagespeed.cf.5xZFHxC5VU.css\" id=\"wpgform-css-css\" media=\"all\" rel=\"stylesheet\" type=\"text/css\"/>\n",
      "<script src=\"http://startupbeat.hkej.com/wp-includes/js/jquery/jquery.js,,qver==1.11.3,Mjm.zixJPNMRNN.js+jquery-migrate.min.js,,qver==1.2.1,Mjm.mhpNjdU8Wl.js.pagespeed.jc.cxw7XxJC8i.js\"></script><script>eval(mod_pagespeed_SkAqPKxJv5);</script>\n",
      "<script>eval(mod_pagespeed_bu58_vox6u);</script>\n",
      "<script src=\"http://startupbeat.hkej.com/wp-content/themes/maxmag/admin/theia-post-slider/js/balupton-history.js/history.js,qver=1.7.1.pagespeed.ce.I68BcGQKCJ.js\" type=\"text/javascript\"></script>\n",
      "<script type=\"text/javascript\">//<![CDATA[\n",
      "(function(a,b){\"use strict\";var c=a.History=a.History||{},d=a.jQuery;if(typeof c.Adapter!=\"undefined\")throw new Error(\"History.js Adapter has already been loaded...\");c.Adapter={bind:function(a,b,c){d(a).bind(b,c)},trigger:function(a,b,c){d(a).trigger(b,c)},extractEventData:function(a,c,d){var e=c&&c.originalEvent&&c.originalEvent[a]||d&&d[a]||b;return e},onDomLoad:function(a){d(a)}},typeof c.init!=\"undefined\"&&c.init()})(window)\n",
      "//]]></script>\n",
      "<script src=\"http://startupbeat.hkej.com/wp-content/themes/maxmag/admin/theia-post-slider/js/async.min.js,qver=25.11.2012.pagespeed.jm.-2blEDidzQ.js\" type=\"text/javascript\"></script>\n",
      "<script type=\"text/javascript\">//<![CDATA[\n",
      "var tps=tps||{};tps.transitions=tps.transitions||{};tps.transitions.slide=function(me,previousIndex,newIndex){var $=jQuery;var width=me.destE.innerWidth(),diff=newIndex-previousIndex,direction=diff>0?1:-1;var previousSlide=previousIndex!==null?$(me.slides[previousIndex].content):null;if(previousSlide){me.destE.css('height',previousSlide.innerHeight());me.attachAnimation();previousSlide.css('width',width).css('position','absolute').css('left',0).animate({left:-direction*width},me.options.transitionSpeed,function(me){return function(){$(this).detach().css('position','').css('left','');me.detachAnimation();}}(me));}\n",
      "var slide=me.slides[newIndex].content;if(previousSlide==null){me.destE.append(slide);}\n",
      "else{slide.css('width',width);slide.css('visibility','hidden');me.destE.append(slide);me.attachAnimation();me.destE.animate({'height':slide.innerHeight()},me.options.transitionSpeed,function(me){return function(){$(this).css('position','');me.detachAnimation();}}(me));me.attachAnimation();slide.css('left',direction*width).css('position','absolute').css('visibility','visible').animate({left:'0'},me.options.transitionSpeed,function(me){return function(){$(this).css('position','').css('width','');me.destE.css('height','');me.detachAnimation();}}(me));me.onNewSlide();}}\n",
      "//]]></script>\n",
      "<link href=\"http://startupbeat.hkej.com/?rest_route=/\" rel=\"https://api.w.org/\"/>\n",
      "<link href=\"https://startupbeat.hkej.com/xmlrpc.php?rsd\" rel=\"EditURI\" title=\"RSD\" type=\"application/rsd+xml\"/>\n",
      "<link href=\"http://startupbeat.hkej.com/wp-includes/wlwmanifest.xml\" rel=\"wlwmanifest\" type=\"application/wlwmanifest+xml\"/>\n",
      "<script type=\"text/javascript\">var _gaq=_gaq||[];_gaq.push(['_setAccount','UA-4710049-1']);_gaq.push(['_trackPageview']);(function(){var ga=document.createElement('script');ga.type='text/javascript';ga.async=true;ga.src=('https:'==document.location.protocol?'https://ssl':'http://www')+'.google-analytics.com/ga.js';var s=document.getElementsByTagName('script')[0];s.parentNode.insertBefore(ga,s);})();</script>\n",
      "<script type=\"text/javascript\">jQuery(document).ready(function(e){function i(t){args=l(e(t).html());var n=new Object;n.checking=false;n.previousY=-1;n.open_trigger=f(args,\"open-trigger\",\"\");n.close_trigger=f(args,\"close-trigger\",\"\");n.timed_popup_delay=f(args,\"timed-popup-delay\",-1);n.enable_exit_intent=f(args,\"enable-exit-intent-popup\",false);n.enable_scroll=f(args,\"enable-scroll-popup\",false);n.scroll_percent=f(args,\"scroll-percent\",-1);n.scroll_trigger=f(args,\"scroll-trigger\",\"\");n.popup_selector=f(args,\"popup-selector\",\"\");n.popup_class=f(args,\"popup-class\",\"\");n.cookie_duration=f(args,\"cookie-duration\",0);n.cookie_name=f(args,\"cookie-name\",\"\");n.priority=f(args,\"priority\",0);return n}function s(e){if(false===r||r<e.priority){p(e);d(e.cookie_name,e.cookie_duration)}}function o(e){if(e.checking&&(false===r||r<e.priority)){p(e);d(e.cookie_name,e.cookie_duration)}e.checking=false}function u(t){if(false===r||r<t.priority){var n=e(window).scrollTop()+e(window).height(),i=e(document).height();if(t.scroll_percent>=0){if(n>i*t.scroll_percent/100){p(t)}}if(t.scroll_trigger){e(t.scroll_trigger).each(function(i,s){if(false===r||r<t.priority){var o=e(s).offset().top;if(o<n){p(t)}}})}}}function a(){var n=[];e(t).each(function(t){var r=i(this),o=v(r.cookie_name),a=e.isFunction(e.fn.on);if(o===null){if(r.timed_popup_delay>=0){setTimeout(function(){s(r)},r.timed_popup_delay*1e3)}if(r.enable_exit_intent){e(document).mousemove(function(e){c(e,r)})}if(r.enable_scroll&&(r.scroll_percent>=0||r.scroll_trigger)){if(a){e(window).on(\"scroll\",function(e){u(r)})}else{e(window).bind(\"scroll\",function(e){u(r)})}}}if(r.open_trigger){if(a){e(\"html\").on(\"touchend click\",r.open_trigger,function(e){if(e.target!==this)return;p(r);return false})}else{e(r.open_trigger).bind(\"touchend click\",function(e){if(e.target!==this)return;p(r);return false})}}if(r.close_trigger){if(a){e(\"html\").on(\"touchend click\",r.close_trigger,function(e){if(e.target!==this)return;h(r);return false})}else{e(r.close_trigger).bind(\"touchend click\",function(e){if(e.target!==this)return;h(r);return false})}}n.push(r)});e(document).keyup(function(e){if(e.keyCode!=27)return;for(var t=0;t<n.length;t++){h(n[t])}return false})}function f(e,t,n){var r=null;if(t in e){r=e[t];if(typeof n==\"boolean\"){return r==\"true\"}if(typeof n==\"number\"){return parseInt(r)}return r}return n}function l(t){var n=e.parseJSON(t),r=null;for(r in n){if(\"string\"===typeof n[r]){n[r]=n[r].replace(/&quot;/g,'\"');n[r]=n[r].replace(/&#039;/g,\"'\");n[r]=n[r].replace(/&lt;/g,\"<\");n[r]=n[r].replace(/&gt;/g,\">\");n[r]=n[r].replace(/&/g,\"&\")}}return n}function c(e,t){if(t.hasOpened)return;t.checking=false;if(e.clientY<t.previousY){var n=e.clientY+(e.clientY-t.previousY);if(n<=10){t.checking=true;setTimeout(function(){o(t)},1)}}t.previousY=e.clientY}function h(t){n=false;if(t.popup_selector&&t.popup_class){e(t.popup_selector).removeClass(t.popup_class)}}function p(t){r=t.priority;if(n)return;n=true;if(t.popup_selector&&t.popup_class){e(t.popup_selector).addClass(t.popup_class)}}function d(e,t){var n=\"\",r=null;if(e){if(t!==0){r=new Date;r.setTime(r.getTime()+t*24*60*60*1e3);n=\"; expires=\"+r.toGMTString()}document.cookie=e+\"=disable\"+n+\"; path=/\"}}function v(e){if(e){var t=e+\"=\",n=document.cookie,r=n.indexOf(t);if(r>=0){r+=t.length;endIndex=n.indexOf(\";\",r);if(endIndex<0)endIndex=n.length;return n.substring(r,endIndex)}}return null}var t=\".popupally-configuration\",n=false,r=false;a()})</script><style type=\"text/css\">#popup-box-sxzw-1 .clear-sxzw,#popup-embedded-box-sxzw-1 .clear-sxzw{clear:both;height:0px;width:100%}#popup-box-sxzw-1.popupally-overlay-sxzw-1{width:100%;height:100%;overflow:hidden;position:fixed;bottom:0;right:0;display:none;background-color:rgba(80,80,80,.5)}#popup-box-sxzw-1.popupally-opened-sxzw-1{display:block!important;z-index:9999}#popup-box-sxzw-1 .popupally-outer-sxzw-1{position:absolute;top:20%;left:50%;width:650px;background-color:#fefefe;margin-left:-325px;-webkit-box-shadow:0 10px 25px rgba(0,0,0,.5);-moz-box-shadow:0 10px 25px rgba(0,0,0,.5);box-shadow:0 10px 25px rgba(0,0,0,.5);-webkit-border-radius:4px;-moz-border-radius:4px;border-radius:4px}#popup-embedded-box-sxzw-1.popupally-outer-embedded-sxzw-1{width:650px;background-color:#fefefe;margin:0 auto;clear:both}#popup-box-sxzw-1 .popupally-inner-sxzw-1,#popup-embedded-box-sxzw-1 .popupally-inner-sxzw-1{overflow:visible;height:auto;padding:20px;text-align:center}#popup-box-sxzw-1 .popupally-inner-sxzw-1 .content-sxzw,#popup-embedded-box-sxzw-1 .popupally-inner-sxzw-1 .content-sxzw{text-align:center;vertical-align:middle;width:100%;box-sizing:border-box;-moz-box-sizing:border-box}#popup-box-sxzw-1 .popupally-inner-sxzw-1 .desc-sxzw,#popup-embedded-box-sxzw-1 .popupally-inner-sxzw-1 .desc-sxzw{font-family:\"Palatino Linotype\",\"Book Antiqua\",Palatino,serif;font-size:28px;line-height:30px;font-weight:bold;margin:0 0 10px 0;color:#444;display:none;box-sizing:border-box;-moz-box-sizing:border-box;cursor:pointer}#popup-box-sxzw-1 .popupally-inner-sxzw-1 .popupally-center-sxzw .content-sxzw input[type=\"text\"].field-sxzw,#popup-embedded-box-sxzw-1 .popupally-inner-sxzw-1 .popupally-center-sxzw .content-sxzw input[type=\"text\"].field-sxzw{display:block;padding:15px 12px;margin:0 auto 10px auto;width:100%;font-family:Arial,Helvetica,sans-serif;font-size:16px;line-height:21px;border:1px solid #d4d3d3;background:#f6f6f6;-webkit-box-shadow: 0 1px 0 rgba(255,255,255,0.67),inset 0 1px 3px rgba(5,5,5,0.13);-moz-box-shadow: 0 1px 0 rgba(255,255,255,0.67),inset 0 1px 3px rgba(5,5,5,0.13);box-shadow: 0 1px 0 rgba(255,255,255,0.67),inset 0 1px 3px rgba(5,5,5,0.13);-webkit-border-radius:3px;-moz-border-radius:3px;border-radius:3px;box-sizing:border-box;-moz-box-sizing:border-box;height:auto}#popup-box-sxzw-1 .popupally-inner-sxzw-1 .popupally-center-sxzw .content-sxzw input[type=\"submit\"].submit-sxzw,#popup-embedded-box-sxzw-1 .popupally-inner-sxzw-1 .popupally-center-sxzw .content-sxzw input[type=\"submit\"].submit-sxzw{font-family:Arial,Helvetica,sans-serif;font-size:22px;line-height:27px;background-color:#43b332;border-style:solid;border-width:1pt;border-color:silver;-webkit-box-sizing:border-box;-moz-box-sizing:border-box;box-sizing:border-box;color:#fff;text-shadow:0 .1em .3em rgba(0,0,0,.3);cursor:pointer;-webkit-border-radius:3pt;-moz-border-radius:3pt;border-radius:3pt;width:100%;padding:15px 0;margin:10px auto;box-sizing:border-box;-moz-box-sizing:border-box;height:auto;background-image:none}#popup-box-sxzw-1 .popupally-inner-sxzw-1 .popupally-center-sxzw .content-sxzw input[type=\"submit\"].submit-sxzw:hover,#popup-embedded-box-sxzw-1 .popupally-inner-sxzw-1 .popupally-center-sxzw .content-sxzw input[type=\"submit\"].submit-sxzw:hover{background-color:#43b332;color:#fff;background-image:none}#popup-box-sxzw-1 .popupally-inner-sxzw-1 .privacy-sxzw,#popup-embedded-box-sxzw-1 .popupally-inner-sxzw-1 .privacy-sxzw{font-family:\"Palatino Linotype\",\"Book Antiqua\",Palatino,serif;font-size:14px;line-height:14px;color:#444;display:none;margin:10px 0;padding:0;box-sizing:border-box;-moz-box-sizing:border-box}#popup-box-sxzw-1 .popupally-outer-sxzw-1 .popupally-close-sxzw{background-image:url(http://startupbeat.hkej.com/wp-content/plugins/popupally/resource/frontend/img/xfancy_close.png.pagespeed.ic.ruyOtSWt79.png);background-size:cover;display:block;position:absolute;top:-12px;right:-12px;width:30px;height:30px;color:#fff;cursor:pointer}#popup-box-sxzw-1 .popupally-inner-sxzw-1 .logo-row-sxzw,#popup-embedded-box-sxzw-1 .popupally-inner-sxzw-1 .logo-row-sxzw{margin:20px 0;display:block}#popup-box-sxzw-1 .popupally-inner-sxzw-1 .logo-img-sxzw,#popup-embedded-box-sxzw-1 .popupally-inner-sxzw-1 .logo-img-sxzw{height:120px;margin:0 20px 0 0;float:left;display:block}#popup-box-sxzw-1 .popupally-inner-sxzw-1 .logo-text-sxzw,#popup-embedded-box-sxzw-1 .popupally-inner-sxzw-1 .logo-text-sxzw{height:auto;width:100%;vertical-align:top;text-align:left;font-family:\"Palatino Linotype\",\"Book Antiqua\",Palatino,serif;font-size:24px;line-height:28px;color:#444;margin:0;padding:0;box-sizing:border-box;-moz-box-sizing:border-box}@media (max-width:768px){#popup-box-sxzw-1 .popupally-outer-sxzw-1{width:480px;margin-left:-240px}#popup-embedded-box-sxzw-1.popupally-outer-embedded-sxzw-1{width:480px}#popup-box-sxzw-1 .popupally-inner-sxzw-1 .desc-sxzw,#popup-embedded-box-sxzw-1 .popupally-inner-sxzw-1 .desc-sxzw{font-size:24px;line-height:26px}#popup-box-sxzw-1 .popupally-inner-sxzw-1 .popupally-center-sxzw .content-sxzw input[type=\"text\"].field-sxzw,#popup-embedded-box-sxzw-1 .popupally-inner-sxzw-1 .popupally-center-sxzw .content-sxzw input[type=\"text\"].field-sxzw{padding:10px 10px;font-size:12px;line-height:18px;margin-bottom:7px}#popup-box-sxzw-1 .popupally-inner-sxzw-1 .popupally-center-sxzw .content-sxzw input[type=\"submit\"].submit-sxzw,#popup-embedded-box-sxzw-1 .popupally-inner-sxzw-1 .popupally-center-sxzw .content-sxzw input[type=\"submit\"].submit-sxzw{font-size:18px;padding:10px 0;margin-top:8px;margin-bottom:8px}#popup-box-sxzw-1 .popupally-inner-sxzw-1 .privacy-sxzw,#popup-embedded-box-sxzw-1 .popupally-inner-sxzw-1 .privacy-sxzw{font-size:10px;line-height:10px}#popup-box-sxzw-1 .popupally-inner-sxzw-1 .logo-row-sxzw,#popup-embedded-box-sxzw-1 .popupally-inner-sxzw-1 .logo-row-sxzw{margin:15px 0}#popup-box-sxzw-1 .popupally-inner-sxzw-1 .logo-img-sxzw,#popup-embedded-box-sxzw-1 .popupally-inner-sxzw-1 .logo-img-sxzw{height:80px;margin:0 15px 0 0}#popup-box-sxzw-1 .popupally-inner-sxzw-1 .logo-text-sxzw,#popup-embedded-box-sxzw-1 .popupally-inner-sxzw-1 .logo-text-sxzw{font-size:20px;line-height:22px}}@media (max-width:520px){#popup-box-sxzw-1 .popupally-outer-sxzw-1{width:300px;margin-left:-150px}#popup-embedded-box-sxzw-1.popupally-outer-embedded-sxzw-1{width:300px}#popup-box-sxzw-1 .popupally-inner-sxzw-1 .desc-sxzw,#popup-embedded-box-sxzw-1 .popupally-inner-sxzw-1 .desc-sxzw{font-size:18px;line-height:20px}#popup-box-sxzw-1 .popupally-inner-sxzw-1 .popupally-center-sxzw .content-sxzw input[type=\"text\"].field-sxzw,#popup-embedded-box-sxzw-1 .popupally-inner-sxzw-1 .popupally-center-sxzw .content-sxzw input[type=\"text\"].field-sxzw{padding:10px 6px;font-size:10px;line-height:14px;margin-bottom:5px}#popup-box-sxzw-1 .popupally-inner-sxzw-1 .popupally-center-sxzw .content-sxzw input[type=\"submit\"].submit-sxzw,#popup-embedded-box-sxzw-1 .popupally-inner-sxzw-1 .popupally-center-sxzw .content-sxzw input[type=\"submit\"].submit-sxzw{font-size:16px;padding:8px 0;margin-top:4px;margin-bottom:4px}#popup-box-sxzw-1 .popupally-inner-sxzw-1 .privacy-sxzw,#popup-embedded-box-sxzw-1 .popupally-inner-sxzw-1 .privacy-sxzw{font-size:8px;line-height:8px}#popup-box-sxzw-1 .popupally-inner-sxzw-1 .logo-row-sxzw,#popup-embedded-box-sxzw-1 .popupally-inner-sxzw-1 .logo-row-sxzw{margin:10px 0}#popup-box-sxzw-1 .popupally-inner-sxzw-1 .logo-img-sxzw,#popup-embedded-box-sxzw-1 .popupally-inner-sxzw-1 .logo-img-sxzw{height:60px;margin:0 10px 0 0}#popup-box-sxzw-1 .popupally-inner-sxzw-1 .logo-text-sxzw,#popup-embedded-box-sxzw-1 .popupally-inner-sxzw-1 .logo-text-sxzw{font-size:12px;line-height:14px}}</style><script type=\"text/javascript\">(function(url){if(/(?:Chrome\\/26\\.0\\.1410\\.63 Safari\\/537\\.31|WordfenceTestMonBot)/.test(navigator.userAgent)){return;}\n",
      "var addEvent=function(evt,handler){if(window.addEventListener){document.addEventListener(evt,handler,false);}else if(window.attachEvent){document.attachEvent('on'+evt,handler);}};var removeEvent=function(evt,handler){if(window.removeEventListener){document.removeEventListener(evt,handler,false);}else if(window.detachEvent){document.detachEvent('on'+evt,handler);}};var evts='contextmenu dblclick drag dragend dragenter dragleave dragover dragstart drop keydown keypress keyup mousedown mousemove mouseout mouseover mouseup mousewheel scroll'.split(' ');var logHuman=function(){var wfscr=document.createElement('script');wfscr.type='text/javascript';wfscr.async=true;wfscr.src=url+'&r='+Math.random();(document.getElementsByTagName('head')[0]||document.getElementsByTagName('body')[0]).appendChild(wfscr);for(var i=0;i<evts.length;i++){removeEvent(evts[i],logHuman);}};for(var i=0;i<evts.length;i++){addEvent(evts[i],logHuman);}})('//startupbeat.hkej.com/?wordfence_lh=1&hid=9EDE730A56DD132371FE823BD0ECDA18');</script>\n",
      "<style type=\"text/css\">a,a:visited,#twtr-widget-1 .twtr-tweet a{color:#3e85b8}h3.category-heading,.toggle{background:#ed7300}.home-widget h3,.home-widget h3 a,.middle-widget h3,.middle-widget h3 a,.sidebar-widget h3,.sidebar-widget h3 a,.bottom-widget h3,.bottom-widget h3 a,.widget-container h3,.widget-container h3 a,.multi-category h3,ul.tabs li.active h4 a,#related-posts h3,h3#reply-title,h2.comments{color:#ed7300}#main-nav ul li:hover,#main-nav .current-menu-item,#main-nav .current-post-parent{background:#ed7300 url(http://startupbeat.hkej.com/wp-content/themes/maxmag/images/nav-bg.png.pagespeed.ce.jnrnbAwoeg.png) top repeat-x}#main-nav ul li:hover ul{border-top:5px solid #ed7300}#main-nav-wrapper{background:#43b332 url(http://startupbeat.hkej.com/wp-content/themes/maxmag/images/nav-bg.png.pagespeed.ce.jnrnbAwoeg.png) top repeat-x;border-bottom:5px solid #ed7300}#nav-mobi select{background:#43b332 url(http://startupbeat.hkej.com/wp-content/themes/maxmag/images/xtriangle-dark.png.pagespeed.ic.UVPAR5KUSf.png) no-repeat right}ul.tabs li{background:#ed7300}#wallpaper{background:url(http://startupbeat.hkej.com/?tag=%E5%AE%9A%E4%BD%8D) no-repeat 50% 0}</style><meta content=\"StartupBeat\" property=\"og:site_name\"/>\n",
      "<meta content=\"website\" property=\"og:type\"/>\n",
      "<meta content=\"en_US\" property=\"og:locale\"/>\n",
      "<meta content=\"247882725330320\" property=\"fb:app_id\"/>\n",
      "<style type=\"text/css\">\r",
      "\r\n",
      "#post-area {\r\n",
      "    font: 16px/26px helvetica,arial,sans-serif;\r\n",
      "}\r\n",
      "\r\n",
      ".category-links p {\r\n",
      "    color: rgb(85, 85, 85);\r\n",
      "    float: left;\r\n",
      "    font: 400 13px/18px 'Open Sans',sans-serif;\r\n",
      "}\r\n",
      "\r\n",
      ".headline-small {\r\n",
      "    color: rgb(51, 51, 51);\r\n",
      "    font: 700 14px/18px 'Open Sans Condensed',sans-serif;\r\n",
      "    text-transform: capitalize;\r\n",
      "}\r\n",
      "\r\n",
      ".middle-widget {\r\n",
      "    font: 400 13px 'Open Sans',sans-serif;\r\n",
      "}\r\n",
      "\r\n",
      ".category2 p, .category3-text p, .category3-text-noimg p {\r\n",
      "    color: rgb(85, 85, 85);\r\n",
      "    float: left;\r\n",
      "    font: 400 13px/16px 'Open Sans',sans-serif;\r\n",
      "}\r\n",
      "\r\n",
      ".tabber-text p, .tabber-text-noimg {\r\n",
      "    font: 400 13px/16px 'Open Sans',sans-serif;\r\n",
      "}\r\n",
      "\r\n",
      ".footer-widget {\r\n",
      "    color: rgb(119, 119, 119);\r\n",
      "    font: 400 13px 'Open Sans',sans-serif;\r\n",
      "}\r\n",
      "\r\n",
      "#ticker a {\r\n",
      "    color: rgb(85, 85, 85);\r\n",
      "    float: left;\r\n",
      "    font: 700 13px/13px 'Open Sans',sans-serif;\r\n",
      "}\r\n",
      "\r\n",
      ".sidebar-widget h3 {\r\n",
      "    border-bottom: 0px dotted rgb(204, 204, 204);\r\n",
      "    font: 700 18px/18px 'Open Sans Condensed',sans-serif;\r\n",
      "    text-transform: uppercase;\r\n",
      "}\r\n",
      "\r\n",
      ".sidebar-widget {\r\n",
      "float: left;\r\n",
      "font: 400 16px 'Open Sans',sans-serif;\r\n",
      "margin-bottom: 30px;\r\n",
      "overflow: hidden;\r\n",
      "width: 100%;\r\n",
      "}\r\n",
      "\r\n",
      ".home-widget h3 {\r\n",
      "    font: 700 18px/18px 'Open Sans Condensed',sans-serif;\r\n",
      "    text-transform: uppercase;\r\n",
      "}\r\n",
      "\r\n",
      ".middle-widget h3 {\r\n",
      "    border-bottom: 1px dotted rgb(204, 204, 204);\r\n",
      "    float: left;\r\n",
      "    font: 700 18px/18px 'Open Sans Condensed',sans-serif;\r\n",
      "    margin-bottom: 10px;\r\n",
      "    padding-bottom: 5px;\r\n",
      "    text-transform: uppercase;\r\n",
      "    width: 100%;\r\n",
      "}\r\n",
      "\r\n",
      ".wpp-thumbnail {\r\n",
      "    display: inline;\r\n",
      "    float: left;\r\n",
      "    margin: 2px 5px 2px 0px;\r\n",
      "    padding: 2px;\r\n",
      "    border: 1px solid rgb(204, 204, 204);\r\n",
      "}\r\n",
      "\r\n",
      "#related-posts h3 {\r\n",
      "border-bottom: 1px dotted #ccc;\r\n",
      "font: 700 18px/18px 'Open Sans Condensed', sans-serif;\r\n",
      "margin-bottom: 10px;\r\n",
      "padding-bottom: 5px;\r\n",
      "text-transform: uppercase;\r\n",
      "}\r\n",
      "\r\n",
      "h3#reply-title, h2.comments {\r\n",
      "    border-bottom: 1px dotted rgb(204, 204, 204);\r\n",
      "    font: 700 18px/18px 'Open Sans Condensed',sans-serif !important;\r\n",
      "    margin: 0px 0px 10px !important;\r\n",
      "    padding-bottom: 5px;\r\n",
      "    text-transform: uppercase;\r\n",
      "}\r\n",
      "\r\n",
      "#content-area h1, #post-area h1 {\r\n",
      "color: #333;\r\n",
      "font: 700 36px/38px 'Open Sans Condensed', sans-serif;\r\n",
      "margin: 10px 0;\r\n",
      "width: 100%;\r\n",
      "}\r\n",
      "ul.headlines-info li.comments-icon{\r\n",
      "\tdisplay:none !important;\r\n",
      "}\r\n",
      "\r\n",
      ".social-box {\r\n",
      "display: none;\r\n",
      "}\r\n",
      "\r\n",
      "#crumbs{\r\n",
      "                display:none !important;\r\n",
      "}\r\n",
      "\r\n",
      "#post-info-left{\r\n",
      "                margin-bottom:20px;\r\n",
      "}\r\n",
      "\r\n",
      "#headlines-info{\r\n",
      "                display:none !important;\r\n",
      "}\r\n",
      "\r\n",
      ".post-tags {\r\n",
      "background: url(http://startupbeat.hkej.com/wp-content/themes/maxmag/images/xtag.png.pagespeed.ic.1N_3mjt9lZ.png) no-repeat top left;\r\n",
      "clear: both;\r\n",
      "float: left;\r\n",
      "font: 700 12px/12px 'Open Sans',sans-serif;\r\n",
      "margin-bottom: 10px;\r\n",
      "padding-left: 22px;\r\n",
      "display: none !important;\r\n",
      "}\r\n",
      "\r\n",
      "media=\"all\"\r\n",
      "#main-nav ul li a {\r\n",
      "color: #fff;\r\n",
      "float: left;\r\n",
      "font: 700 20px/20px 'Open Sans Condensed', sans-serif;\r\n",
      "padding: 9px 20px;\r\n",
      "text-decoration: none;\r\n",
      "/* text-transform: uppercase; display:none */\r\n",
      "\r\n",
      "#content-area img {\r\n",
      "border: 0px solid #ccc;\r\n",
      "max-width: 98%;\r\n",
      "padding: 2px;\r\n",
      "margin-top: 6px;\r\n",
      "}\r\n",
      "\r\n",
      ".addthis_counter {\r\n",
      "                 display:none !important;\r\n",
      "}\r\n",
      "\r\n",
      ".addthis_toolbox{\r\n",
      "                margin-bottom:10px;\r\n",
      "                margin-top: 5px;\r\n",
      "}\r\n",
      "\r\n",
      "h3.category-heading{\r\n",
      "                display: none;\r\n",
      "}\r\n",
      "\r\n",
      "a, a:visited {\r\n",
      "\r\n",
      "\ttext-decoration: none;\r\n",
      "\r\n",
      "\t\t-moz-transition: color .2s;\r\n",
      "\r\n",
      "\t\t-ms-transition: color .2s;\r\n",
      "\r\n",
      "\t\t-o-transition: color .2s;\r\n",
      "\r\n",
      "\t\t-webkit-transition: color .2s;\r\n",
      "\r\n",
      "\t\ttransition: color .2s;\r\n",
      "\r\n",
      "\t\tfont-weight: bold;\r\n",
      "\t}\r\n",
      "</style>\n",
      "</head>\n",
      "<body class=\"archive tag tag-fintech tag-1469\">\n",
      "<div id=\"site\">\n",
      "<!-- #7 DFP /79812692/StartUpBeat_Homepage_Overlay -->\n",
      "<div id=\"div-gpt-ad-1448535532593-0\" style=\"height:7px; width:7px;\">\n",
      "<script type=\"text/javascript\">googletag.cmd.push(function(){googletag.display('div-gpt-ad-1448535532593-0');});</script>\n",
      "</div>\n",
      "<div id=\"nav\">\n",
      "<div id=\"main-nav-wrapper\">\n",
      "<div id=\"main-nav\">\n",
      "<div class=\"menu-menu-1-container\"><ul class=\"menu\" id=\"menu-menu-1\"><li class=\"menu-item menu-item-type-custom menu-item-object-custom menu-item-938\" id=\"menu-item-938\"><a href=\"http://www.hkej.com\" title=\"返回信報網站\"><img alt=\"返回信報網站\" src=\"http://startupbeat.hkej.com/wp-content/uploads/2013/12/xhkej-logo-white.png.pagespeed.ic.cOI97A_7hm.png\" style=\"margin:-3px 0 -6px 0;\"/><span style=\"display:none !important\">返回信報網站</span></a></li>\n",
      "<li class=\"menu-item menu-item-type-custom menu-item-object-custom menu-item-28458\" id=\"menu-item-28458\"><a href=\"/?page_id=28452\">HK Startups 融資紀錄</a></li>\n",
      "<li class=\"menu-item menu-item-type-custom menu-item-object-custom menu-item-22494\" id=\"menu-item-22494\"><a href=\"http://startupbeat.hkej.com/?tag=fintech\">FinTech</a></li>\n",
      "<li class=\"menu-item menu-item-type-custom menu-item-object-custom menu-item-48148\" id=\"menu-item-48148\"><a href=\"http://startupbeat.hkej.com/?tag=電競\">電子競技</a></li>\n",
      "<li class=\"menu-item menu-item-type-custom menu-item-object-custom menu-item-54208\" id=\"menu-item-54208\"><a href=\"http://startupbeat.hkej.com/?tag=ai\">人工智能</a></li>\n",
      "<li class=\"menu-item menu-item-type-post_type menu-item-object-page menu-item-16463\" id=\"menu-item-16463\"><a href=\"http://startupbeat.hkej.com/?page_id=16252\">投稿/聯絡我們</a></li>\n",
      "</ul></div>\n",
      "</div><!--main-nav-->\n",
      "<div id=\"nav-mobi\">\n",
      "<div class=\"menu-menu-1-container\"><select><option value=\"#\">Menu</option><option value=\"http://www.hkej.com\"><img alt=\"返回信報網站\" src=\"http://startupbeat.hkej.com/wp-content/uploads/2013/12/xhkej-logo-white.png.pagespeed.ic.cOI97A_7hm.png\" style=\"margin:-3px 0 -6px 0;\"/><span style=\"display:none !important\">返回信報網站</span></option>\n",
      "<option value=\"/?page_id=28452\">HK Startups 融資紀錄</option>\n",
      "<option value=\"http://startupbeat.hkej.com/?tag=fintech\">FinTech</option>\n",
      "<option value=\"http://startupbeat.hkej.com/?tag=電競\">電子競技</option>\n",
      "<option value=\"http://startupbeat.hkej.com/?tag=ai\">人工智能</option>\n",
      "<option value=\"http://startupbeat.hkej.com/?page_id=16252\">投稿/聯絡我們</option>\n",
      "</select></div>\n",
      "</div><!--nav-mobi-->\n",
      "</div><!--main-nav-wrapper-->\n",
      "</div><!--nav-->\n",
      "<div id=\"wrapper\">\n",
      "<div id=\"inner-wrapper\">\n",
      "<div id=\"content\">\n",
      "<div id=\"main-header-wrapper\">\n",
      "<div id=\"header\">\n",
      "<div id=\"logo\" itemscope=\"\" itemtype=\"http://schema.org/Organization\">\n",
      "<a href=\"http://startupbeat.hkej.com\" itemprop=\"url\"><img alt=\"StartupBeat\" itemprop=\"logo\" src=\"http://startupbeat.hkej.com/wp-content/uploads/2013/12/xUPBEAT_1_log0_803.png.pagespeed.ic.IpbFKDZ2FD.png\"/></a>\n",
      "</div><!--logo-->\n",
      "</div><!--header-->\n",
      "</div><!--main-header-wrapper-->\n",
      "<div id=\"content-top\">\n",
      "<div id=\"ticker\">\n",
      "<span class=\"ticker-heading\">Don't Miss</span>\n",
      "<ul class=\"ticker-list\">\n",
      "<li><a href=\"http://startupbeat.hkej.com/?p=59458\">WeLab勢成港產同股不同權頭炮</a></li>\n",
      "<li><a href=\"http://startupbeat.hkej.com/?p=59334\">「港初創有能力衝出國際」 創投公司視區塊鏈重點投資對象</a></li>\n",
      "</ul>\n",
      "</div><!--ticker-->\n",
      "<div id=\"content-social\">\n",
      "<ul>\n",
      "<li><a alt=\"Facebook\" class=\"fb-but\" href=\"http://www.facebook.com/ejstartupbeat\" target=\"_blank\"></a></li>\n",
      "<li><a alt=\"RSS Feed\" class=\"rss-but\" href=\"http://startupbeat.hkej.com/?feed=rss\"></a></li>\n",
      "<li>\n",
      "<div class=\"search-wrapper\">\n",
      "<div class=\"search-box\">\n",
      "<form action=\"http://startupbeat.hkej.com/\" id=\"searchform\" method=\"get\">\n",
      "<input id=\"s\" name=\"s\" onblur='if (this.value == \"\") { this.value = \"Search site\"; }' onfocus='if (this.value == \"Search site\") { this.value = \"\"; }' type=\"text\" value=\"Search site\"/>\n",
      "<input id=\"search-button\" type=\"hidden\"/>\n",
      "</form>\n",
      "</div><!--search-box-->\n",
      "</div><!--search wrapper-->\n",
      "</li>\n",
      "</ul>\n",
      "</div><!--content-social-->\n",
      "</div><!--content-top-->\n",
      "<div id=\"main\">\n",
      "<div id=\"post-area\">\n",
      "<h1>All posts tagged \"FinTech\"</h1>\n",
      "<ul class=\"archive\">\n",
      "<li>\n",
      "<div class=\"archive-image\">\n",
      "<a href=\"http://startupbeat.hkej.com/?p=59507\" rel=\"bookmark\" title=\"港微信支付寶 可購買危疾險\"><img alt=\"0525_P15\" class=\"attachment-small-thumb size-small-thumb wp-post-image\" height=\"134\" src=\"http://startupbeat.hkej.com/wp-content/uploads/2018/05/120x134x0525_P15-120x134.jpg.pagespeed.ic.rPiiSJ75bW.jpg\" width=\"120\"/></a>\n",
      "</div><!--archive-image-->\n",
      "<div class=\"archive-text\">\n",
      "<a class=\"main-headline\" href=\"http://startupbeat.hkej.com/?p=59507\">港微信支付寶 可購買危疾險</a>\n",
      "<p>中銀人壽與WeChat Pay HK及Alipay HK合作，推出首隻可透過微信支付及支付寶購買的危疾保險產品，惟之後每期保費則未能透過上述平台繳交。上述產品相對簡單，保障範圍包括癌症、中風及心臟疾病；投保人毋須驗身。</p>\n",
      "<div class=\"headlines-info\">\n",
      "<ul class=\"headlines-info\">\n",
      "<li>Posted May 25, 2018</li>\n",
      "<li class=\"comments-icon\"><a href=\"http://startupbeat.hkej.com/?p=59507#respond\"><fb:comments-count href=\"http://startupbeat.hkej.com/?p=59507\" xmlns=\"http://ogp.me/ns/fb#\"></fb:comments-count> Comments</a></li>\n",
      "</ul>\n",
      "</div><!--headlines-info-->\n",
      "</div><!--archive-text-->\n",
      "</li>\n",
      "<li>\n",
      "<div class=\"archive-image\">\n",
      "<a href=\"http://startupbeat.hkej.com/?p=59458\" rel=\"bookmark\" title=\"WeLab勢成港產同股不同權頭炮\"><img alt=\"0524_P13\" class=\"attachment-small-thumb size-small-thumb wp-post-image\" height=\"134\" src=\"http://startupbeat.hkej.com/wp-content/uploads/2018/05/120x134x0524_P13-120x134.jpg.pagespeed.ic.psU_7qbh6Q.jpg\" width=\"120\"/></a>\n",
      "</div><!--archive-image-->\n",
      "<div class=\"archive-text\">\n",
      "<a class=\"main-headline\" href=\"http://startupbeat.hkej.com/?p=59458\">WeLab勢成港產同股不同權頭炮</a>\n",
      "<p>網貸平台營運商WeLab據悉已委託至少3間投行擔任上市安排行，並正考慮以「同股不同權」（WVR）形式在港上市，有望成為首間港產WVR企業，最快今年下半年掛牌。</p>\n",
      "<div class=\"headlines-info\">\n",
      "<ul class=\"headlines-info\">\n",
      "<li>Posted May 24, 2018</li>\n",
      "<li class=\"comments-icon\"><a href=\"http://startupbeat.hkej.com/?p=59458#respond\"><fb:comments-count href=\"http://startupbeat.hkej.com/?p=59458\" xmlns=\"http://ogp.me/ns/fb#\"></fb:comments-count> Comments</a></li>\n",
      "</ul>\n",
      "</div><!--headlines-info-->\n",
      "</div><!--archive-text-->\n",
      "</li>\n",
      "<li>\n",
      "<div class=\"archive-image\">\n",
      "<a href=\"http://startupbeat.hkej.com/?p=59444\" rel=\"bookmark\" title=\"美流動支付 星巴克稱王\"><img alt=\"0524_P07\" class=\"attachment-small-thumb size-small-thumb wp-post-image\" height=\"134\" src=\"http://startupbeat.hkej.com/wp-content/uploads/2018/05/120x134x0524_P07-120x134.jpg.pagespeed.ic.t_R_cuGycL.jpg\" width=\"120\"/></a>\n",
      "</div><!--archive-image-->\n",
      "<div class=\"archive-text\">\n",
      "<a class=\"main-headline\" href=\"http://startupbeat.hkej.com/?p=59444\">美流動支付 星巴克稱王</a>\n",
      "<p>市場研究公司eMarketer調查指出，眾多流動支付平台中，以連鎖咖啡店星巴克（Starbucks）的應用程式（App）在美國最受歡迎，去年用戶人數高達2070萬，穩居榜首。Apple Pay緊隨其後，去年亦有1990萬名用戶。</p>\n",
      "<div class=\"headlines-info\">\n",
      "<ul class=\"headlines-info\">\n",
      "<li>Posted May 24, 2018</li>\n",
      "<li class=\"comments-icon\"><a href=\"http://startupbeat.hkej.com/?p=59444#respond\"><fb:comments-count href=\"http://startupbeat.hkej.com/?p=59444\" xmlns=\"http://ogp.me/ns/fb#\"></fb:comments-count> Comments</a></li>\n",
      "</ul>\n",
      "</div><!--headlines-info-->\n",
      "</div><!--archive-text-->\n",
      "</li>\n",
      "<li>\n",
      "<div class=\"archive-image\">\n",
      "<a href=\"http://startupbeat.hkej.com/?p=59433\" rel=\"bookmark\" title=\"區塊鏈初創首5月籌百億\"><img alt=\"\" class=\"attachment-small-thumb size-small-thumb wp-post-image\" height=\"134\" src=\"http://startupbeat.hkej.com/wp-content/uploads/2018/05/120x134x0524_P01-120x134.jpg.pagespeed.ic.1YOFh7lXiB.jpg\" width=\"120\"/></a>\n",
      "</div><!--archive-image-->\n",
      "<div class=\"archive-text\">\n",
      "<a class=\"main-headline\" href=\"http://startupbeat.hkej.com/?p=59433\">區塊鏈初創首5月籌百億</a>\n",
      "<p>區塊鏈熱潮未見減退，更受風投基金追捧。據創投資料庫Crunchbase指出，截至今年首5個月，區塊鏈創新企業在全球吸金約101.4億港元，融資額已超過2017年度的總和。</p>\n",
      "<div class=\"headlines-info\">\n",
      "<ul class=\"headlines-info\">\n",
      "<li>Posted May 24, 2018</li>\n",
      "<li class=\"comments-icon\"><a href=\"http://startupbeat.hkej.com/?p=59433#respond\"><fb:comments-count href=\"http://startupbeat.hkej.com/?p=59433\" xmlns=\"http://ogp.me/ns/fb#\"></fb:comments-count> Comments</a></li>\n",
      "</ul>\n",
      "</div><!--headlines-info-->\n",
      "</div><!--archive-text-->\n",
      "</li>\n",
      "<li>\n",
      "<div class=\"archive-image\">\n",
      "<a href=\"http://startupbeat.hkej.com/?p=59379\" rel=\"bookmark\" title=\"時富金融下季推虛幣交易平台  攻200萬Y世代 永久免佣招徠\"><img alt=\"\" class=\"attachment-small-thumb size-small-thumb wp-post-image\" height=\"134\" src=\"http://startupbeat.hkej.com/wp-content/uploads/2018/05/120x134x0523_P08-120x134.jpg.pagespeed.ic.DmMVf_7Inn.jpg\" width=\"120\"/></a>\n",
      "</div><!--archive-image-->\n",
      "<div class=\"archive-text\">\n",
      "<a class=\"main-headline\" href=\"http://startupbeat.hkej.com/?p=59379\">時富金融下季推虛幣交易平台  攻200萬Y世代 永久免佣招徠</a>\n",
      "<p>時富金融（00510）最近開設從事數字貨幣交易服務的鯰魚金融科技，並計劃於今年第三季推出交易平台，更永久免佣金。該公司執行董事兼行政總裁陳志明表示，新平台短期目標達到20萬名登記用戶，冀望每天有20億元的交易量。</p>\n",
      "<div class=\"headlines-info\">\n",
      "<ul class=\"headlines-info\">\n",
      "<li>Posted May 23, 2018</li>\n",
      "<li class=\"comments-icon\"><a href=\"http://startupbeat.hkej.com/?p=59379#respond\"><fb:comments-count href=\"http://startupbeat.hkej.com/?p=59379\" xmlns=\"http://ogp.me/ns/fb#\"></fb:comments-count> Comments</a></li>\n",
      "</ul>\n",
      "</div><!--headlines-info-->\n",
      "</div><!--archive-text-->\n",
      "</li>\n",
      "<li>\n",
      "<div class=\"archive-image\">\n",
      "<a href=\"http://startupbeat.hkej.com/?p=59357\" rel=\"bookmark\" title=\"馬雲在港被「捕獲」用支付寶買報紙 (凌通)\"><img alt=\"0521_P17\" class=\"attachment-small-thumb size-small-thumb wp-post-image\" height=\"134\" src=\"http://startupbeat.hkej.com/wp-content/uploads/2018/05/120x134x0521_P17-120x134.jpg.pagespeed.ic.nGaKRTb1hv.jpg\" width=\"120\"/></a>\n",
      "</div><!--archive-image-->\n",
      "<div class=\"archive-text\">\n",
      "<a class=\"main-headline\" href=\"http://startupbeat.hkej.com/?p=59357\">馬雲在港被「捕獲」用支付寶買報紙 (凌通)</a>\n",
      "<p>阿里巴巴主席馬雲上周五獲香港大學頒授名譽博士學位，他當日除了出席典禮，微服出巡時更被網民「野生捕獲」，在香港銅鑼灣一家便利店買報紙，當時他準備試用支付寶付款，這位網民在微博曬出照片後，支付寶的官方微博亦有轉載。</p>\n",
      "<div class=\"headlines-info\">\n",
      "<ul class=\"headlines-info\">\n",
      "<li>Posted May 21, 2018</li>\n",
      "<li class=\"comments-icon\"><a href=\"http://startupbeat.hkej.com/?p=59357#respond\"><fb:comments-count href=\"http://startupbeat.hkej.com/?p=59357\" xmlns=\"http://ogp.me/ns/fb#\"></fb:comments-count> Comments</a></li>\n",
      "</ul>\n",
      "</div><!--headlines-info-->\n",
      "</div><!--archive-text-->\n",
      "</li>\n",
      "<li>\n",
      "<div class=\"archive-image\">\n",
      "<a href=\"http://startupbeat.hkej.com/?p=59350\" rel=\"bookmark\" title=\"螞蟻金服參與融資禁買對手股份\"><img alt=\"\" class=\"attachment-small-thumb size-small-thumb wp-post-image\" height=\"134\" src=\"http://startupbeat.hkej.com/wp-content/uploads/2018/05/120x134x0521_P15-120x134.jpg.pagespeed.ic.2xiaSvunv0.jpg\" width=\"120\"/></a>\n",
      "</div><!--archive-image-->\n",
      "<div class=\"archive-text\">\n",
      "<a class=\"main-headline\" href=\"http://startupbeat.hkej.com/?p=59350\">螞蟻金服參與融資禁買對手股份</a>\n",
      "<p> 《華爾街日報》報道，阿里巴巴關聯公司螞蟻金服在最新一輪100億美元（約780億港元）融資中，加入極罕見的辛辣條款，要求參股螞蟻金服的投資者，必須同意不投資或增加在包括騰訊（00700）等競爭對手的股份。</p>\n",
      "<div class=\"headlines-info\">\n",
      "<ul class=\"headlines-info\">\n",
      "<li>Posted May 21, 2018</li>\n",
      "<li class=\"comments-icon\"><a href=\"http://startupbeat.hkej.com/?p=59350#respond\"><fb:comments-count href=\"http://startupbeat.hkej.com/?p=59350\" xmlns=\"http://ogp.me/ns/fb#\"></fb:comments-count> Comments</a></li>\n",
      "</ul>\n",
      "</div><!--headlines-info-->\n",
      "</div><!--archive-text-->\n",
      "</li>\n",
      "<li>\n",
      "<div class=\"archive-image\">\n",
      "<a href=\"http://startupbeat.hkej.com/?p=59320\" rel=\"bookmark\" title=\"Neat冀變身虛擬銀行 助小企遙距開戶 打破傳統壟斷\"><img alt=\"0521_P01A\" class=\"attachment-small-thumb size-small-thumb wp-post-image\" height=\"134\" src=\"http://startupbeat.hkej.com/wp-content/uploads/2018/05/120x134x0521_P01A-120x134.jpg.pagespeed.ic.yPCkvjT5cU.jpg\" width=\"120\"/></a>\n",
      "</div><!--archive-image-->\n",
      "<div class=\"archive-text\">\n",
      "<a class=\"main-headline\" href=\"http://startupbeat.hkej.com/?p=59320\">Neat冀變身虛擬銀行 助小企遙距開戶 打破傳統壟斷</a>\n",
      "<p>不少公司抱怨向銀行申請開戶時，往往因各種理由被拒諸門外。為用戶提供遙距開戶、支付及轉賬服務的Neat透露，有意向金管局申請「虛擬銀行」牌照，挑戰傳統銀行的壟斷地位。</p>\n",
      "<div class=\"headlines-info\">\n",
      "<ul class=\"headlines-info\">\n",
      "<li>Posted May 21, 2018</li>\n",
      "<li class=\"comments-icon\"><a href=\"http://startupbeat.hkej.com/?p=59320#respond\"><fb:comments-count href=\"http://startupbeat.hkej.com/?p=59320\" xmlns=\"http://ogp.me/ns/fb#\"></fb:comments-count> Comments</a></li>\n",
      "</ul>\n",
      "</div><!--headlines-info-->\n",
      "</div><!--archive-text-->\n",
      "</li>\n",
      "<li>\n",
      "<div class=\"archive-image\">\n",
      "<a href=\"http://startupbeat.hkej.com/?p=59303\" rel=\"bookmark\" title=\"螞蟻金服管理資產2.75萬億  用戶逾6.2億 全球最大金融平台\"><img alt=\"\" class=\"attachment-small-thumb size-small-thumb wp-post-image\" height=\"134\" src=\"http://startupbeat.hkej.com/wp-content/uploads/2018/05/120x134x0518_P13-120x134.jpg.pagespeed.ic.p6gBLxkkrv.jpg\" width=\"120\"/></a>\n",
      "</div><!--archive-image-->\n",
      "<div class=\"archive-text\">\n",
      "<a class=\"main-headline\" href=\"http://startupbeat.hkej.com/?p=59303\">螞蟻金服管理資產2.75萬億  用戶逾6.2億 全球最大金融平台</a>\n",
      "<p>據英國《金融時報》引述一份螞蟻金服最新的100億美元融資文件指出，該公司目前管理2.2萬億元（人民幣．下同，約2.75萬億港元）資產，已是現時全球最大的消費者財富管理平台。</p>\n",
      "<div class=\"headlines-info\">\n",
      "<ul class=\"headlines-info\">\n",
      "<li>Posted May 18, 2018</li>\n",
      "<li class=\"comments-icon\"><a href=\"http://startupbeat.hkej.com/?p=59303#respond\"><fb:comments-count href=\"http://startupbeat.hkej.com/?p=59303\" xmlns=\"http://ogp.me/ns/fb#\"></fb:comments-count> Comments</a></li>\n",
      "</ul>\n",
      "</div><!--headlines-info-->\n",
      "</div><!--archive-text-->\n",
      "</li>\n",
      "<li>\n",
      "<div class=\"archive-image\">\n",
      "<a href=\"http://startupbeat.hkej.com/?p=59039\" rel=\"bookmark\" title=\"螞蟻金服拒評再融資780億\"><img alt=\"0512_P13\" class=\"attachment-small-thumb size-small-thumb wp-post-image\" height=\"134\" src=\"http://startupbeat.hkej.com/wp-content/uploads/2018/05/120x134x0512_P13-120x134.jpg.pagespeed.ic.Omv0pN-8AV.jpg\" width=\"120\"/></a>\n",
      "</div><!--archive-image-->\n",
      "<div class=\"archive-text\">\n",
      "<a class=\"main-headline\" href=\"http://startupbeat.hkej.com/?p=59039\">螞蟻金服拒評再融資780億</a>\n",
      "<p>彭博引述消息人士指出，阿里巴巴關聯公司螞蟻金服數天內將完成一筆最少100億美元（780億港元）的融資，屆時估值會提升至約1500億美元（1.17萬億港元）。不過，螞蟻金服發言人對外界傳言則不予置評。</p>\n",
      "<div class=\"headlines-info\">\n",
      "<ul class=\"headlines-info\">\n",
      "<li>Posted May 12, 2018</li>\n",
      "<li class=\"comments-icon\"><a href=\"http://startupbeat.hkej.com/?p=59039#respond\"><fb:comments-count href=\"http://startupbeat.hkej.com/?p=59039\" xmlns=\"http://ogp.me/ns/fb#\"></fb:comments-count> Comments</a></li>\n",
      "</ul>\n",
      "</div><!--headlines-info-->\n",
      "</div><!--archive-text-->\n",
      "</li>\n",
      "</ul>\n",
      "<div class=\"nav-links\">\n",
      "<div class=\"pagination\"><span>Page 1 of 86</span><span class=\"current\">1</span><a class=\"inactive\" href=\"http://startupbeat.hkej.com/?tag=fintech&amp;paged=2\">2</a><a class=\"inactive\" href=\"http://startupbeat.hkej.com/?tag=fintech&amp;paged=3\">3</a><a class=\"inactive\" href=\"http://startupbeat.hkej.com/?tag=fintech&amp;paged=4\">4</a><a class=\"inactive\" href=\"http://startupbeat.hkej.com/?tag=fintech&amp;paged=5\">5</a><a href=\"http://startupbeat.hkej.com/?tag=fintech&amp;paged=2\">Next ›</a><a href=\"http://startupbeat.hkej.com/?tag=fintech&amp;paged=86\">Last »</a></div>\n",
      "</div><!--nav-links-->\n",
      "</div><!--post-area-->\n",
      "</div><!--main -->\n",
      "<div id=\"sidebar-wrapper\">\n",
      "<div class=\"middle-side\">\n",
      "<div class=\"middle-widget\">\n",
      "<h3>Latest News</h3>\n",
      "<ul class=\"middle-widget\">\n",
      "<li>\n",
      "<a class=\"main-headline\" href=\"http://startupbeat.hkej.com/?p=59552\" rel=\"bookmark\">創夢天地申上市</a>\n",
      "<p>由騰訊（00700）任大股東、「賭王」何鴻燊之子何猷君任首席營銷官的內地數碼娛樂平台創夢天地，已向港交所（00388）遞交上市申請，瑞信、招商證券國際及中金公司為聯席保薦人。</p>\n",
      "<div class=\"headlines-info\">\n",
      "<ul class=\"headlines-info\">\n",
      "<li>Posted May 26, 2018</li>\n",
      "<li class=\"comments-icon\"><a href=\"http://startupbeat.hkej.com/?p=59552#respond\"><fb:comments-count href=\"http://startupbeat.hkej.com/?p=59552\" xmlns=\"http://ogp.me/ns/fb#\"></fb:comments-count> Comments</a></li>\n",
      "</ul>\n",
      "</div><!--headlines-info-->\n",
      "</li>\n",
      "<li>\n",
      "<a class=\"main-headline\" href=\"http://startupbeat.hkej.com/?p=59548\" rel=\"bookmark\">京共享單車多閒置</a>\n",
      "<p>全國多地受到共享單車泛濫問題的困擾，北京市交通委相關負責人表示，依據共享單車企業上報的數據，截至4月底，市內正在營運的共享單車企業有10家，營運車輛總數約190萬輛。</p>\n",
      "<div class=\"headlines-info\">\n",
      "<ul class=\"headlines-info\">\n",
      "<li>Posted May 26, 2018</li>\n",
      "<li class=\"comments-icon\"><a href=\"http://startupbeat.hkej.com/?p=59548#respond\"><fb:comments-count href=\"http://startupbeat.hkej.com/?p=59548\" xmlns=\"http://ogp.me/ns/fb#\"></fb:comments-count> Comments</a></li>\n",
      "</ul>\n",
      "</div><!--headlines-info-->\n",
      "</li>\n",
      "<li>\n",
      "<a class=\"main-headline\" href=\"http://startupbeat.hkej.com/?p=59543\" rel=\"bookmark\">Netflix市值首超迪士尼</a>\n",
      "<p>為吸引更多用戶，Netflix在內容上投入了大量資金，計劃今年在電影和節目上投入80億美元，預期出現30億至40億美元的負現金流，但投資者看來不介意這種燒錢速度，公司股價今年大漲逾八成，估值也異常高。</p>\n",
      "<div class=\"headlines-info\">\n",
      "<ul class=\"headlines-info\">\n",
      "<li>Posted May 26, 2018</li>\n",
      "<li class=\"comments-icon\"><a href=\"http://startupbeat.hkej.com/?p=59543#respond\"><fb:comments-count href=\"http://startupbeat.hkej.com/?p=59543\" xmlns=\"http://ogp.me/ns/fb#\"></fb:comments-count> Comments</a></li>\n",
      "</ul>\n",
      "</div><!--headlines-info-->\n",
      "</li>\n",
      "<li>\n",
      "<a class=\"main-headline\" href=\"http://startupbeat.hkej.com/?p=59539\" rel=\"bookmark\">環團踢爆小米供應鏈污染</a>\n",
      "<p>小米集團勢成今年本港焦點的新股之一，惟近期有中國環保組織直指小米的供應鏈污染環境，更指其初步招股文件內的陳述與事實不符，亦未履行風險披露責任，而環保組織亦聲稱已就此事去信港交所（00388）。</p>\n",
      "<div class=\"headlines-info\">\n",
      "<ul class=\"headlines-info\">\n",
      "<li>Posted May 26, 2018</li>\n",
      "<li class=\"comments-icon\"><a href=\"http://startupbeat.hkej.com/?p=59539#respond\"><fb:comments-count href=\"http://startupbeat.hkej.com/?p=59539\" xmlns=\"http://ogp.me/ns/fb#\"></fb:comments-count> Comments</a></li>\n",
      "</ul>\n",
      "</div><!--headlines-info-->\n",
      "</li>\n",
      "<li>\n",
      "<a class=\"main-headline\" href=\"http://startupbeat.hkej.com/?p=59534\" rel=\"bookmark\">三星侵權須賠蘋果42億</a>\n",
      "<p>蘋果與三星電子歷時7年的智能手機專利權訴訟終於落幕，美國法院周四判蘋果勝訴，三星須賠償5.39億美元（約42億港元）。蘋果發聲明指出，這次訴訟不只是為了金錢。</p>\n",
      "<div class=\"headlines-info\">\n",
      "<ul class=\"headlines-info\">\n",
      "<li>Posted May 26, 2018</li>\n",
      "<li class=\"comments-icon\"><a href=\"http://startupbeat.hkej.com/?p=59534#respond\"><fb:comments-count href=\"http://startupbeat.hkej.com/?p=59534\" xmlns=\"http://ogp.me/ns/fb#\"></fb:comments-count> Comments</a></li>\n",
      "</ul>\n",
      "</div><!--headlines-info-->\n",
      "</li>\n",
      "<li>\n",
      "<a class=\"main-headline\" href=\"http://startupbeat.hkej.com/?p=59529\" rel=\"bookmark\">傳上海臨港設廠 特斯拉未作評論</a>\n",
      "<p>內地媒體報道，美國電動車生產商特斯拉（Tesla）與上海市政府在5月簽署相關意向文件，特斯拉將在上海生產國產車，地址就選在上海臨港，但特斯拉未對消息作評論。</p>\n",
      "<div class=\"headlines-info\">\n",
      "<ul class=\"headlines-info\">\n",
      "<li>Posted May 26, 2018</li>\n",
      "<li class=\"comments-icon\"><a href=\"http://startupbeat.hkej.com/?p=59529#respond\"><fb:comments-count href=\"http://startupbeat.hkej.com/?p=59529\" xmlns=\"http://ogp.me/ns/fb#\"></fb:comments-count> Comments</a></li>\n",
      "</ul>\n",
      "</div><!--headlines-info-->\n",
      "</li>\n",
      "<li>\n",
      "<a class=\"main-headline\" href=\"http://startupbeat.hkej.com/?p=59523\" rel=\"bookmark\">亞馬遜Echo亂錄音洩私隱 夫婦家中對話發送至公司員工</a>\n",
      "<p>美國一對夫婦的私人談話無緣無故地，被家中的亞馬遜Echo智能喇叭錄音，而且Echo自行決定把對話發送給丈夫公司的員工，事件引發私隱關注。</p>\n",
      "<div class=\"headlines-info\">\n",
      "<ul class=\"headlines-info\">\n",
      "<li>Posted May 26, 2018</li>\n",
      "<li class=\"comments-icon\"><a href=\"http://startupbeat.hkej.com/?p=59523#respond\"><fb:comments-count href=\"http://startupbeat.hkej.com/?p=59523\" xmlns=\"http://ogp.me/ns/fb#\"></fb:comments-count> Comments</a></li>\n",
      "</ul>\n",
      "</div><!--headlines-info-->\n",
      "</li>\n",
      "</ul>\n",
      "</div>\n",
      "</div><!--middle-side-->\n",
      "<div class=\"side\">\n",
      "<div class=\"sidebar-widget\"> <div class=\"textwidget\"><a href=\"/?tag=創科解密\"><img src=\"http://startupbeat.hkej.com/wp-content/uploads/2015/04/xstories_hkstp_banner_300x110.png.pagespeed.ic.tNr1iwn1Fn.jpg\"/></a></div>\n",
      "</div><div class=\"sidebar-widget\"><h3>StartupBeat Video</h3> <div class=\"textwidget\"><div class=\"fb-video\" data-href=\"https://www.facebook.com/EJStartupBeat/videos/783752685167233/\" data-show-text=\"false\" data-width=\"320\"><blockquote cite=\"https://www.facebook.com/EJStartupBeat/videos/783752685167233/\" class=\"fb-xfbml-parse-ignore\"><a href=\"https://www.facebook.com/EJStartupBeat/videos/783752685167233/\">藝術都關區塊鏈 ?</a><p>藝術品市場商機無限, 近年結合區塊鏈技術, 令資訊無法被竄改，保障買賣雙方利益。尹思哲請來區塊鏈技術有限公司聯合創辦人余以恆（Larry Yee）, 分享如何以智能合約, 令交易更公開透明。</p>Posted by <a href=\"https://www.facebook.com/EJStartupBeat/\">StartupBeat</a> on Thursday, May 24, 2018</blockquote></div></div>\n",
      "</div><div class=\"sidebar-widget\"> <div class=\"textwidget\"><!-- /79812692/StartUpBeat_Others_RightBanner1 -->\n",
      "<div id=\"div-gpt-ad-1476440408364-0\" style=\"height:auto; width:300px;\">\n",
      "<script>googletag.cmd.push(function(){googletag.display('div-gpt-ad-1476440408364-0');});</script>\n",
      "</div>\n",
      "<br/> <br/>\n",
      "<script>if(window.location.search.indexOf('tag=cyberport-startupbeat')>-1||window.location.search.indexOf('author=50')>-1){document.write(\"<div id='div-gpt-ad-1423016794670-0' style='width:300px; display:inline-block;'>\");googletag.display('div-gpt-ad-1423016794670-0');document.write(\"</div>\");}else{document.write(\"<div id='div-gpt-ad-1388457418376-0' style='width:300px; display:inline-block;'>\");googletag.display('div-gpt-ad-1388457418376-0');document.write(\"</div>\");}</script>\n",
      "<br/> <br/>\n",
      "<!-- /79812692/StartUpBeat_Others_LargeRectangle2 -->\n",
      "<div id=\"div-gpt-ad-1473913527989-0\" style=\"height:auto; width:300px;\">\n",
      "<script>googletag.cmd.push(function(){googletag.display('div-gpt-ad-1473913527989-0');});</script>\n",
      "</div></div>\n",
      "</div>\n",
      "<!-- WordPress Popular Posts Plugin v3.3.4 [W] [daily] [avg] [regular] -->\n",
      "<div class=\"sidebar-widget\">\n",
      "<h3>POPULAR POSTS</h3>\n",
      "<ul class=\"wpp-list\">\n",
      "<li><a href=\"http://startupbeat.hkej.com/?p=59464\" target=\"_self\" title=\"小奶狗KO小鮮肉 (高天佑)\"><img alt=\"小奶狗KO小鮮肉 (高天佑)\" class=\"wpp-thumbnail wpp_cached_thumb wpp_featured\" height=\"94\" src=\"http://startupbeat.hkej.com/wp-content/uploads/wordpress-popular-posts/84x94x59464-featured-84x94.jpg.pagespeed.ic.xB9JmDZJux.jpg\" title=\"小奶狗KO小鮮肉 (高天佑)\" width=\"84\"/></a> <a class=\"wpp-post-title\" href=\"http://startupbeat.hkej.com/?p=59464\" target=\"_self\" title=\"小奶狗KO小鮮肉 (高天佑)\">小奶狗KO小鮮肉 (高天佑)</a> </li>\n",
      "<li><a href=\"http://startupbeat.hkej.com/?p=59320\" target=\"_self\" title=\"Neat冀變身虛擬銀行 助小企遙距開戶 打破傳統壟斷\"><img alt=\"Neat冀變身虛擬銀行 助小企遙距開戶 打破傳統壟斷\" class=\"wpp-thumbnail wpp_cached_thumb wpp_featured\" height=\"94\" src=\"http://startupbeat.hkej.com/wp-content/uploads/wordpress-popular-posts/84x94x59320-featured-84x94.jpg.pagespeed.ic.yXSSV8fkKA.jpg\" title=\"Neat冀變身虛擬銀行 助小企遙距開戶 打破傳統壟斷\" width=\"84\"/></a> <a class=\"wpp-post-title\" href=\"http://startupbeat.hkej.com/?p=59320\" target=\"_self\" title=\"Neat冀變身虛擬銀行 助小企遙距開戶 打破傳統壟斷\">Neat冀變身虛擬銀行 助小企遙距開戶 打破傳統壟斷</a> </li>\n",
      "<li><a href=\"http://startupbeat.hkej.com/?p=59341\" target=\"_self\" title=\"最忌扮了解 用太多趨勢語\"><img alt=\"最忌扮了解 用太多趨勢語\" class=\"wpp-thumbnail wpp_cached_thumb wpp_featured\" height=\"94\" src=\"http://startupbeat.hkej.com/wp-content/uploads/wordpress-popular-posts/84x94x59341-featured-84x94.jpg.pagespeed.ic.V-WtnjMw8t.jpg\" title=\"最忌扮了解 用太多趨勢語\" width=\"84\"/></a> <a class=\"wpp-post-title\" href=\"http://startupbeat.hkej.com/?p=59341\" target=\"_self\" title=\"最忌扮了解 用太多趨勢語\">最忌扮了解 用太多趨勢語</a> </li>\n",
      "<li><a href=\"http://startupbeat.hkej.com/?p=59433\" target=\"_self\" title=\"區塊鏈初創首5月籌百億\"><img alt=\"區塊鏈初創首5月籌百億\" class=\"wpp-thumbnail wpp_cached_thumb wpp_featured\" height=\"94\" src=\"http://startupbeat.hkej.com/wp-content/uploads/wordpress-popular-posts/84x94x59433-featured-84x94.jpg.pagespeed.ic.0jBgGv7CAh.jpg\" title=\"區塊鏈初創首5月籌百億\" width=\"84\"/></a> <a class=\"wpp-post-title\" href=\"http://startupbeat.hkej.com/?p=59433\" target=\"_self\" title=\"區塊鏈初創首5月籌百億\">區塊鏈初創首5月籌百億</a> </li>\n",
      "<li><a href=\"http://startupbeat.hkej.com/?p=59523\" target=\"_self\" title=\"亞馬遜Echo亂錄音洩私隱 夫婦家中對話發送至公司員工\"><img alt=\"亞馬遜Echo亂錄音洩私隱 夫婦家中對話發送至公司員工\" class=\"wpp-thumbnail wpp_cached_thumb wpp_featured\" height=\"94\" src=\"http://startupbeat.hkej.com/wp-content/uploads/wordpress-popular-posts/84x94x59523-featured-84x94.jpg.pagespeed.ic.7MbSbq_nn1.jpg\" title=\"亞馬遜Echo亂錄音洩私隱 夫婦家中對話發送至公司員工\" width=\"84\"/></a> <a class=\"wpp-post-title\" href=\"http://startupbeat.hkej.com/?p=59523\" target=\"_self\" title=\"亞馬遜Echo亂錄音洩私隱 夫婦家中對話發送至公司員工\">亞馬遜Echo亂錄音洩私隱 夫婦家中對話發送至公司員工</a> </li>\n",
      "<li><a href=\"http://startupbeat.hkej.com/?p=59494\" target=\"_self\" title=\"香港基建1變23 (高天佑)\"><img alt=\"香港基建1變23 (高天佑)\" class=\"wpp-thumbnail wpp_cached_thumb wpp_featured\" height=\"94\" src=\"http://startupbeat.hkej.com/wp-content/uploads/wordpress-popular-posts/84x94x59494-featured-84x94.jpg.pagespeed.ic.29kos6bGVf.jpg\" title=\"香港基建1變23 (高天佑)\" width=\"84\"/></a> <a class=\"wpp-post-title\" href=\"http://startupbeat.hkej.com/?p=59494\" target=\"_self\" title=\"香港基建1變23 (高天佑)\">香港基建1變23 (高天佑)</a> </li>\n",
      "<li><a href=\"http://startupbeat.hkej.com/?p=59507\" target=\"_self\" title=\"港微信支付寶 可購買危疾險\"><img alt=\"港微信支付寶 可購買危疾險\" class=\"wpp-thumbnail wpp_cached_thumb wpp_featured\" height=\"94\" src=\"http://startupbeat.hkej.com/wp-content/uploads/wordpress-popular-posts/84x94x59507-featured-84x94.jpg.pagespeed.ic.0D5xG4ides.jpg\" title=\"港微信支付寶 可購買危疾險\" width=\"84\"/></a> <a class=\"wpp-post-title\" href=\"http://startupbeat.hkej.com/?p=59507\" target=\"_self\" title=\"港微信支付寶 可購買危疾險\">港微信支付寶 可購買危疾險</a> </li>\n",
      "<li><a href=\"http://startupbeat.hkej.com/?p=59448\" target=\"_self\" title=\"貴陽大數據管理新招 (車品覺)\"><img alt=\"貴陽大數據管理新招 (車品覺)\" class=\"wpp-thumbnail wpp_cached_thumb wpp_featured\" height=\"94\" src=\"http://startupbeat.hkej.com/wp-content/uploads/wordpress-popular-posts/84x94x59448-featured-84x94.jpg.pagespeed.ic.sEm9mCM5VY.jpg\" title=\"貴陽大數據管理新招 (車品覺)\" width=\"84\"/></a> <a class=\"wpp-post-title\" href=\"http://startupbeat.hkej.com/?p=59448\" target=\"_self\" title=\"貴陽大數據管理新招 (車品覺)\">貴陽大數據管理新招 (車品覺)</a> </li>\n",
      "<li><a href=\"http://startupbeat.hkej.com/?p=59480\" target=\"_self\" title=\"藝術品智能合約增值 (區塊鏈技術余以恆)\"><img alt=\"藝術品智能合約增值 (區塊鏈技術余以恆)\" class=\"wpp-thumbnail wpp_cached_thumb wpp_featured\" height=\"94\" src=\"http://startupbeat.hkej.com/wp-content/uploads/wordpress-popular-posts/84x94x59480-featured-84x94.jpg.pagespeed.ic.0EfGiolFSI.jpg\" title=\"藝術品智能合約增值 (區塊鏈技術余以恆)\" width=\"84\"/></a> <a class=\"wpp-post-title\" href=\"http://startupbeat.hkej.com/?p=59480\" target=\"_self\" title=\"藝術品智能合約增值 (區塊鏈技術余以恆)\">藝術品智能合約增值 (區塊鏈技術余以恆)</a> </li>\n",
      "<li><a href=\"http://startupbeat.hkej.com/?p=59516\" target=\"_self\" title=\"我消滅你與你無關 (老占)\"><img alt=\"我消滅你與你無關 (老占)\" class=\"wpp-thumbnail wpp_cached_thumb wpp_featured\" height=\"94\" src=\"http://startupbeat.hkej.com/wp-content/uploads/wordpress-popular-posts/84x94x59516-featured-84x94.jpg.pagespeed.ic.nu8V3q_hpJ.jpg\" title=\"我消滅你與你無關 (老占)\" width=\"84\"/></a> <a class=\"wpp-post-title\" href=\"http://startupbeat.hkej.com/?p=59516\" target=\"_self\" title=\"我消滅你與你無關 (老占)\">我消滅你與你無關 (老占)</a> </li>\n",
      "</ul>\n",
      "</div>\n",
      "<!-- End WordPress Popular Posts Plugin v3.3.4 -->\n",
      "<div class=\"sidebar-widget\"><h3>成為《StartupBeat》會員</h3> <div class=\"textwidget\"><!-- Begin MailChimp Signup Form -->\n",
      "<link href=\"//cdn-images.mailchimp.com/embedcode/slim-081711.css\" rel=\"stylesheet\" type=\"text/css\"/>\n",
      "<style type=\"text/css\">#mc_embed_signup{background:#fff;clear:left;font:14px Helvetica,Arial,sans-serif}</style>\n",
      "<div id=\"mc_embed_signup\">\n",
      "<form action=\"//hkej.us3.list-manage.com/subscribe/post?u=2a109262649352b0f008bafff&amp;id=5c5b19cd5c\" class=\"validate\" id=\"mc-embedded-subscribe-form\" method=\"post\" name=\"mc-embedded-subscribe-form\" novalidate=\"\" target=\"_blank\">\n",
      "<div id=\"mc_embed_signup_scroll\">\n",
      "<label for=\"mce-EMAIL\">最新資訊（附創業懶人包）</label>\n",
      "<input class=\"email\" id=\"mce-EMAIL\" name=\"EMAIL\" placeholder=\"email address\" required=\"\" type=\"email\" value=\"\"/>\n",
      "<!-- real people should not fill this in and expect good things - do not remove this or risk form bot signups-->\n",
      "<div style=\"position: absolute; left: -5000px;\"><input name=\"b_2a109262649352b0f008bafff_5c5b19cd5c\" tabindex=\"-1\" type=\"text\" value=\"\"/></div>\n",
      "<div class=\"clear\"><input class=\"button\" id=\"mc-embedded-subscribe\" name=\"成為會員\" type=\"submit\" value=\"成為會員\"/></div>\n",
      "</div>\n",
      "</form>\n",
      "</div>\n",
      "<!--End mc_embed_signup-->\n",
      "<font size=\"1\">Click here to <a href=\"http://www.mailer08.net/edm/Tracker?id=e7392f5f-7caa-1056-f1c1-58819028dd01&amp;tkey=000252a9-30a3-4a45-85e1-171665299e93\" target=\"_blank\">unsubscribe</a></font>\n",
      "<br/>\n",
      "<div class=\"fb-like\" data-action=\"like\" data-href=\"https://facebook.com/ejstartupbeat\" data-layout=\"standard\" data-share=\"false\" data-show-faces=\"true\" data-width=\"300\"></div>\n",
      "</div>\n",
      "</div>\n",
      "</div><!--side-->\n",
      "</div><!--sidebar-wrapper-->\n",
      "</div><!--container-->\n",
      "</div><!--inner-wrapper-->\n",
      "</div><!--wrapper-->\n",
      "<div id=\"footer-top-wrapper\">\n",
      "<div id=\"footer-top\">\n",
      "<div class=\"footer-widget\"> <div class=\"textwidget\"><!-- Google Code for Remarketing Tag -->\n",
      "<script type=\"text/javascript\">var google_conversion_id=947948851;var google_custom_params=window.google_tag_params;var google_remarketing_only=true;</script>\n",
      "<script src=\"//www.googleadservices.com/pagead/conversion.js\" type=\"text/javascript\"></script>\n",
      "<noscript>\n",
      "<div style=\"display:inline;\">\n",
      "<img alt=\"\" height=\"1\" src=\"//googleads.g.doubleclick.net/pagead/viewthroughconversion/947948851/?value=0&amp;guid=ON&amp;script=0\" style=\"border-style:none;\" width=\"1\"/>\n",
      "</div>\n",
      "</noscript>\n",
      "<!-- End Google Code for Remarketing Tag -->\n",
      "<!-- Facebook Custom Audience Pixel -->\n",
      "<script>(function(){var _fbq=window._fbq||(window._fbq=[]);if(!_fbq.loaded){var fbds=document.createElement('script');fbds.async=true;fbds.src='//connect.facebook.net/en_US/fbds.js';var s=document.getElementsByTagName('script')[0];s.parentNode.insertBefore(fbds,s);_fbq.loaded=true;}\n",
      "_fbq.push(['addPixelId','630331880400637']);})();window._fbq=window._fbq||[];window._fbq.push(['track','PixelInitialized',{}]);</script>\n",
      "<noscript><img alt=\"\" height=\"1\" src=\"https://www.facebook.com/tr?id=630331880400637&amp;ev=PixelInitialized\" style=\"display:none\" width=\"1\"/></noscript>\n",
      "<!--End Facebook Custom Audience Pixel --></div>\n",
      "</div>\n",
      "</div><!--footer-top-->\n",
      "</div><!--footer-top-wrapper-->\n",
      "<div id=\"footer-bottom-wrapper\">\n",
      "<div id=\"footer-bottom\">\n",
      "<div id=\"footer-nav1\">\n",
      "<div class=\"menu-footer-hkej-container\"><ul class=\"menu\" id=\"menu-footer-hkej\"><li class=\"menu-item menu-item-type-custom menu-item-object-custom menu-item-182\" id=\"menu-item-182\"><a href=\"http://www.hkej.com/template/registration/jsp/aboutus.jsp\">信報簡介</a></li>\n",
      "<li class=\"menu-item menu-item-type-custom menu-item-object-custom menu-item-183\" id=\"menu-item-183\"><a href=\"http://www.hkej.com/template/registration/jsp/memberprovision.jsp\">服務條款</a></li>\n",
      "<li class=\"menu-item menu-item-type-custom menu-item-object-custom menu-item-59102\" id=\"menu-item-59102\"><a href=\"http://www.hkej.com/template/registration/jsp/privacy.jsp\">私隱政策</a></li>\n",
      "<li class=\"menu-item menu-item-type-custom menu-item-object-custom menu-item-184\" id=\"menu-item-184\"><a href=\"http://www.hkej.com/template/registration/jsp/disclaimer.jsp\">免責聲明</a></li>\n",
      "<li class=\"menu-item menu-item-type-custom menu-item-object-custom menu-item-185\" id=\"menu-item-185\"><a href=\"http://www.hkej.com/ratecard/html/index.html\">廣告查詢</a></li>\n",
      "<li class=\"menu-item menu-item-type-custom menu-item-object-custom menu-item-186\" id=\"menu-item-186\"><a href=\"http://www.hkej.com/template/confcenter/php/rental_info_detail.php\">信報會議中心租賃</a></li>\n",
      "<li class=\"menu-item menu-item-type-custom menu-item-object-custom menu-item-187\" id=\"menu-item-187\"><a href=\"http://www.hkej.com/template/jobs/jsp/jobs.jsp\">加入信報</a></li>\n",
      "<li class=\"menu-item menu-item-type-custom menu-item-object-custom menu-item-188\" id=\"menu-item-188\"><a href=\"http://www.hkej.com/template/registration/jsp/contactus.jsp\">聯絡信報</a></li>\n",
      "</ul></div>\n",
      "</div><!--footer-nav1-->\n",
      "<div id=\"copyright\">\n",
      "<p>Copyright © 2018 Hong Kong Economic Journal Company Limited. All rights reserved.</p>\n",
      "</div><!--copyright-->\n",
      "</div><!--footer-bottom-->\n",
      "</div><!--footer-bottom-wrapper-->\n",
      "</div><!--site-->\n",
      "<div class=\"popupally-configuration\" style=\"display:none;\">{\"timed-popup-delay\":5,\"enable-exit-intent-popup\":\"true\",\"cookie-duration\":14,\"popup-selector\":\"#popup-box-sxzw-1\",\"popup-class\":\"popupally-opened-sxzw-1\",\"cookie-name\":\"popupally-cookie-1\",\"close-trigger\":\".popup-click-close-trigger-1\"}</div><div class=\"popupally-overlay-sxzw-1 popup-click-close-trigger-1\" id=\"popup-box-sxzw-1\">\n",
      "<div class=\"popupally-outer-sxzw-1\">\n",
      "<div class=\"popupally-inner-sxzw-1\">\n",
      "<div class=\"popupally-center-sxzw\">\n",
      "<div class=\"desc-sxzw\"></div>\n",
      "<div class=\"logo-row-sxzw\">\n",
      "<div class=\"clear-sxzw\"></div>\n",
      "<img alt=\"\" class=\"logo-img-sxzw\" src=\"http://startupbeat.hkej.com/wp-content/uploads/2014/08/xemail-1.png.pagespeed.ic.mJm-tf3keq.png\"/>\n",
      "<div class=\"logo-text-sxzw\"><strong>成為 StartupBeat 會員</strong>\n",
      "<br/><br/>\r\n",
      "最新資訊（附創業懶人包），直達郵箱！</div>\n",
      "<div class=\"clear-sxzw\"></div>\n",
      "</div>\n",
      "<form action=\"//hkej.us3.list-manage.com/subscribe/post?u=2a109262649352b0f008bafff&amp;id=5c5b19cd5c\" class=\"content-sxzw\" method=\"POST\">\n",
      "<input name=\"b_2a109262649352b0f008bafff_5c5b19cd5c\" type=\"hidden\" value=\"\"/>\n",
      "<input class=\"field-sxzw\" name=\"MMERGE1\" placeholder=\"Email Address\" type=\"text\"/>\n",
      "<input class=\"field-sxzw\" name=\"EMAIL\" placeholder=\"Your Name\" type=\"text\"/>\n",
      "<input class=\"submit-sxzw\" type=\"submit\" value=\"Subscribe\"/>\n",
      "</form>\n",
      "<div class=\"privacy-sxzw\"></div>\n",
      "</div>\n",
      "</div>\n",
      "<div class=\"popupally-close-sxzw popup-click-close-trigger-1\" title=\"Close\"></div>\n",
      "</div>\n",
      "</div>\n",
      "<script type=\"text/javascript\">jQuery(document).ready(function($){$(window).load(function(){$('.flexslider').flexslider({animation:'fade',slideshowSpeed:8000});});var aboveHeight=$('#leader-wrapper').outerHeight();$(window).scroll(function(){if($(window).scrollTop()>aboveHeight){$('#nav').addClass('fixed-nav').css('top','0').next().css('padding-top','43px');}else{$('#nav').removeClass('fixed-nav').next().css('padding-top','0');}});});</script>\n",
      "<script type=\"text/javascript\">jQuery(document).ready(function($){$('.carousel').elastislide({imageW:120,minItems:2,margin:10});});</script>\n",
      "<script type=\"text/javascript\">//<![CDATA[\n",
      "!function(d,s,id){var js,fjs=d.getElementsByTagName(s)[0];if(!d.getElementById(id)){js=d.createElement(s);js.id=id;js.async=true;js.src=\"https://platform.twitter.com/widgets.js\";fjs.parentNode.insertBefore(js,fjs);}}(document,\"script\",\"twitter-wjs\");\n",
      "//]]></script>\n",
      "<script type=\"text/javascript\">//<![CDATA[\n",
      "(function(){var po=document.createElement('script');po.type='text/javascript';po.async=true;po.src='https://apis.google.com/js/plusone.js';var s=document.getElementsByTagName('script')[0];s.parentNode.insertBefore(po,s);})();\n",
      "//]]></script>\n",
      "<script type=\"text/javascript\">//<![CDATA[\n",
      "(function(){window.PinIt=window.PinIt||{loaded:false};if(window.PinIt.loaded)return;window.PinIt.loaded=true;function async_load(){var s=document.createElement(\"script\");s.type=\"text/javascript\";s.async=true;s.src=\"http://assets.pinterest.com/js/pinit.js\";var x=document.getElementsByTagName(\"script\")[0];x.parentNode.insertBefore(s,x);}\n",
      "if(window.attachEvent)\n",
      "window.attachEvent(\"onload\",async_load);else\n",
      "window.addEventListener(\"load\",async_load,false);})();\n",
      "//]]></script>\n",
      "<div id=\"fb-root\"></div>\n",
      "<script type=\"text/javascript\">//<![CDATA[\n",
      "(function(d,s,id){var js,fjs=d.getElementsByTagName(s)[0];if(d.getElementById(id))return;js=d.createElement(s);js.id=id;js.async=true;js.src=\"//connect.facebook.net/en_US/all.js#xfbml=1\";fjs.parentNode.insertBefore(js,fjs);}(document,'script','facebook-jssdk'));\n",
      "//]]></script>\n",
      "<script src=\"http://startupbeat.hkej.com/wp-content/themes/maxmag/js,_jquery.flexslider.js,,qver==4b1d8be16a80ad6756d0d29df1a48058,Mjm.kWDe2yjwuR.js+js,_jquery.elastislide.js,,qver==4b1d8be16a80ad6756d0d29df1a48058,Mjm.LFxA1n_sqG.js+js,_scripts.js,,qver==1.6,Mjm.1MHyQScqph.js+js,_respond.min.js,,qver==4b1d8be16a80ad6756d0d29df1a48058,Mjm.3x7__4qYXK.js+js,_retina.js,,qver==4b1d8be16a80ad6756d0d29df1a48058,Mjm.Bmv-M4wKgE.js+admin,_theia-post-slider,_js,_tps.js,,qver==1.1.7,Mjm.7gtrgvU0A-.js.pagespeed.jc.fG43fzsndu.js\"></script><script>eval(mod_pagespeed_0DcQsv_51O);</script>\n",
      "<script>eval(mod_pagespeed_RMUHpQXDH0);</script>\n",
      "<script>eval(mod_pagespeed_RhMJUXHlGz);</script>\n",
      "<script>eval(mod_pagespeed_dtgH_a3JDA);</script>\n",
      "<script>eval(mod_pagespeed_BJWkfYTzCj);</script>\n",
      "<script>eval(mod_pagespeed_x05NeLgSLZ);</script>\n",
      "<script type=\"text/javascript\">//<![CDATA[\n",
      "var FB_WP=FB_WP||{};FB_WP.queue={_methods:[],flushed:false,add:function(fn){FB_WP.queue.flushed?fn():FB_WP.queue._methods.push(fn)},flush:function(){for(var fn;fn=FB_WP.queue._methods.shift();){fn()}FB_WP.queue.flushed=true}};window.fbAsyncInit=function(){FB.init({\"xfbml\":true,\"appId\":\"247882725330320\"});if(FB_WP&&FB_WP.queue&&FB_WP.queue.flush){FB_WP.queue.flush()}}\n",
      "//]]></script>\n",
      "<script type=\"text/javascript\">(function(d,s,id){var js,fjs=d.getElementsByTagName(s)[0];if(d.getElementById(id)){return}js=d.createElement(s);js.id=id;js.src=\"http:\\/\\/connect.facebook.net\\/en_US\\/all.js\";fjs.parentNode.insertBefore(js,fjs)}(document,\"script\",\"facebook-jssdk\"));</script>\n",
      "<script type=\"text/javascript\">//<![CDATA[\n",
      "!function(a,b){\"use strict\";function c(){if(!e){e=!0;var a,c,d,f,g=-1!==navigator.appVersion.indexOf(\"MSIE 10\"),h=!!navigator.userAgent.match(/Trident.*rv:11\\./),i=b.querySelectorAll(\"iframe.wp-embedded-content\");for(c=0;c<i.length;c++)if(d=i[c],!d.getAttribute(\"data-secret\")){if(f=Math.random().toString(36).substr(2,10),d.src+=\"#?secret=\"+f,d.setAttribute(\"data-secret\",f),g||h)a=d.cloneNode(!0),a.removeAttribute(\"security\"),d.parentNode.replaceChild(a,d)}else;}}var d=!1,e=!1;if(b.querySelector)if(a.addEventListener)d=!0;if(a.wp=a.wp||{},!a.wp.receiveEmbedMessage)if(a.wp.receiveEmbedMessage=function(c){var d=c.data;if(d.secret||d.message||d.value)if(!/[^a-zA-Z0-9]/.test(d.secret)){var e,f,g,h,i,j=b.querySelectorAll('iframe[data-secret=\"'+d.secret+'\"]'),k=b.querySelectorAll('blockquote[data-secret=\"'+d.secret+'\"]');for(e=0;e<k.length;e++)k[e].style.display=\"none\";for(e=0;e<j.length;e++)if(f=j[e],c.source===f.contentWindow){if(f.removeAttribute(\"style\"),\"height\"===d.message){if(g=parseInt(d.value,10),g>1e3)g=1e3;else if(200>~~g)g=200;f.height=g}if(\"link\"===d.message)if(h=b.createElement(\"a\"),i=b.createElement(\"a\"),h.href=f.getAttribute(\"src\"),i.href=d.value,i.host===h.host)if(b.activeElement===f)a.top.location.href=d.value}else;}},d)a.addEventListener(\"message\",a.wp.receiveEmbedMessage,!1),b.addEventListener(\"DOMContentLoaded\",c,!1),a.addEventListener(\"load\",c,!1)}(window,document);\n",
      "//]]></script>\n",
      "<div id=\"fb-root\"></div>\n",
      "<!-- Begin comScore Tag -->\n",
      "<script>document.write(unescape(\"%3Cscript src='\"+(document.location.protocol==\"https:\"?\"https://sb\":\"http://b\")+\".scorecardresearch.com/beacon.js' %3E%3C/script%3E\"));</script>\n",
      "<script>COMSCORE.beacon({c1:2,c2:7634239,c3:\"\",c4:\"\",c5:\"\",c6:\"\",c15:\"\"});</script>\n",
      "<noscript>\n",
      "<img src=\"http://b.scorecardresearch.com/p?c1=2&amp;c2=7634239&amp;c3=&amp;c4=&amp;c5=&amp;c6=&amp;c15=&amp;cj=1\">\n",
      "</img></noscript>\n",
      "<!-- End comScore Tag -->\n",
      "</body>\n",
      "</html>\n",
      "\n"
     ]
    }
   ],
   "source": [
    "import requests\n",
    "import csv\n",
    "from bs4 import BeautifulSoup\n",
    "quote_page = requests.get('http://startupbeat.hkej.com/?tag=fintech&paged=1') \n",
    "soup = BeautifulSoup(quote_page.content,'html.parser')\n"
   ]
  },
  {
   "cell_type": "markdown",
   "metadata": {},
   "source": [
    "<h1><center>Try it out</center></h1>"
   ]
  },
  {
   "cell_type": "markdown",
   "metadata": {},
   "source": [
    "<h1><center>From Spreadsheet Table and Frequency Distribution to Data Visualization</center></h1>\n",
    "<div style=\"margin-left:100px;\">"
   ]
  },
  {
   "cell_type": "markdown",
   "metadata": {},
   "source": [
    "<h1><center>Descriptive and Inferential Statistics</center></h1>\n",
    "<div style=\"margin-left:100px;\">\n",
    "<ul>\n",
    "        <li>Formation of theoretical constructs for explaining phenonmenon at hand</li>\n",
    "        <li>Operational definition of independent and dependent variables</li>\n",
    "        <li>Design correlational or experimental research to collect data set</li>\n",
    "        <li>Apply random sampling(with large sample size) and double binding controls over data collection</li>\n",
    "        <li>Grouping collected data by intervals to create comparable frequency distribution</li>\n",
    "        <li>Grouping will be determined by measures of variables and data type</li>\n",
    "        <li>Data can be categorical, continuos, discrete, ordinal, and boolean</li>\n",
    "        <li>A scatter plot is a useful visualization for showing relationship between 2 variables</li>\n",
    "        <li>A histogram may show global trends in which a scatter plot will be hard to show</li>\n",
    "        <li>A frequency table in histogram format makes it easy to visualize the relationship between the variables</li>\n",
    "        <li>Choice of interval or bin size will affect how the dataset can be analyzed</li>\n",
    "        <li>Upper range minus lower range divided by number of bins to be shown equals bin size</li>\n",
    "        <li>The bin size of a histogram can be changed without distortion but not a bar chart</li>\n",
    "        <li>Histogram is used for ordinal/quantitative data and bar chart for cateogorical/qualitative data</li>\n",
    "        <li>Inferential statistical methods will be used based on research approach and data features</li>\n",
    "</ul>\n",
    "</div>    "
   ]
  },
  {
   "cell_type": "markdown",
   "metadata": {},
   "source": [
    "<h1><center>Introduction to Pandas</center></h1>\n",
    "<div style=\"margin-left:100px;\">\n",
    "<ul>\n",
    "        <li>Pandas allows us to deal with 2 data structures: series and data frame</li>\n",
    "        <li>In our workshop, we'll only concentrate on data frame as it is more commonly used</li>\n",
    "        <li>A data frame is consisted of rows and columns. It can be made from a Python dictionary object</li>\n",
    "        <li>Pandas can put a dictionary of list into a data frame</li>\n",
    "        <li>There are build-in Panas functions for reading (e.g. df=pd.read_csv('&lt;file name&gt;')) and writing to CSV files (e.g df.to_csv('&lt;file name&gt;', sep='\\t', encoding='utf-8'))</li>\n",
    "</ul>\n",
    "</div>    "
   ]
  },
  {
   "cell_type": "code",
   "execution_count": 13,
   "metadata": {},
   "outputs": [
    {
     "name": "stdout",
     "output_type": "stream",
     "text": [
      "   Color  Product ID Product Name  Units Sold\n",
      "0   blue           1      t-shirt         250\n",
      "1  green           2        jeans         300\n",
      "2    red           3        shirt         180\n",
      "3  black           4        skirt         200\n"
     ]
    }
   ],
   "source": [
    "import pandas as pd\n",
    "df1 = pd.DataFrame({ \n",
    "     # Define dataframe as a dictionary object\n",
    "     'Product ID': [1, 2, 3, 4],\n",
    "     # add Product Name and Color here\n",
    "     'Product Name': ['t-shirt','jeans','shirt','skirt'],\n",
    "     'Color':['blue','green','red','black'],\n",
    "     'Units Sold':[250,300,180,200]\n",
    "})\n",
    "print(df1)"
   ]
  },
  {
   "cell_type": "markdown",
   "metadata": {},
   "source": [
    "<h1><center>Visualizing Data in MatPlotLib</center></h1>\n",
    "<div style=\"margin-left:100px;\">"
   ]
  },
  {
   "cell_type": "code",
   "execution_count": 30,
   "metadata": {},
   "outputs": [
    {
     "data": {
      "image/png": "[encoded data removed]",
      "text/plain": [
       "<matplotlib.figure.Figure at 0x112f40fd0>"
      ]
     },
     "metadata": {},
     "output_type": "display_data"
    }
   ],
   "source": [
    "from matplotlib import pyplot as plt\n",
    "drinks = [\"7Up\", \"Latte\", \"Chinese chai\", \"Coke\", \"Orange Juice\", \"Apple Cider\"]\n",
    "sales = [91, 76, 56, 66, 52, 27]\n",
    "ax = plt.subplot()\n",
    "plt.bar(range(len(drinks)),sales)\n",
    "# Create your ax object here\n",
    "ax.set_xticks([0,1,2,3,4,5])\n",
    "ax.set_xticklabels(drinks, rotation=40)\n",
    "plt.show()"
   ]
  },
  {
   "cell_type": "code",
   "execution_count": 42,
   "metadata": {},
   "outputs": [
    {
     "data": {
      "image/png": "[encoded data removed]",
      "text/plain": [
       "<matplotlib.figure.Figure at 0x112a01a20>"
      ]
     },
     "metadata": {},
     "output_type": "display_data"
    }
   ],
   "source": [
    "from matplotlib import pyplot as plt\n",
    "time = [1, 2, 3, 4,5]\n",
    "revenue = [200, 400, 650, 800, 850]\n",
    "costs = [150, 500, 550, 550, 560]\n",
    "plt.plot(time, revenue, color='blue',linestyle='--')\n",
    "plt.plot(time, costs, color='red', marker='s')\n",
    "plt.xlabel('Number of Hours')\n",
    "plt.ylabel('HK Dollars')\n",
    "plt.legend(['revenue', 'costs'])\n",
    "plt.title('Break-even analysis')\n",
    "plt.show()"
   ]
  },
  {
   "cell_type": "code",
   "execution_count": 41,
   "metadata": {},
   "outputs": [
    {
     "data": {
      "image/png": "[encoded data removed]",
      "text/plain": [
       "<matplotlib.figure.Figure at 0x112ec9ac8>"
      ]
     },
     "metadata": {},
     "output_type": "display_data"
    }
   ],
   "source": [
    "from matplotlib import pyplot as plt\n",
    "payment_method = [\"Credit Card\", \"Cash\", \"E-Wallet\", \"Other\"]\n",
    "payment_frequency = [270, 77, 32, 11] \n",
    "plt.pie(payment_frequency,labels=payment_method,autopct='%0.1f%%') \n",
    "plt.axis('equal')\n",
    "plt.legend(payment_method)\n",
    "plt.title('Usage Percentage of Payment Methods')\n",
    "plt.show()"
   ]
  },
  {
   "cell_type": "markdown",
   "metadata": {},
   "source": [
    "<h1><center>Try it out</center></h1>"
   ]
  },
  {
   "cell_type": "markdown",
   "metadata": {},
   "source": [
    "<h1><center>Scraping with Beautiful Soup and Saving Result in CSV with Pandas</center></h1>"
   ]
  },
  {
   "cell_type": "code",
   "execution_count": 1,
   "metadata": {},
   "outputs": [
    {
     "name": "stdout",
     "output_type": "stream",
     "text": [
      "\n",
      "***** Page 1 in action *****\n",
      "美黑客盜3900萬加密幣  騎劫手機號碼 逾40人中招\n",
      "http://startupbeat.hkej.com/?p=61801\n",
      "美國加州警方在上月拘捕了一名20歲的大學生Joel Ortiz，他涉嫌騎劫40多個手機號碼，並竊取市值約3900萬港元加密幣；部分受害者更是投資者，懷疑現身區塊鏈論壇時，遭黑客鎖定而中招。\n",
      "Posted August 1, 2018\n",
      "港貿融區塊鏈平台9月開張\n",
      "http://startupbeat.hkej.com/?p=61788\n",
      "由金管局牽頭、中國平安（02318）旗下金融壹賬通設計的貿易融資區塊鏈平台預期將於9月投入使用。金融壹賬通首席技術官兼首席運營官黃宇翔表示，平台現時正進行第四輪測試，預計下月初完成最後一輪測試，目前各參與銀行反應正面。\n",
      "Posted July 31, 2018\n",
      "陳家強：FinTech監管致成功\n",
      "http://startupbeat.hkej.com/?p=61752\n",
      "陳家強近日加入正申請上市的本地「獨角獸」企業WeLab，出任資深顧問。他笑言，「我成日在學校講FinTech，不如自己試做，看看能如何推動FinTech。」他指出，日後會探討WeLab與科大的合作。\n",
      "Posted July 30, 2018\n",
      "銀行開放API 花旗添3夥伴\n",
      "http://startupbeat.hkej.com/?p=61748\n",
      "金管局早前公布開放API框架，分4階段落實，首階段在6個月內推行。花旗集團透露，繼年初公布與多家機構合作後，最新再增加3個合作夥伴，包括東瀛遊、豐澤及屈臣氏，令項目的夥伴增至8家。\n",
      "Posted July 30, 2018\n",
      "摸不透寧保守 未擬染指ICO\n",
      "http://startupbeat.hkej.com/?p=61736\n",
      "以比特幣（Bitcoin）為首的加密貨幣，近年風靡各地金融市場，亦助長了「首次代幣發行」（ICO）冒起，成為初創集資的新興方式。海闊天空創投基金聯合創辦人文立坦言，並不理解這熱潮，遂未有投資任何ICO或區塊鏈項目。\n",
      "Posted July 30, 2018\n",
      "ICO騙局防不勝防 (黃岳永)\n",
      "http://startupbeat.hkej.com/?p=61702\n",
      "與很多事物一樣，科技是一把雙刃劍，它可以創造奇蹟，也能發展為泡沫，不熟悉情況的公眾更可能出現重大誤解。相信很多人還記得2000年時的「千年蟲騙案」，當年公眾對系統問題的誤解令人啼笑皆非。\n",
      "Posted July 27, 2018\n",
      "八達通夥Lalamove推好易畀\n",
      "http://startupbeat.hkej.com/?p=61667\n",
      "八達通公司宣布與速遞及貨運公司Lalamove合作，向所有Lalamove司機推出商戶好易畀（O! ePay）服務，顧客可以透過手機的NFC功能以八達通拍卡付款，或掃描二維碼以好易畀程式付費。\n",
      "Posted July 26, 2018\n",
      "AlipayHK：信用卡被盜用可即時知悉\n",
      "http://startupbeat.hkej.com/?p=61532\n",
      "網上流傳並討論有人疑透過AlipayHK盜用及連結受害人的信用卡進行交易之安全問題，AlipayHK於周六（21日）發表聲明指出，一直都有嚴格的保安措施，並且遵從監管機構的指引，以保障用戶的使用安全。\n",
      "Posted July 23, 2018\n",
      "銀行半年內開放API更易格價\n",
      "http://startupbeat.hkej.com/?p=61417\n",
      "被問及若銀行不積極參與，會否影響成效，李達志不擔心銀行會抗拒參與，因為開放API相對上是提升了銀行服務和競爭力，如果不參與，會被對手趕上。但他不排除日後有需要時立法強制實行。\n",
      "Posted July 19, 2018\n",
      "貝萊德研區塊鏈及加密幣\n",
      "http://startupbeat.hkej.com/?p=61358\n",
      "全球最大資產管理公司貝萊德（BlackRock）行政總裁芬克（Larry Fink）接受外電訪問時指出，已成立工作小組研究區塊鏈技術及比特幣在內等加密貨幣。不過，他強調，並未看到市場對加密貨幣有極大的需求。\n",
      "Posted July 18, 2018\n",
      "\n",
      "***** Page 2 in action *****\n",
      "獨角獸WeLab委陳家強當資深顧問 (凌通)\n",
      "http://startupbeat.hkej.com/?p=61320\n",
      "正準備上市的「獨角獸」WeLab宣布，委任前財經事務及庫務局局長陳家強擔任集團資深顧問。\n",
      "Posted July 17, 2018\n",
      "快速支付系統不會創造貨幣\n",
      "http://startupbeat.hkej.com/?p=61270\n",
      "陳德霖提醒：「不要把無現金化當作最崇高的目標」，重申支付只是一種手段，應以方便市民、令支付方安全、快捷為目標，並且要有包容性，目前香港在支付上並無排他性，任何人特別是非本地居民如旅客，幾乎任何支付工具在港都可以使用。\n",
      "Posted July 16, 2018\n",
      "寄語金融界「失科技 失天下」\n",
      "http://startupbeat.hkej.com/?p=61266\n",
      "金管局去年9月祭出7招推動香港邁向智慧銀行新紀元，金管局總裁陳德霖表示，各項措施進展良好。他強調「失科技、失天下」，金融業若沒有在金融科技上做工夫，儘管現時是霸主，日後市場份額亦可能被蠶食，這是全球大勢所趨。\n",
      "Posted July 16, 2018\n",
      "星展冀港星數碼客戶增至七成\n",
      "http://startupbeat.hkej.com/?p=61206\n",
      "星展集團行政總裁高博德（Piyush Gupta）指，香港及新加坡數碼客戶比例冀達七成，並且把內部系統全面雲化。數據又顯示，獲取數碼客戶的成本較低，而且甚至更具價值。去年香港及新加坡每名數碼客戶貢獻1300元收入，是傳統客戶的兩倍。\n",
      "Posted July 13, 2018\n",
      "香港手機支付為何不普及 (方保僑)\n",
      "http://startupbeat.hkej.com/?p=61146\n",
      "至於安全問題方面，當傳統信用卡丟失了或被盜，則很容易被盜用，我曾親眼見過有朋友的信用卡及錢包在午飯時被盜取，不到30分鐘已被盜用。看完以上的分析，你現在認為哪種支付方法更為安全？\n",
      "Posted July 12, 2018\n",
      "靠ICO集資 56%四個月玩完\n",
      "http://startupbeat.hkej.com/?p=61083\n",
      "美國波士頓學院近日追蹤了2390間初創，他們均以首次代幣發行（ICO）集資，團隊收集了數據計算他們的存活率。若以Twitter平台的發帖紀錄，視之為業務正常運作的指標，研究人員發現調查的初創中，只有44.2%於120日後依然存活。\n",
      "Posted July 11, 2018\n",
      "AI專才渴市搶人有計 (WeLab 李家達)\n",
      "http://startupbeat.hkej.com/?p=60937\n",
      "不少初創為搶攻市場，近年涉足人工智能（AI）領域，惟相關人才一直供不應求。《信報》StartupBeat請來WeLab香港總經理李家達，探討如何利用AI滿足客戶要求，以及招攬專才的策略。\n",
      "Posted July 6, 2018\n",
      "港電子支付戰國時代 (方保僑)\n",
      "http://startupbeat.hkej.com/?p=60909\n",
      "以前也提及過滙豐PayMe一向低調地宣傳P2P轉賬服務，保守估計在過去兩年已經儲了幾十萬客戶，遲早會進入P2M世界，如今以本地最受歡迎網上購物平台HKTVmall作為切入點，未嘗不是聰明方法。\n",
      "Posted July 5, 2018\n",
      "港智慧支付接受程度遜預期\n",
      "http://startupbeat.hkej.com/?p=60914\n",
      "香港生產力促進局進行的「Alipay HK智慧支付普及指數」昨日公布調查結果，發現普及指數為53.9（最高為100），反映「智慧支付」概念在香港逐漸成形。調查顯示，用家智慧支付接受程度為45.5分，略遜預期。\n",
      "Posted July 5, 2018\n",
      "虛擬銀行勢成港銀增長引擎\n",
      "http://startupbeat.hkej.com/?p=60671\n",
      "畢馬威香港銀行業和資本市場主管合夥人馬紹輝認為，虛擬銀行可望成為香港銀行業下一個增長引擎，又指虛擬銀行在合規、KYC（認識你的客戶）、遙距開戶等方面可為傳統銀行帶來衝擊。\n",
      "Posted June 27, 2018\n",
      "CPU times: user 560 ms, sys: 174 ms, total: 735 ms\n",
      "Wall time: 45.2 s\n"
     ]
    }
   ],
   "source": [
    "%%time\n",
    "import requests\n",
    "import csv\n",
    "import pandas as pd\n",
    "from bs4 import BeautifulSoup\n",
    "from time import sleep\n",
    "from random import randint\n",
    "from time import time\n",
    "\n",
    "# quote_page = requests.get('http://startupbeat.hkej.com/?tag=fintech&paged=1') \n",
    "# soup = BeautifulSoup(quote_page.text,'html.parser')\n",
    "\n",
    "header = ['page #','title','url','details','post date']\n",
    "data = []\n",
    "# Display and store away 2 pages of scrapped data from startupbeat.hkej.com\n",
    "for i in range(1,3):\n",
    "    quote_page = requests.get('http://startupbeat.hkej.com/?tag=fintech&paged='+str(i)) \n",
    "    sleep(randint(8,15))\n",
    "    print(\"\\n***** Page \" + str(i) +\" in action *****\")\n",
    "    soup = BeautifulSoup(quote_page.content,'html.parser')\n",
    "    \n",
    "    for article in soup.find_all(\"div\", attrs={\"class\":\"archive-text\"}):\n",
    "    # for article in soup.find_all('div',class_='archive-text'):\n",
    "         page_no = str(i)\n",
    "         title = article.a.text.encode('utf-8').strip()\n",
    "         decoded_title = title.decode('utf-8')\n",
    "         url = article.a.get('href')\n",
    "         details = article.p.text.encode('utf-8').strip()\n",
    "         decoded_details = details.decode('utf-8')\n",
    "         post_date = article.div.ul.li.text\n",
    "         print(decoded_title)\n",
    "         print(url)\n",
    "         print(decoded_details)\n",
    "         print(post_date)\n",
    "         data.append((page_no, decoded_title, url, decoded_details, post_date))\n",
    "        \n",
    "df = pd.DataFrame(data,\n",
    "  columns = header\n",
    ")\n",
    "df.to_csv('projects/startup_beat_data_1.csv', sep='\\t', encoding='utf-8')"
   ]
  },
  {
   "cell_type": "markdown",
   "metadata": {},
   "source": [
    "<h1><center>Reading CSV File Into a Pandas Data Frame</center></h1>"
   ]
  },
  {
   "cell_type": "code",
   "execution_count": 2,
   "metadata": {},
   "outputs": [
    {
     "name": "stdout",
     "output_type": "stream",
     "text": [
      "                                    url            post date\n",
      "0  http://startupbeat.hkej.com/?p=59596  Posted May 28, 2018\n",
      "1  http://startupbeat.hkej.com/?p=59507  Posted May 25, 2018\n",
      "2  http://startupbeat.hkej.com/?p=59458  Posted May 24, 2018\n",
      "3  http://startupbeat.hkej.com/?p=59444  Posted May 24, 2018\n",
      "4  http://startupbeat.hkej.com/?p=59433  Posted May 24, 2018\n",
      "5  http://startupbeat.hkej.com/?p=59379  Posted May 23, 2018\n",
      "6  http://startupbeat.hkej.com/?p=59357  Posted May 21, 2018\n",
      "7  http://startupbeat.hkej.com/?p=59350  Posted May 21, 2018\n",
      "8  http://startupbeat.hkej.com/?p=59320  Posted May 21, 2018\n",
      "9  http://startupbeat.hkej.com/?p=59303  Posted May 18, 2018\n"
     ]
    }
   ],
   "source": [
    "import pandas as pd\n",
    "# Import the startup_beat_demo file scrapped with BeautifulSoup\n",
    "df = pd.read_csv(\"projects/startup_beat_demo.csv\")\n",
    "print(df)"
   ]
  },
  {
   "cell_type": "code",
   "execution_count": 98,
   "metadata": {},
   "outputs": [
    {
     "name": "stdout",
     "output_type": "stream",
     "text": [
      "0    103\n",
      "1     45\n",
      "2     63\n",
      "3     58\n",
      "4     53\n",
      "5    203\n",
      "Name: north_wing, dtype: int64\n"
     ]
    }
   ],
   "source": [
    "import pandas as pd\n",
    "\n",
    "df = pd.DataFrame([\n",
    "  ['Jan', 95, 103, 23, 67],\n",
    "  ['Feb', 61, 45, 120, 65],\n",
    "  ['Mar', 64, 63, 59, 101],\n",
    "  ['Apr', 72, 58, 49, 211],\n",
    "  ['May', 61, 53, 82, 123],\n",
    "  ['Jun', 118, 203, 48, 68]],\n",
    "  columns=['month', 'east_wing',\n",
    "           'north_wing', 'south_wing',\n",
    "           'west_wing']\n",
    ")\n",
    "north = df.north_wing\n",
    "print(north)"
   ]
  },
  {
   "cell_type": "code",
   "execution_count": 97,
   "metadata": {},
   "outputs": [
    {
     "name": "stdout",
     "output_type": "stream",
     "text": [
      "   north_wing  south_wing\n",
      "0         103          23\n",
      "1          45         120\n",
      "2          63          59\n",
      "3          58          49\n",
      "4          53          82\n",
      "5         203          48\n"
     ]
    }
   ],
   "source": [
    "import pandas as pd\n",
    "\n",
    "df = pd.DataFrame([\n",
    "  ['Jan', 95, 103, 23, 67],\n",
    "  ['Feb', 61, 45, 120, 65],\n",
    "  ['Mar', 64, 63, 59, 101],\n",
    "  ['Apr', 72, 58, 49, 211],\n",
    "  ['May', 61, 53, 82, 123],\n",
    "  ['Jun', 118, 203, 48, 68]],\n",
    "  columns=['month', 'east_wing',\n",
    "           'north_wing', 'south_wing',\n",
    "           'west_wing']\n",
    ")\n",
    "\n",
    "north_south = df[['north_wing','south_wing']] #selecting columns\n",
    "# print(type(north_south))\n",
    "print(north_south)"
   ]
  },
  {
   "cell_type": "code",
   "execution_count": 95,
   "metadata": {},
   "outputs": [
    {
     "name": "stdout",
     "output_type": "stream",
     "text": [
      "month         Mar\n",
      "east_wing      64\n",
      "north_wing     63\n",
      "south_wing     59\n",
      "west_wing     101\n",
      "Name: 2, dtype: object\n"
     ]
    }
   ],
   "source": [
    "import pandas as pd\n",
    "\n",
    "df = pd.DataFrame([\n",
    "  ['Jan', 95, 103, 23, 67],\n",
    "  ['Feb', 61, 45, 120, 65],\n",
    "  ['Mar', 64, 63, 59, 101],\n",
    "  ['Apr', 72, 58, 49, 211],\n",
    "  ['May', 61, 53, 82, 123],\n",
    "  ['Jun', 118, 203, 48, 68]],\n",
    "  columns=['month', 'east_wing',\n",
    "           'north_wing', 'south_wing',\n",
    "           'west_wing'])\n",
    "march = df.loc[2] #selecting the 3rd row (i.e. start counting from 0. So \"loc\" is equivalent to \"row\") \n",
    "print(march) # by printing out all the columns "
   ]
  },
  {
   "cell_type": "code",
   "execution_count": 99,
   "metadata": {},
   "outputs": [
    {
     "name": "stdout",
     "output_type": "stream",
     "text": [
      "  month  east_wing  north_wing  south_wing  west_wing\n",
      "3   Apr         72          58          49        211\n",
      "4   May         61          53          82        123\n",
      "5   Jun        118         203          48         68\n"
     ]
    }
   ],
   "source": [
    "import pandas as pd\n",
    "\n",
    "df = pd.DataFrame([\n",
    "  ['Jan', 95, 103, 23, 67],\n",
    "  ['Feb', 61, 45, 120, 65],\n",
    "  ['Mar', 64, 63, 59, 101],\n",
    "  ['Apr', 72, 58, 49, 211],\n",
    "  ['May', 61, 53, 82, 123],\n",
    "  ['Jun', 118, 203, 48, 68]],\n",
    "  columns=['month', 'east_wing',\n",
    "           'north_wing', 'south_wing',\n",
    "           'west_wing']\n",
    ")\n",
    "may_june = df.loc[3:6] # printing out multiple rows from row 3 (April) to 5 (June) with row 0 = January\n",
    "print(may_june)"
   ]
  },
  {
   "cell_type": "code",
   "execution_count": 100,
   "metadata": {},
   "outputs": [
    {
     "name": "stdout",
     "output_type": "stream",
     "text": [
      "  month  east_wing  north_wing  south_wing  west_wing\n",
      "4   May         61          53          82        123\n"
     ]
    }
   ],
   "source": [
    "import pandas as pd\n",
    "df = pd.DataFrame([\n",
    "  ['Jan', 95, 103, 23, 67],\n",
    "  ['Feb', 61, 45, 120, 65],\n",
    "  ['Mar', 64, 63, 59, 101],\n",
    "  ['Apr', 72, 58, 49, 211],\n",
    "  ['May', 61, 53, 82, 123],\n",
    "  ['Jun', 118, 203, 48, 68]],\n",
    "  columns=['month', 'east_wing',\n",
    "           'north_wing', 'south_wing',\n",
    "           'west_wing'])\n",
    "May = df[df.month == 'May'] # if month == 'January' then df = janauary\n",
    "print(May)"
   ]
  },
  {
   "cell_type": "code",
   "execution_count": 1,
   "metadata": {},
   "outputs": [
    {
     "name": "stdout",
     "output_type": "stream",
     "text": [
      "   Product # Item Desc.   Cost  Price\n",
      "0          1      Eraser   0.5    1.0\n",
      "1          2  HB Pencil    0.5    1.0\n",
      "2          3     Notepad   1.0    2.5\n",
      "3          4       Ruler   1.5    3.0\n",
      "   Product # Item Desc.   Cost  Price  Revenue\n",
      "0          1      Eraser   0.5    1.0      0.5\n",
      "1          2  HB Pencil    0.5    1.0      0.5\n",
      "2          3     Notepad   1.0    2.5      1.5\n",
      "3          4       Ruler   1.5    3.0      1.5\n"
     ]
    }
   ],
   "source": [
    "import pandas as pd\n",
    "df = pd.DataFrame([\n",
    "  [1, 'Eraser', 0.5, 1.00],\n",
    "  [2, 'HB Pencil ', 0.5, 1.00],\n",
    "  [3, 'Notepad', 1.0, 2.50],\n",
    "  [4, 'Ruler', 1.50, 3.00]\n",
    "],\n",
    "  columns=['Product #', 'Item Desc. ', 'Cost', 'Price']\n",
    ")\n",
    "print(df)\n",
    "# Add columns here\n",
    "df['Revenue'] = df['Price'] - df['Cost']\n",
    "print(df)"
   ]
  },
  {
   "cell_type": "markdown",
   "metadata": {},
   "source": [
    "<h1><center>Try it out</center></h1>"
   ]
  },
  {
   "cell_type": "markdown",
   "metadata": {},
   "source": [
    "<h1><center>Scraping, Transforming, and Visualizing with Beautiful Soup,Pandas, and Mathplotlib</center></h1>"
   ]
  },
  {
   "cell_type": "code",
   "execution_count": 3,
   "metadata": {},
   "outputs": [
    {
     "name": "stdout",
     "output_type": "stream",
     "text": [
      "Air Quality Ranking\n",
      "\n",
      "    Rank          City  AQI Air Quality Level  PM2.5  PM10\n",
      "0      1        Urumqi   30         Excellent     11    21\n",
      "1      2     Changchun   50         Excellent     29    51\n",
      "2      3        Dalian   53              Good     26    56\n",
      "3      4         Lhasa   52              Good     20    58\n",
      "4      5         Sanya   55              Good     20    60\n",
      "5      6      Shenyang   56              Good     33    63\n",
      "6      7       Kunming   57              Good     36    59\n",
      "7      8      Hangzhou   59              Good     27    65\n",
      "8      9        Haikou   59              Good     30    68\n",
      "9     10       Qingdao   68              Good     28    85\n",
      "10    11     Changsha    69              Good     33    88\n",
      "11    12     Chongqing   69              Good     26    87\n",
      "12    13      Shenzhen   70              Good     37    91\n",
      "13    14        Suzhou   72              Good     33   102\n",
      "14    15        Fuzhou   72              Good     31    94\n",
      "15    16         Wuhan   74              Good     32   104\n",
      "16    17       Nanjing   77              Good     23   104\n",
      "17    18      Shanghai   77              Good     40   103\n",
      "18    19        Xiamen   77              Good     30    90\n",
      "19    20       Nanning   79              Good     46   108\n",
      "20    21         Hefei   84              Good     36   118\n",
      "21    22        Datong   87              Good     51   124\n",
      "22    23        Guilin   87              Good     56   122\n",
      "23    24       Guiyang   91              Good     48   132\n",
      "24    25        Harbin   94              Good     63   103\n",
      "25    26        Xining   95              Good     55   118\n",
      "26    27      Yangzhou   96              Good     36   142\n",
      "27    28     Guangzhou   99              Good     71   131\n",
      "28    29        Hohhot  100              Good     53   150\n",
      "29    30       Lanzhou  100              Good     43   135\n",
      "30    31       Luoyang  101  Lightly Polluted     67   144\n",
      "31    32       Chengdu  101  Lightly Polluted     62   143\n",
      "32    33         Jinan  103  Lightly Polluted     43   151\n",
      "33    34          Xian  106  Lightly Polluted     75   137\n",
      "34    35       Beijing  109  Lightly Polluted     82   103\n",
      "35    36     Zhengzhou  111  Lightly Polluted     63   172\n",
      "36    37       Tianjin  118  Lightly Polluted     83   179\n",
      "37    38        Baotou  124  Lightly Polluted     59   198\n",
      "38    39  Shijiazhuang  129  Lightly Polluted     87   200\n",
      "39    40       Taiyuan  141  Lightly Polluted     88   214\n",
      "40    41      Yinchuan  203  Heavily Polluted     77   340\n",
      "\n",
      "Cities with Pollution\n",
      "\n",
      "    Rank          City  AQI Air Quality Level  PM2.5  PM10\n",
      "30    31       Luoyang  101  Lightly Polluted     67   144\n",
      "31    32       Chengdu  101  Lightly Polluted     62   143\n",
      "32    33         Jinan  103  Lightly Polluted     43   151\n",
      "33    34          Xian  106  Lightly Polluted     75   137\n",
      "34    35       Beijing  109  Lightly Polluted     82   103\n",
      "35    36     Zhengzhou  111  Lightly Polluted     63   172\n",
      "36    37       Tianjin  118  Lightly Polluted     83   179\n",
      "37    38        Baotou  124  Lightly Polluted     59   198\n",
      "38    39  Shijiazhuang  129  Lightly Polluted     87   200\n",
      "39    40       Taiyuan  141  Lightly Polluted     88   214\n",
      "40    41      Yinchuan  203  Heavily Polluted     77   340\n"
     ]
    },
    {
     "data": {
      "image/png": "[encoded data removed]",
      "text/plain": [
       "<matplotlib.figure.Figure at 0x117a52dd8>"
      ]
     },
     "metadata": {},
     "output_type": "display_data"
    }
   ],
   "source": [
    "from bs4 import BeautifulSoup\n",
    "import requests\n",
    "import csv\n",
    "import pandas as pd\n",
    "import matplotlib.pyplot as plt\n",
    "\n",
    "# Fetch URL\n",
    "html_page = requests.get('https://www.travelchinaguide.com/climate/air-pollution.htm') \n",
    "# Obtain the entire HTML page\n",
    "soup = BeautifulSoup(html_page.content,'html.parser')\n",
    "# Find all the HTML tables \n",
    "tables = soup.find_all(class_=\"c_tableX\")\n",
    "# Access the first HTML table that contains Air Quality information (header + data)\n",
    "table = tables[1]\n",
    "# Obtaih air quality column header descriptions from the first HTML table\n",
    "table_header = table.find(class_=\"c_tableX_th\")\n",
    "# Extract the header names from the 'td' elements of the header table and store in the variable 'tds'\n",
    "tds = table_header.find_all('td')\n",
    "# Create two empty lists for holding the air quality header names and air quality data\n",
    "header = []\n",
    "data = []\n",
    "# Loop through the table cells (i.e. 'tds') to extract header names and append to the list\n",
    "for i in tds:\n",
    "    # print(i.text)\n",
    "    header.append(i.text)\n",
    "# print header\n",
    "all_rows = table.find_all(\"tr\")\n",
    "# print data_rows.text\n",
    "for i, row in enumerate(all_rows,1):\n",
    "        # print row.text\n",
    "        if (i < len(all_rows)):\n",
    "            tds = all_rows[i].find_all(\"td\")\n",
    "            for j, td in enumerate(tds,1):\n",
    "                # print j,td.text\n",
    "                if j==1:\n",
    "                    rank = td.text\n",
    "                if j==2:\n",
    "                    city = td.text\n",
    "                if j==3:\n",
    "                    province = td.text\n",
    "                if j==4:\n",
    "                    aqi = td.text\n",
    "                if j==5:\n",
    "                    air_quality = td.text\n",
    "                if j==6:\n",
    "                    pm2_5 = td.text\n",
    "                if j==7:\n",
    "                    pm10 = td.text\n",
    "            data.append([rank,city,province,aqi,air_quality,pm2_5,pm10])\n",
    "# Assign row data and column headers to dataframe         \n",
    "df = pd.DataFrame(data,\n",
    "  columns = header\n",
    ")\n",
    "# Save dataframe to external csv file\n",
    "df.to_csv('projects/china_air_quality.csv', sep='\\t', encoding='utf-8')\n",
    "# open csv file and read csv data into Pandas dataframe\n",
    "df = pd.read_csv(\"projects/china_air_quality.csv\",sep='\\t', encoding='utf-8')\n",
    "# Set column headings for entire air quality table and print out the entire table\n",
    "air_quality_ranking = df[['Rank','City','AQI','Air Quality Level','PM2.5','PM10']]\n",
    "# ////////////////////////////////////////////////////////////////////\n",
    "# Display City Ranking by Pollution Level\n",
    "# ////////////////////////////////////////////////////////////////////\n",
    "print(\"Air Quality Ranking\\n\")\n",
    "print(air_quality_ranking)\n",
    "# Extract cities that are polluted\n",
    "lightly_polluted = df[df['Air Quality Level'] == 'Lightly Polluted']\n",
    "heavily_polluted = df[df['Air Quality Level'] == 'Heavily Polluted']\n",
    "# Combine the cities of different pollution level into one table\n",
    "selected = lightly_polluted.append(heavily_polluted)\n",
    "pc = selected[['Rank','City','AQI','Air Quality Level','PM2.5','PM10']]\n",
    "# ////////////////////////////////////////////////////////////////////\n",
    "# Display Cities with Pollution\n",
    "# ////////////////////////////////////////////////////////////////////\n",
    "print(\"\\nCities with Pollution\\n\")\n",
    "print(pc)\n",
    "cities = pc['City'].tolist()\n",
    "aqi_lvl = pc['AQI'].tolist()\n",
    "ax = plt.subplot()\n",
    "plt.bar(range(len(cities)),aqi_lvl)\n",
    "# Create ax object here\n",
    "j = 0\n",
    "ax_list = []\n",
    "while j<len(cities):\n",
    "    ax_list.append(j)\n",
    "    j += 1\n",
    "ax.set_xticks(ax_list)\n",
    "plt.xlabel('Cities')\n",
    "plt.ylabel('AQI Levels')\n",
    "plt.title('Cities with High AQI Levels')\n",
    "ax.set_xticklabels(cities, rotation=70)\n",
    "plt.show()"
   ]
  },
  {
   "cell_type": "markdown",
   "metadata": {},
   "source": [
    "<h1><center>Try it out</center></h1>"
   ]
  },
  {
   "cell_type": "markdown",
   "metadata": {
    "collapsed": true
   },
   "source": [
    "<h1><center>Working with NumPy</center></h1>"
   ]
  },
  {
   "cell_type": "markdown",
   "metadata": {},
   "source": [
    "## ndarray is the basic array in numpy with high performance capability"
   ]
  },
  {
   "cell_type": "markdown",
   "metadata": {},
   "source": [
    "## The syntax is: np.arange([start,]stop[,step,],dtype=None)"
   ]
  },
  {
   "cell_type": "code",
   "execution_count": 2,
   "metadata": {},
   "outputs": [],
   "source": [
    "import numpy as np"
   ]
  },
  {
   "cell_type": "code",
   "execution_count": 3,
   "metadata": {},
   "outputs": [
    {
     "data": {
      "text/plain": [
       "array([0, 1, 2, 3, 4, 5, 6, 7, 8, 9])"
      ]
     },
     "execution_count": 3,
     "metadata": {},
     "output_type": "execute_result"
    }
   ],
   "source": [
    "np.arange(10)"
   ]
  },
  {
   "cell_type": "code",
   "execution_count": 4,
   "metadata": {},
   "outputs": [
    {
     "data": {
      "text/plain": [
       "array([1, 2, 3, 4, 5, 6, 7, 8, 9])"
      ]
     },
     "execution_count": 4,
     "metadata": {},
     "output_type": "execute_result"
    }
   ],
   "source": [
    "np.arange(1,10)"
   ]
  },
  {
   "cell_type": "code",
   "execution_count": 8,
   "metadata": {},
   "outputs": [
    {
     "data": {
      "text/plain": [
       "array([1, 4, 7])"
      ]
     },
     "execution_count": 8,
     "metadata": {},
     "output_type": "execute_result"
    }
   ],
   "source": [
    "np.arange(1,10,3)"
   ]
  },
  {
   "cell_type": "code",
   "execution_count": 7,
   "metadata": {},
   "outputs": [
    {
     "data": {
      "text/plain": [
       "array([1., 3., 5., 7., 9.])"
      ]
     },
     "execution_count": 7,
     "metadata": {},
     "output_type": "execute_result"
    }
   ],
   "source": [
    "np.arange(1,10,2,dtype=np.float64)"
   ]
  },
  {
   "cell_type": "markdown",
   "metadata": {},
   "source": [
    "## Examing ndarray"
   ]
  },
  {
   "cell_type": "code",
   "execution_count": 10,
   "metadata": {},
   "outputs": [
    {
     "data": {
      "text/plain": [
       "1"
      ]
     },
     "execution_count": 10,
     "metadata": {},
     "output_type": "execute_result"
    }
   ],
   "source": [
    "ds = np.arange(1,10,2)\n",
    "ds.ndim"
   ]
  },
  {
   "cell_type": "code",
   "execution_count": 11,
   "metadata": {},
   "outputs": [
    {
     "data": {
      "text/plain": [
       "(5,)"
      ]
     },
     "execution_count": 11,
     "metadata": {},
     "output_type": "execute_result"
    }
   ],
   "source": [
    "ds.shape"
   ]
  },
  {
   "cell_type": "code",
   "execution_count": 12,
   "metadata": {},
   "outputs": [
    {
     "data": {
      "text/plain": [
       "array([1, 3, 5, 7, 9])"
      ]
     },
     "execution_count": 12,
     "metadata": {},
     "output_type": "execute_result"
    }
   ],
   "source": [
    "ds"
   ]
  },
  {
   "cell_type": "code",
   "execution_count": 13,
   "metadata": {},
   "outputs": [
    {
     "data": {
      "text/plain": [
       "5"
      ]
     },
     "execution_count": 13,
     "metadata": {},
     "output_type": "execute_result"
    }
   ],
   "source": [
    "ds.size"
   ]
  },
  {
   "cell_type": "code",
   "execution_count": 15,
   "metadata": {},
   "outputs": [
    {
     "data": {
      "text/plain": [
       "dtype('int64')"
      ]
     },
     "execution_count": 15,
     "metadata": {},
     "output_type": "execute_result"
    }
   ],
   "source": [
    "ds.dtype"
   ]
  },
  {
   "cell_type": "code",
   "execution_count": 16,
   "metadata": {},
   "outputs": [],
   "source": [
    "%%capture timeit_results\n",
    "# regular Python\n",
    "%timeit python_list_1 = range(1,1000)\n",
    "# Numpy\n",
    "%timeit numpy_list_1 = np.arange(1,1000)"
   ]
  },
  {
   "cell_type": "code",
   "execution_count": 17,
   "metadata": {},
   "outputs": [
    {
     "name": "stdout",
     "output_type": "stream",
     "text": [
      "260 ns +- 19.8 ns per loop (mean +- std. dev. of 7 runs, 1000000 loops each)\n",
      "998 ns +- 36.9 ns per loop (mean +- std. dev. of 7 runs, 1000000 loops each)\n",
      "\n"
     ]
    }
   ],
   "source": [
    "print(timeit_results)"
   ]
  },
  {
   "cell_type": "markdown",
   "metadata": {},
   "source": [
    "# Most Common Operations"
   ]
  }
 ],
 "metadata": {
  "hide_input": false,
  "kernelspec": {
   "display_name": "Python 3",
   "language": "python",
   "name": "python3"
  },
  "language_info": {
   "codemirror_mode": {
    "name": "ipython",
    "version": 3
   },
   "file_extension": ".py",
   "mimetype": "text/x-python",
   "name": "python",
   "nbconvert_exporter": "python",
   "pygments_lexer": "ipython3",
   "version": "3.7.4"
  }
 },
 "nbformat": 4,
 "nbformat_minor": 2
}
